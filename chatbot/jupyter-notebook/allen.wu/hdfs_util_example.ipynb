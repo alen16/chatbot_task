{
 "cells": [
  {
   "cell_type": "markdown",
   "id": "6834e930",
   "metadata": {},
   "source": [
    "# Download HDFS file"
   ]
  },
  {
   "cell_type": "code",
   "execution_count": 3,
   "id": "ad7b552b",
   "metadata": {},
   "outputs": [
    {
     "data": {
      "text/plain": [
       "'/cache/nlu_text_processr_service.proto'"
      ]
     },
     "execution_count": 3,
     "metadata": {},
     "output_type": "execute_result"
    }
   ],
   "source": [
    "import taboola.common.datasethelper.hdfs_utils as hdfs_utils\n",
    "\n",
    "hdfs_prefix = \"hdfs://nr-hbase-c-hdfs.service.consul.taboolasyndication.com:8020\"\n",
    "hdfs_sub_data_dir = \"/newsroom-backend/jupyter/notebooks/allen.wu/nlu_text_processr_service.proto\"\n",
    "hdfs_data_dir = hdfs_prefix + hdfs_sub_data_dir\n",
    "hdfs_utils.get(hdfs_data_dir, \"/cache\") "
   ]
  },
  {
   "cell_type": "code",
   "execution_count": 4,
   "id": "f07ff05c",
   "metadata": {},
   "outputs": [
    {
     "ename": "NameError",
     "evalue": "name 'nlu_text_processr_service' is not defined",
     "output_type": "error",
     "traceback": [
      "\u001b[0;31m---------------------------------------------------------------------------\u001b[0m",
      "\u001b[0;31mNameError\u001b[0m                                 Traceback (most recent call last)",
      "\u001b[0;32m<ipython-input-4-d8233b91c9b0>\u001b[0m in \u001b[0;36m<module>\u001b[0;34m\u001b[0m\n\u001b[1;32m      8\u001b[0m     \u001b[0msys\u001b[0m\u001b[0;34m.\u001b[0m\u001b[0mexit\u001b[0m\u001b[0;34m(\u001b[0m\u001b[0;34m'Error connecting to server'\u001b[0m\u001b[0;34m)\u001b[0m\u001b[0;34m\u001b[0m\u001b[0;34m\u001b[0m\u001b[0m\n\u001b[1;32m      9\u001b[0m \u001b[0;32melse\u001b[0m\u001b[0;34m:\u001b[0m\u001b[0;34m\u001b[0m\u001b[0;34m\u001b[0m\u001b[0m\n\u001b[0;32m---> 10\u001b[0;31m     \u001b[0mstub\u001b[0m \u001b[0;34m=\u001b[0m \u001b[0mnlu_text_processr_service\u001b[0m\u001b[0;34m.\u001b[0m\u001b[0mTRSNLUTextProcessorServiceStub\u001b[0m\u001b[0;34m(\u001b[0m\u001b[0mchannel\u001b[0m\u001b[0;34m)\u001b[0m\u001b[0;34m\u001b[0m\u001b[0;34m\u001b[0m\u001b[0m\n\u001b[0m",
      "\u001b[0;31mNameError\u001b[0m: name 'nlu_text_processr_service' is not defined"
     ]
    }
   ],
   "source": [
    "import grpc\n",
    "import sys\n",
    "\n",
    "channel = grpc.insecure_channel('nlu-text-processor.taboolasyndication.com:5051')\n",
    "try:\n",
    "    grpc.channel_ready_future(channel).result(timeout=10)\n",
    "except grpc.FutureTimeoutError:\n",
    "    sys.exit('Error connecting to server')\n",
    "else:\n",
    "    stub = nlu_text_processr_service.TRSNLUTextProcessorServiceStub(channel)"
   ]
  }
 ],
 "metadata": {
  "kernelspec": {
   "display_name": "Python 3",
   "language": "python",
   "name": "python3"
  },
  "language_info": {
   "codemirror_mode": {
    "name": "ipython",
    "version": 3
   },
   "file_extension": ".py",
   "mimetype": "text/x-python",
   "name": "python",
   "nbconvert_exporter": "python",
   "pygments_lexer": "ipython3",
   "version": "3.7.7"
  }
 },
 "nbformat": 4,
 "nbformat_minor": 5
}