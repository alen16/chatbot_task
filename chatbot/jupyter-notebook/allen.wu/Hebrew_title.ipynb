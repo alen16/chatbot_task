{
 "cells": [
  {
   "cell_type": "markdown",
   "id": "8178b36a",
   "metadata": {},
   "source": [
    "# Turn parquet to pickle file"
   ]
  },
  {
   "cell_type": "code",
   "execution_count": 5,
   "id": "a5356a33",
   "metadata": {},
   "outputs": [],
   "source": [
    "import sys\n",
    "sys.path.append(\"../topic_discovery\")\n",
    "import numpy as np"
   ]
  },
  {
   "cell_type": "code",
   "execution_count": 6,
   "id": "8454cd6f",
   "metadata": {},
   "outputs": [
    {
     "name": "stderr",
     "output_type": "stream",
     "text": [
      "Setting default log level to \"WARN\".\n",
      "To adjust logging level use sc.setLogLevel(newLevel). For SparkR, use setLogLevel(newLevel).\n"
     ]
    },
    {
     "name": "stdout",
     "output_type": "stream",
     "text": [
      "22/08/29 11:55:44 WARN NativeCodeLoader: Unable to load native-hadoop library for your platform... using builtin-java classes where applicable\n"
     ]
    }
   ],
   "source": [
    "from pyspark import SparkContext\n",
    "\n",
    "sc = SparkContext(\"local\", \"Simple App\")"
   ]
  },
  {
   "cell_type": "code",
   "execution_count": 7,
   "id": "846a95c0",
   "metadata": {},
   "outputs": [
    {
     "name": "stderr",
     "output_type": "stream",
     "text": [
      "/anaconda/lib/python3.7/site-packages/pyspark/sql/context.py:114: FutureWarning: Deprecated in 3.0.0. Use SparkSession.builder.getOrCreate() instead.\n",
      "  FutureWarning,\n"
     ]
    }
   ],
   "source": [
    "from pyspark import SQLContext\n",
    "sqlContext = SQLContext(sc)"
   ]
  },
  {
   "cell_type": "code",
   "execution_count": 8,
   "id": "58d438e5",
   "metadata": {},
   "outputs": [
    {
     "name": "stderr",
     "output_type": "stream",
     "text": [
      "                                                                                \r"
     ]
    },
    {
     "name": "stdout",
     "output_type": "stream",
     "text": [
      "root\n",
      " |-- title: string (nullable = true)\n",
      "\n"
     ]
    }
   ],
   "source": [
    "df = sqlContext.read.parquet(\"hdfs://nr-hbase-c-hdfs.service.consul.taboolasyndication.com/newsroom-backend/insights/wikipedia/hebrew_page_text/titles\")\n",
    "\n",
    "df.printSchema()"
   ]
  },
  {
   "cell_type": "code",
   "execution_count": 9,
   "id": "168d583e",
   "metadata": {},
   "outputs": [
    {
     "name": "stdout",
     "output_type": "stream",
     "text": [
      "+--------------+\n",
      "|         title|\n",
      "+--------------+\n",
      "|חוקי פרנל-ארגו|\n",
      "| אנסטסיוס השני|\n",
      "|   מפרץ סרסוטה|\n",
      "| מפרץ סאראסוטה|\n",
      "|   קיטוב רוחבי|\n",
      "|   נערה בהפרעה|\n",
      "|       קאן-קאן|\n",
      "|       קאן קאן|\n",
      "|  ס\"כ נס ציונה|\n",
      "|     עצמי כוזב|\n",
      "+--------------+\n",
      "only showing top 10 rows\n",
      "\n"
     ]
    },
    {
     "name": "stderr",
     "output_type": "stream",
     "text": [
      "                                                                                \r"
     ]
    }
   ],
   "source": [
    "df.show(10, True)"
   ]
  },
  {
   "cell_type": "code",
   "execution_count": 10,
   "id": "97cb51a7",
   "metadata": {},
   "outputs": [
    {
     "name": "stderr",
     "output_type": "stream",
     "text": [
      "                                                                                \r"
     ]
    },
    {
     "data": {
      "text/html": [
       "<div>\n",
       "<style scoped>\n",
       "    .dataframe tbody tr th:only-of-type {\n",
       "        vertical-align: middle;\n",
       "    }\n",
       "\n",
       "    .dataframe tbody tr th {\n",
       "        vertical-align: top;\n",
       "    }\n",
       "\n",
       "    .dataframe thead th {\n",
       "        text-align: right;\n",
       "    }\n",
       "</style>\n",
       "<table border=\"1\" class=\"dataframe\">\n",
       "  <thead>\n",
       "    <tr style=\"text-align: right;\">\n",
       "      <th></th>\n",
       "      <th>title</th>\n",
       "    </tr>\n",
       "  </thead>\n",
       "  <tbody>\n",
       "    <tr>\n",
       "      <th>0</th>\n",
       "      <td>חוקי פרנל-ארגו</td>\n",
       "    </tr>\n",
       "    <tr>\n",
       "      <th>1</th>\n",
       "      <td>אנסטסיוס השני</td>\n",
       "    </tr>\n",
       "    <tr>\n",
       "      <th>2</th>\n",
       "      <td>מפרץ סרסוטה</td>\n",
       "    </tr>\n",
       "    <tr>\n",
       "      <th>3</th>\n",
       "      <td>מפרץ סאראסוטה</td>\n",
       "    </tr>\n",
       "    <tr>\n",
       "      <th>4</th>\n",
       "      <td>קיטוב רוחבי</td>\n",
       "    </tr>\n",
       "    <tr>\n",
       "      <th>...</th>\n",
       "      <td>...</td>\n",
       "    </tr>\n",
       "    <tr>\n",
       "      <th>509798</th>\n",
       "      <td>קניון מרטין הבן</td>\n",
       "    </tr>\n",
       "    <tr>\n",
       "      <th>509799</th>\n",
       "      <td>קניון מרטין ג'וניור</td>\n",
       "    </tr>\n",
       "    <tr>\n",
       "      <th>509800</th>\n",
       "      <td>קיי. ג'יי. מרטין</td>\n",
       "    </tr>\n",
       "    <tr>\n",
       "      <th>509801</th>\n",
       "      <td>יהודה גרינוולד (רב)</td>\n",
       "    </tr>\n",
       "    <tr>\n",
       "      <th>509802</th>\n",
       "      <td>גזה מנספלד</td>\n",
       "    </tr>\n",
       "  </tbody>\n",
       "</table>\n",
       "<p>509803 rows × 1 columns</p>\n",
       "</div>"
      ],
      "text/plain": [
       "                      title\n",
       "0            חוקי פרנל-ארגו\n",
       "1             אנסטסיוס השני\n",
       "2               מפרץ סרסוטה\n",
       "3             מפרץ סאראסוטה\n",
       "4               קיטוב רוחבי\n",
       "...                     ...\n",
       "509798      קניון מרטין הבן\n",
       "509799  קניון מרטין ג'וניור\n",
       "509800     קיי. ג'יי. מרטין\n",
       "509801  יהודה גרינוולד (רב)\n",
       "509802           גזה מנספלד\n",
       "\n",
       "[509803 rows x 1 columns]"
      ]
     },
     "execution_count": 10,
     "metadata": {},
     "output_type": "execute_result"
    }
   ],
   "source": [
    "import pandas as pd\n",
    "\n",
    "pandas_df = df.toPandas()\n",
    "pandas_df"
   ]
  },
  {
   "cell_type": "code",
   "execution_count": 11,
   "id": "318ee2d7",
   "metadata": {},
   "outputs": [],
   "source": [
    "pandas_df.to_pickle(\"/cache/hebrew_title.pkl\")"
   ]
  },
  {
   "cell_type": "code",
   "execution_count": 17,
   "id": "9f48e45d",
   "metadata": {},
   "outputs": [
    {
     "data": {
      "text/html": [
       "<div>\n",
       "<style scoped>\n",
       "    .dataframe tbody tr th:only-of-type {\n",
       "        vertical-align: middle;\n",
       "    }\n",
       "\n",
       "    .dataframe tbody tr th {\n",
       "        vertical-align: top;\n",
       "    }\n",
       "\n",
       "    .dataframe thead th {\n",
       "        text-align: right;\n",
       "    }\n",
       "</style>\n",
       "<table border=\"1\" class=\"dataframe\">\n",
       "  <thead>\n",
       "    <tr style=\"text-align: right;\">\n",
       "      <th></th>\n",
       "      <th>title</th>\n",
       "    </tr>\n",
       "  </thead>\n",
       "  <tbody>\n",
       "    <tr>\n",
       "      <th>0</th>\n",
       "      <td>חוקי פרנל-ארגו</td>\n",
       "    </tr>\n",
       "    <tr>\n",
       "      <th>1</th>\n",
       "      <td>אנסטסיוס השני</td>\n",
       "    </tr>\n",
       "    <tr>\n",
       "      <th>2</th>\n",
       "      <td>מפרץ סרסוטה</td>\n",
       "    </tr>\n",
       "    <tr>\n",
       "      <th>3</th>\n",
       "      <td>מפרץ סאראסוטה</td>\n",
       "    </tr>\n",
       "    <tr>\n",
       "      <th>4</th>\n",
       "      <td>קיטוב רוחבי</td>\n",
       "    </tr>\n",
       "    <tr>\n",
       "      <th>...</th>\n",
       "      <td>...</td>\n",
       "    </tr>\n",
       "    <tr>\n",
       "      <th>509798</th>\n",
       "      <td>קניון מרטין הבן</td>\n",
       "    </tr>\n",
       "    <tr>\n",
       "      <th>509799</th>\n",
       "      <td>קניון מרטין ג'וניור</td>\n",
       "    </tr>\n",
       "    <tr>\n",
       "      <th>509800</th>\n",
       "      <td>קיי. ג'יי. מרטין</td>\n",
       "    </tr>\n",
       "    <tr>\n",
       "      <th>509801</th>\n",
       "      <td>יהודה גרינוולד (רב)</td>\n",
       "    </tr>\n",
       "    <tr>\n",
       "      <th>509802</th>\n",
       "      <td>גזה מנספלד</td>\n",
       "    </tr>\n",
       "  </tbody>\n",
       "</table>\n",
       "<p>509803 rows × 1 columns</p>\n",
       "</div>"
      ],
      "text/plain": [
       "                      title\n",
       "0            חוקי פרנל-ארגו\n",
       "1             אנסטסיוס השני\n",
       "2               מפרץ סרסוטה\n",
       "3             מפרץ סאראסוטה\n",
       "4               קיטוב רוחבי\n",
       "...                     ...\n",
       "509798      קניון מרטין הבן\n",
       "509799  קניון מרטין ג'וניור\n",
       "509800     קיי. ג'יי. מרטין\n",
       "509801  יהודה גרינוולד (רב)\n",
       "509802           גזה מנספלד\n",
       "\n",
       "[509803 rows x 1 columns]"
      ]
     },
     "execution_count": 17,
     "metadata": {},
     "output_type": "execute_result"
    }
   ],
   "source": [
    "df = pandas_df.replace('בירושלים' ,'ירושלים')\n",
    "df"
   ]
  },
  {
   "cell_type": "code",
   "execution_count": 18,
   "id": "3603b109",
   "metadata": {},
   "outputs": [],
   "source": [
    "df.to_pickle(\"/cache/hebrew_title.pkl\")"
   ]
  },
  {
   "cell_type": "code",
   "execution_count": 4,
   "id": "8b762f6e",
   "metadata": {},
   "outputs": [
    {
     "name": "stdout",
     "output_type": "stream",
     "text": [
      "Found 4 items\n",
      "drwxr-xr-x   - newsroom newsroom          0 2021-07-08 03:47 hdfs://nr-hdfs.service.consul.taboolasyndication.com/newsroom-backend/insights/wikipedia/hebrew_page_text/20210707\n",
      "-rw-r--r--   3 newsroom newsroom   14039889 2021-07-15 05:51 hdfs://nr-hdfs.service.consul.taboolasyndication.com/newsroom-backend/insights/wikipedia/hebrew_page_text/hebrew_title.pkl\n",
      "-rw-r--r--   3 newsroom newsroom   13016681 2021-10-28 20:13 hdfs://nr-hdfs.service.consul.taboolasyndication.com/newsroom-backend/insights/wikipedia/hebrew_page_text/hebrew_title.txt\n",
      "-rw-r--r--   3 newsroom newsroom    4186865 2021-11-01 23:38 hdfs://nr-hdfs.service.consul.taboolasyndication.com/newsroom-backend/insights/wikipedia/hebrew_page_text/hebrew_title.txt.gz\n"
     ]
    }
   ],
   "source": [
    "#!hadoop fs -put /cache/hebrew_title.pkl hdfs://nr-hbase-c-hdfs.service.consul.taboolasyndication.com/newsroom-backend/insights/wikipedia/hebrew_page_text\n",
    "!hadoop fs -ls hdfs://nr-hdfs.service.consul.taboolasyndication.com/newsroom-backend/insights/wikipedia/hebrew_page_text/"
   ]
  },
  {
   "cell_type": "code",
   "execution_count": 2,
   "id": "4556a7c2",
   "metadata": {},
   "outputs": [
    {
     "name": "stdout",
     "output_type": "stream",
     "text": [
      "2022-09-05 06:56:44,456 INFO sasl.SaslDataTransferClient: SASL encryption trust check: localHostTrusted = false, remoteHostTrusted = false\n"
     ]
    }
   ],
   "source": [
    "!hadoop fs -get hdfs://nr-hdfs.service.consul.taboolasyndication.com/newsroom-backend/insights/wikipedia/hebrew_page_text/hebrew_title.pkl /cache"
   ]
  },
  {
   "cell_type": "markdown",
   "id": "11139787",
   "metadata": {},
   "source": [
    "# Load picked file and turn title list to set"
   ]
  },
  {
   "cell_type": "code",
   "execution_count": 5,
   "id": "558ecedc",
   "metadata": {},
   "outputs": [
    {
     "data": {
      "text/html": [
       "<div>\n",
       "<style scoped>\n",
       "    .dataframe tbody tr th:only-of-type {\n",
       "        vertical-align: middle;\n",
       "    }\n",
       "\n",
       "    .dataframe tbody tr th {\n",
       "        vertical-align: top;\n",
       "    }\n",
       "\n",
       "    .dataframe thead th {\n",
       "        text-align: right;\n",
       "    }\n",
       "</style>\n",
       "<table border=\"1\" class=\"dataframe\">\n",
       "  <thead>\n",
       "    <tr style=\"text-align: right;\">\n",
       "      <th></th>\n",
       "      <th>title</th>\n",
       "    </tr>\n",
       "  </thead>\n",
       "  <tbody>\n",
       "    <tr>\n",
       "      <th>0</th>\n",
       "      <td>חוקי פרנל-ארגו</td>\n",
       "    </tr>\n",
       "    <tr>\n",
       "      <th>1</th>\n",
       "      <td>אנסטסיוס השני</td>\n",
       "    </tr>\n",
       "    <tr>\n",
       "      <th>2</th>\n",
       "      <td>מפרץ סרסוטה</td>\n",
       "    </tr>\n",
       "    <tr>\n",
       "      <th>3</th>\n",
       "      <td>מפרץ סאראסוטה</td>\n",
       "    </tr>\n",
       "    <tr>\n",
       "      <th>4</th>\n",
       "      <td>קיטוב רוחבי</td>\n",
       "    </tr>\n",
       "    <tr>\n",
       "      <th>...</th>\n",
       "      <td>...</td>\n",
       "    </tr>\n",
       "    <tr>\n",
       "      <th>509798</th>\n",
       "      <td>קניון מרטין הבן</td>\n",
       "    </tr>\n",
       "    <tr>\n",
       "      <th>509799</th>\n",
       "      <td>קניון מרטין ג'וניור</td>\n",
       "    </tr>\n",
       "    <tr>\n",
       "      <th>509800</th>\n",
       "      <td>קיי. ג'יי. מרטין</td>\n",
       "    </tr>\n",
       "    <tr>\n",
       "      <th>509801</th>\n",
       "      <td>יהודה גרינוולד (רב)</td>\n",
       "    </tr>\n",
       "    <tr>\n",
       "      <th>509802</th>\n",
       "      <td>גזה מנספלד</td>\n",
       "    </tr>\n",
       "  </tbody>\n",
       "</table>\n",
       "<p>509803 rows × 1 columns</p>\n",
       "</div>"
      ],
      "text/plain": [
       "                      title\n",
       "0            חוקי פרנל-ארגו\n",
       "1             אנסטסיוס השני\n",
       "2               מפרץ סרסוטה\n",
       "3             מפרץ סאראסוטה\n",
       "4               קיטוב רוחבי\n",
       "...                     ...\n",
       "509798      קניון מרטין הבן\n",
       "509799  קניון מרטין ג'וניור\n",
       "509800     קיי. ג'יי. מרטין\n",
       "509801  יהודה גרינוולד (רב)\n",
       "509802           גזה מנספלד\n",
       "\n",
       "[509803 rows x 1 columns]"
      ]
     },
     "execution_count": 5,
     "metadata": {},
     "output_type": "execute_result"
    }
   ],
   "source": [
    "import pandas as pd\n",
    "\n",
    "unpickled_df = pd.read_pickle(\"/cache/hebrew_title.pkl\")\n",
    "unpickled_df"
   ]
  },
  {
   "cell_type": "code",
   "execution_count": 12,
   "id": "044b5d8b",
   "metadata": {},
   "outputs": [
    {
     "name": "stdout",
     "output_type": "stream",
     "text": [
      "Looking in indexes: https://artifactory.taboolasyndication.com/artifactory/api/pypi/python-public/simple\n",
      "Looking in links: https://artifactory.taboolasyndication.com/artifactory/generic/topic-disco/whl\n",
      "Collecting hebrew-tokenizer\n",
      "  Downloading https://artifactory.taboolasyndication.com/artifactory/api/pypi/python-public/packages/packages/87/35/a56b3f07eacd06cfded8ec18d9ebe3d6a4c63d31d056f076d860930b1a70/hebrew_tokenizer-2.3.0.tar.gz\n",
      "Building wheels for collected packages: hebrew-tokenizer\n",
      "  Building wheel for hebrew-tokenizer (setup.py) ... \u001b[?25ldone\n",
      "\u001b[?25h  Created wheel for hebrew-tokenizer: filename=hebrew_tokenizer-2.3.0-cp37-none-any.whl size=13431 sha256=fb2efb6e263da2dd6ae0f10311c54549e98a7aa66f2f025ae391dacfe6db4337\n",
      "  Stored in directory: /root/.cache/pip/wheels/a8/43/3c/29d12ef4a8ef0dbfd79a36a1394d81034c7fe8fdf4a46a6bc6\n",
      "Successfully built hebrew-tokenizer\n",
      "Installing collected packages: hebrew-tokenizer\n",
      "Successfully installed hebrew-tokenizer-2.3.0\n",
      "\u001b[33mWARNING: You are using pip version 19.3.1; however, version 22.2.2 is available.\n",
      "You should consider upgrading via the 'pip install --upgrade pip' command.\u001b[0m\n"
     ]
    }
   ],
   "source": [
    "!pip install hebrew-tokenizer"
   ]
  },
  {
   "cell_type": "code",
   "execution_count": 15,
   "id": "0c651d71",
   "metadata": {},
   "outputs": [
    {
     "name": "stdout",
     "output_type": "stream",
     "text": [
      "HEBREW, וגם\n",
      "PUNCTUATION, :\n",
      "HEBREW, ביטוחי\n",
      "HEBREW, מנהלים\n",
      "PUNCTUATION, -\n",
      "HEBREW, זמן\n",
      "HEBREW, להוריד\n",
      "HEBREW, מהמדף\n",
      "PUNCTUATION, ,\n",
      "HEBREW, המשפטים\n",
      "HEBREW, הבהיר\n",
      "HEBREW, שחוק\n",
      "HEBREW, התקשורת\n",
      "HEBREW, לא\n",
      "HEBREW, יוכל\n",
      "HEBREW, לעבור\n",
      "HEBREW, במושב\n",
      "HEBREW, הנוכחי\n",
      "PUNCTUATION, ,\n",
      "HEBREW, העדלאידע\n",
      "HEBREW, משתקת\n",
      "HEBREW, את\n",
      "HEBREW, המשק\n",
      "HEBREW, והפתעה\n",
      "HEBREW, במשחקי\n",
      "HEBREW, הבייסבול\n"
     ]
    }
   ],
   "source": [
    "import hebrew_tokenizer as ht\n",
    "hebrew_text = \"וגם: ביטוחי מנהלים - זמן להוריד מהמדף, המשפטים הבהיר שחוק התקשורת לא יוכל לעבור במושב הנוכחי, העדלאידע משתקת את המשק והפתעה במשחקי הבייסבול\"\n",
    "tokens = ht.tokenize(hebrew_text)  # tokenize returns a generator!\n",
    "for grp, token, token_num, (start_index, end_index) in tokens:\n",
    "    print('{}, {}'.format(grp, token))"
   ]
  },
  {
   "cell_type": "code",
   "execution_count": 7,
   "id": "209e9c1b",
   "metadata": {},
   "outputs": [],
   "source": [
    "title_list = unpickled_df['title'].to_list()"
   ]
  },
  {
   "cell_type": "code",
   "execution_count": 8,
   "id": "8b5c8f8f",
   "metadata": {},
   "outputs": [
    {
     "name": "stdout",
     "output_type": "stream",
     "text": [
      "False\n",
      "True\n"
     ]
    }
   ],
   "source": [
    "print('מפעלי' in title_list)\n",
    "print('מפעל' in title_list)"
   ]
  },
  {
   "cell_type": "code",
   "execution_count": 9,
   "id": "7d56c205",
   "metadata": {},
   "outputs": [
    {
     "name": "stdout",
     "output_type": "stream",
     "text": [
      "False\n",
      "True\n"
     ]
    }
   ],
   "source": [
    "print('צפוי' in title_list)\n",
    "print('צפו' in title_list)"
   ]
  },
  {
   "cell_type": "code",
   "execution_count": 10,
   "id": "deaeab71",
   "metadata": {},
   "outputs": [
    {
     "name": "stdout",
     "output_type": "stream",
     "text": [
      "True\n",
      "False\n"
     ]
    }
   ],
   "source": [
    "print('הרוסי' in title_list)\n",
    "print('הרוס' in title_list)"
   ]
  },
  {
   "cell_type": "code",
   "execution_count": 20,
   "id": "980b7b31",
   "metadata": {},
   "outputs": [
    {
     "name": "stdout",
     "output_type": "stream",
     "text": [
      "False\n"
     ]
    }
   ],
   "source": [
    "from os import path\n",
    "\n",
    "print(path.exists(\"/cache/123.txt\"))"
   ]
  },
  {
   "cell_type": "code",
   "execution_count": 21,
   "id": "54e0df0a",
   "metadata": {},
   "outputs": [],
   "source": [
    "title_list = set(unpickled_df[\"title\"])"
   ]
  },
  {
   "cell_type": "code",
   "execution_count": 22,
   "id": "e0873465",
   "metadata": {},
   "outputs": [
    {
     "name": "stdout",
     "output_type": "stream",
     "text": [
      "False\n",
      "True\n"
     ]
    }
   ],
   "source": [
    "print('בירושלים' in title_list)\n",
    "print('ירושלים' in title_list)"
   ]
  },
  {
   "cell_type": "code",
   "execution_count": 28,
   "id": "563f5421",
   "metadata": {},
   "outputs": [
    {
     "name": "stdout",
     "output_type": "stream",
     "text": [
      "False\n",
      "True\n"
     ]
    }
   ],
   "source": [
    "print('ביטוחי' in title_list)\n",
    "print('ביטוח' in title_list)"
   ]
  },
  {
   "cell_type": "code",
   "execution_count": 11,
   "id": "7d9f9d43",
   "metadata": {},
   "outputs": [
    {
     "name": "stdout",
     "output_type": "stream",
     "text": [
      "False\n",
      "False\n"
     ]
    }
   ],
   "source": [
    "print('פרופי' in title_list)\n",
    "print('פרופ' in title_list)"
   ]
  },
  {
   "cell_type": "code",
   "execution_count": 251,
   "id": "6ecef625",
   "metadata": {},
   "outputs": [
    {
     "name": "stdout",
     "output_type": "stream",
     "text": [
      "True\n"
     ]
    }
   ],
   "source": [
    "print(\"title\" in unpickled_df)"
   ]
  },
  {
   "cell_type": "code",
   "execution_count": 264,
   "id": "d3ad8f43",
   "metadata": {},
   "outputs": [
    {
     "name": "stdout",
     "output_type": "stream",
     "text": [
      "None\n"
     ]
    }
   ],
   "source": [
    "wikipedia_text_file = None\n",
    "if not wikipedia_text_file is None:\n",
    "    print(\"Not None\")\n",
    "else:\n",
    "    print(\"None\")"
   ]
  },
  {
   "cell_type": "code",
   "execution_count": 269,
   "id": "d30c7e01",
   "metadata": {},
   "outputs": [
    {
     "name": "stdout",
     "output_type": "stream",
     "text": [
      "Wikipedia data incorrect! Please check: None\n"
     ]
    }
   ],
   "source": [
    "df = pd.DataFrame()\n",
    "def get_title_list(df):\n",
    "    if \"title\" not in df:\n",
    "        print(\"Wikipedia data incorrect! Please check: {}\".format(wikipedia_text_file))\n",
    "        return set()\n",
    "    return set(df[\"title\"])\n",
    "\n",
    "title_list = get_title_list(df)"
   ]
  },
  {
   "cell_type": "code",
   "execution_count": 274,
   "id": "28b8d155",
   "metadata": {},
   "outputs": [
    {
     "name": "stdout",
     "output_type": "stream",
     "text": [
      "True\n"
     ]
    }
   ],
   "source": [
    "print(\"צ'כיה\" in title_list)"
   ]
  },
  {
   "cell_type": "markdown",
   "id": "89de8a23",
   "metadata": {},
   "source": [
    "# Calling Embark to get Hebrew entities"
   ]
  },
  {
   "cell_type": "code",
   "execution_count": 179,
   "id": "7b7aace9",
   "metadata": {},
   "outputs": [],
   "source": [
    "from deep_common.deep_common_embark_connector import EmbarkConnector\n",
    "from deep_common.deep_const import EmbarkChannelAddress, EMBARK_SCORING_BATCH_SIZE, EMBARK_TIMEOUT_DEEP_SCORER\n",
    "\n",
    "embark_connector = EmbarkConnector(\"embark.taboolasyndication.com:5051\")\n",
    "\n",
    "# input format is a json string of build_predict_model that is defined in py36/taboola/nlu/nlu_api_server/api_server.py\n",
    "#batch = ['{\"input\": \"המוזיקה חוזרת לטברנות ביוון וטורקיה שוב זמינה: תמונת מצב ביעדים האהובים\", \"config\": {\"limit\": 10}, \"language\": \"he\" }']\n",
    "batch = ['{\"input\": \"זוכת פרס סוקולוב: קרינה שטוטלנד, עורכת לאשה\", \"config\": {\"limit\": 10}, \"language\": \"he\" }']\n",
    "# batch = ['How did Coronavirus break out? Theories abound as researchers race to solve genetic detective']\n",
    "# model_label is the model name that is defined in copy_model.sh\n",
    "result = embark_connector.get_entity_embeddings(model_label='entities-multi',\n",
    "                                                entity_ids=batch,\n",
    "                                                batch_size=250,\n",
    "                                                timeout_per_batch=30,\n",
    "                                                sync=True)"
   ]
  },
  {
   "cell_type": "code",
   "execution_count": 232,
   "id": "d0ada757",
   "metadata": {},
   "outputs": [
    {
     "name": "stdout",
     "output_type": "stream",
     "text": [
      "['{\"IOB_tags\": [\"O\", \"O\", \"O\", \"O\", \"O\", \"O\", \"O\", \"O\", \"O\", \"O\", \"O\", \"O\", \"O\", \"O\", \"O\", \"O\", \"O\", \"O\"], \"entities\": []}', '{\"IOB_tags\": [\"B-Location\", \"O\", \"O\", \"B-Person\", \"O\", \"O\", \"O\", \"O\", \"O\", \"O\"], \"entities\": [[\"\\\\u05d1\\\\u05e8\\\\u05d1\\\\u05d9\\\\u05d1\\\\u05d0\\\\u05d9\", 0.9771886467933655, \"Location\"], [\"\\\\u05e4\\\\u05e8\\\\u05e5\", 0.9912943243980408, \"Person\"]]}', '{\"IOB_tags\": [\"O\", \"O\", \"O\", \"O\", \"O\", \"O\", \"O\", \"O\", \"O\", \"O\", \"O\", \"B-Location\"], \"entities\": [[\"\\\\u05e9\\\\u05db\\\\u05dd\", 0.9338584542274475, \"Location\"]]}', '{\"IOB_tags\": [\"O\", \"O\", \"O\", \"O\", \"B-Location\", \"O\", \"B-Organization\", \"O\", \"O\", \"O\", \"O\"], \"entities\": [[\"\\\\u05d1\\\\u05d9\\\\u05e8\\\\u05d5\\\\u05e9\\\\u05dc\\\\u05d9\\\\u05dd\", 0.9927451610565186, \"Location\"], [\"\\\\u05e6\\\\u05d4\\\\u05dc\", 0.8921674489974976, \"Organization\"]]}', '{\"IOB_tags\": [\"O\", \"O\", \"O\", \"O\", \"O\", \"O\", \"O\", \"O\", \"O\", \"O\", \"O\"], \"entities\": []}', '{\"IOB_tags\": [\"O\", \"O\", \"O\", \"O\", \"O\", \"O\", \"B-Location\"], \"entities\": [[\"\\\\u05d1\\\\u05d7\\\\u05d3\\\\u05e8\\\\u05d4\", 0.9991934895515442, \"Location\"]]}', '{\"IOB_tags\": [\"O\", \"O\", \"O\", \"O\", \"B-Location\", \"O\", \"O\", \"O\", \"O\", \"O\"], \"entities\": [[\"\\\\u05dc\\\\u05d5\\\\u05e4\\\\u05df\", 0.9874908924102783, \"Location\"]]}', '{\"IOB_tags\": [\"O\", \"O\", \"O\", \"O\", \"O\", \"O\", \"O\", \"O\", \"O\", \"B-Location\"], \"entities\": [[\"\\\\u05d8\\\\u05d0\\\\u05e7\\\\u05d5\", 0.9709859490394592, \"Location\"]]}', '{\"IOB_tags\": [\"B-Person\", \"I-Person\", \"O\", \"O\", \"O\", \"O\", \"O\", \"O\"], \"entities\": [[\"\\\\u05e9\\\\u05de\\\\u05d7\\\\u05d4 \\\\u05e8\\\\u05d5\\\\u05d8\\\\u05de\\\\u05df\", 0.9996119141578674, \"Person\"]]}', '{\"IOB_tags\": [\"B-Location\", \"O\", \"O\", \"O\", \"O\", \"O\", \"O\", \"B-Location\"], \"entities\": [[\"\\\\u05d1\\\\u05d0\\\\u05d9\\\\u05d8\\\\u05dc\\\\u05d9\\\\u05d4\", 0.9994908571243286, \"Location\"], [\"\\\\u05d5\\\\u05e0\\\\u05e6\\\\u05d9\\\\u05d4\", 0.9637407660484314, \"Location\"]]}', '{\"IOB_tags\": [\"B-Miscellaneous\", \"I-Miscellaneous\", \"O\", \"O\", \"O\", \"O\", \"O\", \"O\", \"O\"], \"entities\": [[\"\\\\u05ea\\\\u05de\\\\u05d0 38\", 0.9996510148048401, \"Miscellaneous\"]]}', '{\"IOB_tags\": [\"O\", \"O\", \"O\", \"O\", \"O\", \"O\", \"B-Location\", \"O\", \"O\", \"B-Location\", \"I-Location\", \"O\", \"O\", \"O\"], \"entities\": [[\"\\\\u05d0\\\\u05d9\\\\u05dc\\\\u05ea\", 0.9978575110435486, \"Location\"], [\"\\\\u05de\\\\u05d2\\\\u05e8\\\\u05e2\\\\u05d9\\\\u05df \\\\u05e0\\\\u05d7\\\\u05dc\", 0.9779624342918396, \"Location\"]]}', '{\"IOB_tags\": [\"O\", \"O\", \"O\", \"O\", \"O\", \"O\"], \"entities\": []}', '{\"IOB_tags\": [\"B-Person\", \"I-Person\", \"O\", \"O\", \"O\", \"O\", \"O\", \"O\", \"O\", \"O\", \"B-Organization\"], \"entities\": [[\"\\\\u05d2\\\\u05d3\\\\u05e2\\\\u05d5\\\\u05df \\\\u05e1\\\\u05e2\\\\u05e8\", 0.9991706609725952, \"Person\"], [\"\\\\u05de\\\\u05e0\\\\u05d3\\\\u05dc\\\\u05d1\\\\u05dc\\\\u05d9\\\\u05d8\", 0.9024451971054077, \"Organization\"]]}', '{\"IOB_tags\": [\"B-Organization\", \"O\", \"O\", \"B-Person\", \"I-Person\", \"O\", \"O\", \"O\", \"O\", \"O\", \"O\", \"O\", \"O\", \"O\", \"O\", \"B-Person\"], \"entities\": [[\"\\\\u05d1\\\\u05e0\\\\u05d8\", 0.6248018741607666, \"Organization\"], [\"\\\\u05e2\\\\u05de\\\\u05e0\\\\u05d5\\\\u05d0\\\\u05dc \\\\u05de\\\\u05d5\\\\u05e8\\\\u05e0\\\\u05d5\", 0.9949772357940674, \"Person\"], [\"\\\\u05e2\\\\u05de\\\\u05e0\\\\u05d5\\\\u05d0\\\\u05dc\", 0.9883251190185547, \"Person\"]]}', '{\"IOB_tags\": [\"O\", \"O\", \"O\", \"O\", \"O\", \"B-Organization\"], \"entities\": [[\"\\\\u05e4\\\\u05d9\\\\u05e0\\\\u05d9\\\\u05e7\\\\u05e1\", 0.9953673481941223, \"Organization\"]]}', '{\"IOB_tags\": [\"O\", \"O\", \"O\", \"O\", \"O\", \"O\", \"O\"], \"entities\": []}', '{\"IOB_tags\": [\"O\", \"O\", \"O\", \"O\", \"O\", \"O\", \"O\", \"O\", \"O\", \"O\", \"O\", \"O\", \"O\", \"O\"], \"entities\": []}', '{\"IOB_tags\": [\"O\", \"O\", \"B-Person\", \"I-Person\", \"O\", \"O\", \"O\", \"O\"], \"entities\": [[\"\\\\u05de\\\\u05d9\\\\u05e7\\\\u05d9 \\\\u05d6\\\\u05d5\\\\u05d4\\\\u05e8\", 0.9995661973953247, \"Person\"]]}', '{\"IOB_tags\": [\"O\", \"B-Organization\", \"I-Organization\", \"O\", \"B-Person\", \"O\", \"O\", \"O\", \"O\", \"O\"], \"entities\": [[\"\\\\u05dc\\\\u05d4\\\\u05e4\\\\u05d5\\\\u05e2\\\\u05dc \\\\u05ea\\\\u05d0\", 0.9895309209823608, \"Organization\"], [\"\\\\u05d3\\\\u05de\\\\u05d0\\\\u05e8\\\\u05d9\", 0.9941695928573608, \"Person\"]]}', '{\"IOB_tags\": [\"O\", \"O\", \"O\", \"O\", \"O\"], \"entities\": []}', '{\"IOB_tags\": [\"B-Person\", \"B-Person\", \"O\", \"O\", \"O\", \"O\", \"B-Location\", \"O\", \"B-Location\"], \"entities\": [[\"\\\\u05e0\\\\u05ea\\\\u05e0\\\\u05d9\\\\u05d4\\\\u05d5 \\\\u05d5\\\\u05d1\\\\u05e0\\\\u05d8\", 0.9993926882743835, \"Person\"], [\"\\\\u05d0\\\\u05e8\\\\u05d4\\\\u05d1\", 0.7051506638526917, \"Location\"], [\"\\\\u05d9\\\\u05e9\\\\u05e8\\\\u05d0\\\\u05dc\", 0.958656907081604, \"Location\"]]}', '{\"IOB_tags\": [\"O\", \"O\", \"O\", \"O\", \"O\", \"O\", \"O\", \"O\", \"O\", \"O\"], \"entities\": []}', '{\"IOB_tags\": [\"O\", \"O\", \"O\", \"O\", \"O\", \"O\", \"O\", \"O\"], \"entities\": []}', '{\"IOB_tags\": [\"B-Organization\", \"O\", \"O\", \"O\", \"O\"], \"entities\": [[\"\\\\u05de\\\\u05d9\\\\u05e7\\\\u05e8\\\\u05d5\\\\u05e1\\\\u05d5\\\\u05e4\\\\u05d8\", 0.9995051622390747, \"Organization\"]]}', '{\"IOB_tags\": [\"O\", \"O\", \"O\", \"O\", \"B-Person\", \"O\", \"O\", \"O\", \"O\", \"O\", \"O\", \"O\"], \"entities\": [[\"\\\\u05dc\\\\u05d9\\\\u05e6\\\\u05de\\\\u05df\", 0.9992783069610596, \"Person\"]]}', '{\"IOB_tags\": [\"B-Person\", \"O\", \"O\", \"O\", \"O\", \"O\", \"O\", \"O\", \"O\"], \"entities\": [[\"\\\\u05d4\\\\u05d5\\\\u05e8\\\\u05d5\\\\u05d1\\\\u05d9\\\\u05e5\", 0.9991173148155212, \"Person\"]]}', '{\"IOB_tags\": [\"O\", \"O\", \"B-Location\", \"B-Location\", \"O\", \"B-Person\", \"I-Person\", \"O\", \"O\", \"O\"], \"entities\": [[\"\\\\u05dc\\\\u05d9\\\\u05e9\\\\u05e8\\\\u05d0\\\\u05dc \\\\u05d1\\\\u05d8\\\\u05d5\\\\u05e7\\\\u05d9\\\\u05d5\", 0.9935331344604492, \"Location\"], [\"\\\\u05d0\\\\u05e0\\\\u05d3\\\\u05d9 \\\\u05de\\\\u05d5\\\\u05e8\\\\u05d6\", 0.9993564486503601, \"Person\"]]}', '{\"IOB_tags\": [\"O\", \"O\", \"O\", \"O\", \"O\", \"O\", \"O\", \"O\", \"O\", \"O\", \"O\", \"O\"], \"entities\": []}', '{\"IOB_tags\": [\"O\", \"O\", \"O\", \"O\", \"O\", \"O\", \"O\", \"O\", \"O\"], \"entities\": []}', '{\"IOB_tags\": [\"B-Miscellaneous\", \"I-Miscellaneous\", \"O\", \"B-Person\", \"O\", \"B-Person\", \"I-Person\", \"O\", \"B-Person\", \"I-Person\", \"O\"], \"entities\": [[\"\\\\u05d8\\\\u05d5\\\\u05d3\\\\u05d5 \\\\u05d1\\\\u05d5\\\\u05dd\", 0.9949962496757507, \"Miscellaneous\"], [\"\\\\u05e1\\\\u05d8\\\\u05d8\\\\u05d9\\\\u05e7\", 0.9770059585571289, \"Person\"], [\"\\\\u05dc\\\\u05d9\\\\u05e8\\\\u05d6 \\\\u05e8\\\\u05d5\\\\u05e1\\\\u05d5\", 0.9985029101371765, \"Person\"], [\"\\\\u05d5\\\\u05e9\\\\u05e8\\\\u05d9\\\\u05ea \\\\u05e4\\\\u05d5\\\\u05dc\\\\u05e7\", 0.9975206851959229, \"Person\"]]}', '{\"IOB_tags\": [\"O\", \"O\", \"O\", \"O\", \"O\", \"O\", \"O\", \"B-Miscellaneous\", \"I-Miscellaneous\"], \"entities\": [[\"\\\\u05e1\\\\u05e7\\\\u05e1 \\\\u05d0\\\\u05e4\\\\u05d9\\\\u05dc\", 0.6519556641578674, \"Miscellaneous\"]]}', '{\"IOB_tags\": [\"B-Location\", \"O\", \"O\", \"O\", \"O\", \"O\", \"O\", \"B-Organization\"], \"entities\": [[\"\\\\u05d0\\\\u05e8\\\\u05d2\\\\u05e0\\\\u05d8\\\\u05d9\\\\u05e0\\\\u05d4\", 0.9476409554481506, \"Location\"], [\"\\\\u05e6\\'\\\\u05d9\\\\u05dc\\\\u05d4\", 0.9944934248924255, \"Organization\"]]}', '{\"IOB_tags\": [\"O\", \"O\", \"O\", \"O\", \"B-Organization\", \"I-Organization\", \"O\", \"O\", \"O\", \"B-Organization\"], \"entities\": [[\"\\\\u05de\\\\u05db\\\\u05d1\\\\u05d9 \\\\u05ea\\\\u05d0\", 0.9977433085441589, \"Organization\"], [\"\\\\u05d2\\\\u05dc\\\\u05d1\\\\u05d5\\\\u05e2\", 0.999487042427063, \"Organization\"]]}', '{\"IOB_tags\": [\"O\", \"O\", \"O\", \"B-Person\", \"O\", \"O\"], \"entities\": [[\"\\\\u05e0\\\\u05ea\\\\u05e0\\\\u05d9\\\\u05d4\\\\u05d5\", 0.9966002106666565, \"Person\"]]}', '{\"IOB_tags\": [\"O\", \"O\", \"O\", \"O\", \"O\", \"O\", \"B-Location\", \"O\", \"O\", \"O\", \"O\", \"O\", \"O\", \"O\", \"O\", \"B-Miscellaneous\", \"O\"], \"entities\": [[\"\\\\u05d1\\\\u05e0\\\\u05d2\\\\u05d1\", 0.9980154633522034, \"Location\"], [\"\\\\u05d9\\\\u05d4\\\\u05d5\\\\u05d3\\\\u05d9\", 0.9924194812774658, \"Miscellaneous\"]]}', '{\"IOB_tags\": [\"B-Miscellaneous\", \"I-Miscellaneous\", \"O\", \"O\", \"B-Location\", \"O\", \"B-Location\", \"O\", \"O\", \"O\", \"O\", \"O\", \"O\", \"O\"], \"entities\": [[\"\\\\u05e9\\\\u05d9\\\\u05e7 \\\\u05e9\\\\u05d5\\\\u05e7\", 0.8940775394439697, \"Miscellaneous\"], [\"\\\\u05dc\\\\u05e6\\'\\\\u05db\\\\u05d9\\\\u05d4\", 0.9314484596252441, \"Location\"], [\"\\\\u05e1\\\\u05e7\\\\u05d5\\\\u05d8\\\\u05dc\\\\u05e0\\\\u05d3\", 0.9803029298782349, \"Location\"]]}', '{\"IOB_tags\": [\"O\", \"O\", \"O\", \"O\", \"O\", \"B-Organization\", \"I-Organization\", \"I-Organization\", \"O\", \"O\", \"O\"], \"entities\": [[\"\\\\u05d9\\\\u05e9\\\\u05d9\\\\u05d1\\\\u05ea \\\\u05e0\\\\u05d5\\\\u05d5\\\\u05d4 \\\\u05d4\\\\u05e8\\\\u05e6\\\\u05d5\\\\u05d2\", 0.9981125593185425, \"Organization\"]]}', '{\"IOB_tags\": [\"O\", \"B-Person\", \"I-Person\", \"O\", \"B-Person\", \"O\", \"O\", \"O\", \"O\", \"O\", \"O\"], \"entities\": [[\"\\\\u05e6\\\\u05d1\\\\u05d9 \\\\u05d8\\\\u05d0\\\\u05d5\", 0.5253860950469971, \"Person\"], [\"\\\\u05e1\\\\u05de\\\\u05d5\\\\u05d8\\\\u05e8\\\\u05d9\\\\u05e5\", 0.997911274433136, \"Person\"]]}', '{\"IOB_tags\": [\"B-Organization\", \"I-Organization\", \"O\", \"O\", \"O\", \"O\", \"O\", \"O\", \"O\", \"O\", \"B-Location\", \"I-Location\"], \"entities\": [[\"\\\\u05d1\\\\u05e8\\\\u05e9\\\\u05d5\\\\u05ea \\\\u05d4\\\\u05de\\\\u05d9\\\\u05e1\\\\u05d9\\\\u05dd\", 0.9993821978569031, \"Organization\"], [\"\\\\u05d1\\\\u05ea\\\\u05dc \\\\u05d0\\\\u05d1\\\\u05d9\\\\u05d1\", 0.9995042085647583, \"Location\"]]}', '{\"IOB_tags\": [\"B-Miscellaneous\", \"O\", \"O\", \"O\", \"O\", \"O\", \"O\", \"O\", \"O\", \"O\", \"O\"], \"entities\": [[\"\\\\u05e4\\\\u05d5\\\\u05dc\\\\u05e7\\\\u05e1\\\\u05d5\\\\u05d5\\\\u05d2\\\\u05df\", 0.5045541524887085, \"Miscellaneous\"]]}', '{\"IOB_tags\": [\"B-Person\", \"I-Person\", \"O\", \"B-Organization\", \"O\", \"O\", \"O\", \"O\", \"O\", \"O\", \"O\", \"O\", \"O\"], \"entities\": [[\"\\\\u05dc\\\\u05d9\\\\u05d1\\\\u05e8\\\\u05de\\\\u05df \\\\u05e0\\\\u05e4\\\\u05d2\\\\u05e9\", 0.9692702293395996, \"Person\"], [\"\\\\u05d4\\\\u05d4\\\\u05e1\\\\u05ea\\\\u05d3\\\\u05e8\\\\u05d5\\\\u05ea\", 0.9147925972938538, \"Organization\"]]}', '{\"IOB_tags\": [\"O\", \"O\", \"O\", \"O\", \"O\", \"O\", \"O\", \"O\"], \"entities\": []}', '{\"IOB_tags\": [\"B-Person\", \"I-Person\", \"O\", \"O\", \"O\", \"I-Miscellaneous\", \"O\", \"O\", \"O\"], \"entities\": [[\"\\\\u05e0\\\\u05d9\\\\u05e7\\\\u05d5\\\\u05dc \\\\u05e8\\\\u05d0\\\\u05d9\\\\u05d3\\\\u05de\\\\u05df\", 0.949700117111206, \"Person\"], [\"\\\\u05d8\\\\u05d5\\\\u05e4\\\\u05dc\\\\u05e1\", 0.7674164175987244, \"Miscellaneous\"]]}', '{\"IOB_tags\": [\"O\", \"O\", \"O\", \"O\", \"O\", \"O\", \"O\", \"O\", \"O\", \"O\"], \"entities\": []}', '{\"IOB_tags\": [\"B-Organization\", \"O\", \"B-Location\", \"I-Location\", \"O\", \"O\", \"O\", \"O\", \"O\"], \"entities\": [[\"\\\\u05e1\\\\u05db\\\\u05e0\\\\u05d9\\\\u05df\", 0.7548248171806335, \"Organization\"], [\"\\\\u05de\\\\u05d1\\\\u05d0\\\\u05e8 \\\\u05e9\\\\u05d1\\\\u05e2\", 0.997964084148407, \"Location\"]]}', '{\"IOB_tags\": [\"O\", \"O\", \"O\", \"O\", \"O\", \"O\", \"O\", \"O\", \"O\", \"O\", \"O\", \"O\", \"O\"], \"entities\": []}', '{\"IOB_tags\": [\"O\", \"O\", \"O\", \"O\", \"O\", \"O\", \"B-Person\", \"O\", \"O\", \"O\", \"O\", \"O\", \"O\", \"O\"], \"entities\": [[\"\\\\u05d1\\\\u05e0\\\\u05d8\", 0.9776323437690735, \"Person\"]]}', '{\"IOB_tags\": [\"O\", \"O\", \"O\", \"O\", \"O\", \"O\", \"O\", \"O\"], \"entities\": []}', '{\"IOB_tags\": [\"O\", \"O\", \"O\", \"B-Organization\", \"O\", \"O\", \"O\", \"O\", \"O\", \"B-Organization\", \"O\", \"O\"], \"entities\": [[\"\\\\u05d1\\\\u05e0\\\\u05d8\", 0.9982087016105652, \"Organization\"], [\"\\\\u05d7\\\\u05de\\\\u05d0\\\\u05e1\", 0.6047148108482361, \"Organization\"]]}', '{\"IOB_tags\": [\"O\", \"O\", \"O\", \"O\", \"O\", \"O\", \"B-Miscellaneous\", \"O\", \"B-Organization\", \"I-Organization\", \"O\"], \"entities\": [[\"\\\\u05d7\\\\u05e8\\\\u05d3\\\\u05d9\\\\u05ea\", 0.8617345690727234, \"Miscellaneous\"], [\"\\\\u05de\\\\u05de\\\\u05e9\\\\u05dc\\\\u05ea \\\\u05d4\\\\u05d4\\\\u05e1\\\\u05ea\\\\u05d4\", 0.9934440851211548, \"Organization\"]]}', '{\"IOB_tags\": [\"O\", \"O\", \"O\", \"O\", \"O\"], \"entities\": []}', '{\"IOB_tags\": [\"O\", \"O\", \"O\", \"O\", \"O\", \"O\", \"O\", \"O\", \"O\", \"B-Location\", \"I-Location\", \"O\"], \"entities\": [[\"\\\\u05e2\\\\u05db\\\\u05d5 \\\\u05dc\\\\u05d8\\\\u05d5\\\\u05d1\\\\u05ea\", 0.9997549653053284, \"Location\"]]}', '{\"IOB_tags\": [\"B-Person\", \"I-Person\", \"O\", \"O\", \"B-Person\", \"O\", \"O\", \"O\", \"O\", \"O\", \"O\", \"O\"], \"entities\": [[\"\\\\u05d0\\\\u05d7\\\\u05d9\\\\u05e0\\\\u05d5\\\\u05e2\\\\u05dd \\\\u05e0\\\\u05d9\\\\u05e0\\\\u05d9\", 0.9983620047569275, \"Person\"], [\"\\\\u05e0\\\\u05ea\\\\u05e0\\\\u05d9\\\\u05d4\\\\u05d5\", 0.994614839553833, \"Person\"]]}', '{\"IOB_tags\": [\"O\", \"O\", \"O\", \"O\", \"O\", \"O\", \"B-Organization\", \"O\", \"O\", \"O\", \"O\", \"B-Organization\", \"I-Organization\"], \"entities\": [[\"\\\\u05e6\\'\\\\u05d0\\\\u05d8\", 0.9852666258811951, \"Organization\"], [\"\\\\u05e1\\\\u05e4\\\\u05d5\\\\u05e8\\\\u05d8 5\", 0.8965566754341125, \"Organization\"]]}', '{\"IOB_tags\": [\"O\", \"O\", \"O\", \"O\", \"O\", \"O\", \"O\", \"O\", \"O\", \"O\", \"O\", \"O\", \"O\", \"O\", \"O\", \"O\", \"O\"], \"entities\": []}', '{\"IOB_tags\": [\"O\", \"O\", \"O\", \"O\", \"O\", \"B-Organization\", \"I-Organization\", \"I-Organization\", \"I-Organization\", \"O\", \"B-Organization\"], \"entities\": [[\"\\\\u05de\\\\u05de\\\\u05e9\\\\u05dc\\\\u05ea \\\\u05d1\\\\u05e0\\\\u05d8 - \\\\u05dc\\\\u05e4\\\\u05d9\\\\u05d3\", 0.987058699131012, \"Organization\"], [\"\\\\u05d1\\\\u05db\\\\u05e0\\\\u05e1\\\\u05ea\", 0.9987371563911438, \"Organization\"]]}', '{\"IOB_tags\": [\"B-Miscellaneous\", \"I-Miscellaneous\", \"O\", \"O\", \"B-Location\", \"O\", \"B-Location\", \"O\", \"O\", \"O\", \"O\", \"O\", \"O\", \"O\"], \"entities\": [[\"\\\\u05e9\\\\u05d9\\\\u05e7 \\\\u05e9\\\\u05d5\\\\u05e7\", 0.8940775394439697, \"Miscellaneous\"], [\"\\\\u05dc\\\\u05e6\\'\\\\u05db\\\\u05d9\\\\u05d4\", 0.9314484596252441, \"Location\"], [\"\\\\u05e1\\\\u05e7\\\\u05d5\\\\u05d8\\\\u05dc\\\\u05e0\\\\u05d3\", 0.9803029298782349, \"Location\"]]}', '{\"IOB_tags\": [\"O\", \"O\", \"B-Person\", \"O\", \"O\", \"B-Location\", \"I-Location\"], \"entities\": [[\"\\\\u05d1\\\\u05d9\\\\u05e8\\\\u05dd\", 0.5015405416488647, \"Person\"], [\"\\\\u05d1\\\\u05d1\\\\u05e0\\\\u05d9 \\\\u05e1\\\\u05db\\\\u05e0\\\\u05d9\\\\u05df\", 0.9989638924598694, \"Location\"]]}', '{\"IOB_tags\": [\"O\", \"O\", \"O\", \"B-Person\", \"B-Person\", \"O\", \"B-Person\", \"O\"], \"entities\": [[\"\\\\u05e6\\\\u05e1\\\\u05e7\\\\u05d0 \\\\u05d5\\\\u05d0\\\\u05e0\\\\u05d3\\\\u05d5\\\\u05dc\\\\u05d5\", 0.6663644313812256, \"Person\"], [\"\\\\u05ea\\\\u05d0\\\\u05d5\\\\u05d3\\\\u05d5\\\\u05e1\\\\u05d9\\\\u05e5\", 0.5227727293968201, \"Person\"]]}', '{\"IOB_tags\": [\"B-Person\", \"O\", \"O\", \"O\", \"O\", \"O\", \"O\", \"B-Location\"], \"entities\": [[\"\\\\u05dc\\\\u05d9\\\\u05d1\\\\u05e8\\\\u05de\\\\u05df\", 0.9761826395988464, \"Person\"], [\"\\\\u05d4\\\\u05d1\\\\u05e1\\\\u05d8\\\\u05d9\\\\u05dc\\\\u05d9\\\\u05d4\", 0.9802930951118469, \"Location\"]]}', '{\"IOB_tags\": [\"O\", \"O\", \"O\", \"O\", \"O\", \"O\", \"O\", \"O\", \"O\", \"O\", \"O\", \"O\", \"O\", \"O\", \"O\", \"O\", \"O\"], \"entities\": []}', '{\"IOB_tags\": [\"B-Miscellaneous\", \"I-Miscellaneous\", \"O\", \"O\", \"O\", \"O\", \"O\", \"O\"], \"entities\": [[\"\\\\u05d1\\\\u05d9\\\\u05e0\\\\u05d2\\\\u05d5 \\\\u05d1\\\\u05d9\\\\u05d1\\\\u05d9\", 0.9713647961616516, \"Miscellaneous\"]]}', '{\"IOB_tags\": [\"B-Miscellaneous\", \"O\", \"O\", \"O\", \"O\"], \"entities\": [[\"\\\\u05d4\\\\u05d5\\\\u05e8\\\\u05d5\\\\u05e1\\\\u05e7\\\\u05d5\\\\u05e4\", 0.9086934328079224, \"Miscellaneous\"]]}', '{\"IOB_tags\": [\"O\", \"O\", \"O\", \"B-Location\", \"B-Location\", \"I-Location\", \"O\", \"O\", \"O\", \"O\", \"O\", \"O\"], \"entities\": [[\"\\\\u05d1\\\\u05d9\\\\u05d5\\\\u05d5\\\\u05df \\\\u05d5\\\\u05d8\\\\u05d5\\\\u05e8\\\\u05e7\\\\u05d9\\\\u05d4 \\\\u05e9\\\\u05d5\\\\u05d1\", 0.9989286661148071, \"Location\"]]}', '{\"IOB_tags\": [\"O\", \"O\", \"O\", \"O\", \"O\", \"O\", \"O\", \"O\", \"O\", \"O\", \"O\", \"O\", \"O\"], \"entities\": []}', '{\"IOB_tags\": [\"O\", \"O\", \"O\", \"O\", \"O\", \"O\", \"O\", \"O\", \"B-Organization\"], \"entities\": [[\"\\\\u05d1\\\\u05db\\\\u05e0\\\\u05e1\\\\u05ea\", 0.9795137047767639, \"Organization\"]]}', '{\"IOB_tags\": [\"O\", \"O\", \"O\", \"B-Person\", \"I-Person\"], \"entities\": [[\"\\\\u05e0\\\\u05e4\\\\u05ea\\\\u05dc\\\\u05d9 \\\\u05d1\\\\u05e0\\\\u05d8\", 0.9837765693664551, \"Person\"]]}', '{\"IOB_tags\": [\"B-Organization\", \"O\", \"O\", \"O\", \"O\"], \"entities\": [[\"\\\\u05de\\\\u05d9\\\\u05e7\\\\u05e8\\\\u05d5\\\\u05e1\\\\u05d5\\\\u05e4\\\\u05d8\", 0.9995051622390747, \"Organization\"]]}', '{\"IOB_tags\": [\"O\", \"O\", \"O\", \"O\", \"O\", \"O\", \"O\"], \"entities\": []}', '{\"IOB_tags\": [\"O\", \"O\", \"O\", \"B-Location\", \"O\", \"O\", \"O\", \"B-Location\", \"I-Location\"], \"entities\": [[\"\\\\u05dc\\\\u05d1\\\\u05e0\\\\u05d5\\\\u05df\", 0.999167799949646, \"Location\"], [\"\\\\u05d4\\\\u05de\\\\u05d6\\\\u05e8\\\\u05d7 \\\\u05d4\\\\u05ea\\\\u05d9\\\\u05db\\\\u05d5\\\\u05df\", 0.9929335713386536, \"Location\"]]}', '{\"IOB_tags\": [\"O\", \"O\", \"O\", \"O\", \"B-Person\", \"I-Person\", \"O\", \"O\", \"O\", \"B-Person\", \"I-Person\", \"O\", \"O\", \"O\"], \"entities\": [[\"\\\\u05e0\\\\u05d7\\\\u05de\\\\u05df \\\\u05e9\\\\u05d9\", 0.9952173233032227, \"Person\"], [\"\\\\u05e0\\\\u05d9\\\\u05e8 \\\\u05d0\\\\u05d5\\\\u05e8\\\\u05d1\\\\u05da\", 0.9862123131752014, \"Person\"]]}', '{\"IOB_tags\": [\"O\", \"O\", \"O\", \"O\", \"O\", \"O\", \"O\", \"O\", \"O\", \"O\", \"B-Person\", \"O\", \"O\"], \"entities\": [[\"\\\\u05d1\\\\u05e0\\\\u05d8\", 0.9872079491615295, \"Person\"]]}', '{\"IOB_tags\": [\"O\", \"O\", \"O\", \"O\", \"B-Location\", \"O\", \"O\", \"O\", \"O\", \"O\"], \"entities\": [[\"\\\\u05dc\\\\u05d5\\\\u05e4\\\\u05df\", 0.9874908924102783, \"Location\"]]}', '{\"IOB_tags\": [\"O\", \"B-Miscellaneous\", \"O\", \"B-Person\", \"I-Person\", \"O\", \"O\", \"O\", \"O\", \"O\", \"O\", \"B-Person\"], \"entities\": [[\"\\\\u05d4\\\\u05e2\\\\u05e8\\\\u05d1\\\\u05d9\", 0.9590610861778259, \"Miscellaneous\"], [\"\\\\u05de\\\\u05d9\\\\u05d4\\\\u05d5 \\\\u05d1\\\\u05e0\\\\u05d8\", 0.9994260668754578, \"Person\"], [\"\\\\u05e0\\\\u05ea\\\\u05e0\\\\u05d9\\\\u05d4\\\\u05d5\", 0.9990382194519043, \"Person\"]]}', '{\"IOB_tags\": [\"B-Organization\", \"O\", \"O\", \"O\", \"O\", \"O\", \"O\"], \"entities\": [[\"ynet\", 0.9953540563583374, \"Organization\"]]}', '{\"IOB_tags\": [\"O\", \"B-Organization\", \"I-Organization\", \"O\", \"O\", \"O\", \"O\", \"O\", \"B-Person\", \"B-Person\", \"I-Person\", \"O\", \"O\", \"O\", \"O\", \"O\"], \"entities\": [[\"\\\\u05dc\\\\u05de\\\\u05e9\\\\u05e8\\\\u05d3 \\\\u05e8\\\\u05d4\\\\u05de\", 0.973675549030304, \"Organization\"], [\"\\\\u05de\\\\u05e9 \\' \\\\u05e0\\\\u05ea\\\\u05e0\\\\u05d9\\\\u05d4\\\\u05d5\", 0.9970579743385315, \"Person\"]]}', '{\"IOB_tags\": [\"B-Person\", \"I-Person\", \"B-Person\", \"I-Person\", \"O\", \"O\", \"O\", \"O\"], \"entities\": [[\"\\\\u05d3\\\\u05e0\\\\u05d4 \\\\u05d5\\\\u05d9\\\\u05e1 \\\\u05dc\\\\u05d3\\\\u05d5\\\\u05d3\\\\u05d9 \\\\u05d0\\\\u05de\\\\u05e1\\\\u05dc\\\\u05dd\", 0.9924938082695007, \"Person\"]]}', '{\"IOB_tags\": [\"O\", \"O\", \"O\", \"O\", \"O\", \"O\", \"O\", \"O\"], \"entities\": []}', '{\"IOB_tags\": [\"O\", \"O\", \"O\", \"O\", \"O\", \"O\", \"O\", \"O\", \"O\", \"O\", \"O\"], \"entities\": []}', '{\"IOB_tags\": [\"B-Person\", \"O\", \"O\", \"O\", \"B-Organization\", \"I-Organization\", \"O\", \"O\", \"O\", \"O\", \"O\"], \"entities\": [[\"\\\\u05e0\\\\u05ea\\\\u05e0\\\\u05d9\\\\u05d4\\\\u05d5\", 0.9993345737457275, \"Person\"], [\"\\\\u05d2\\\\u05d5\\\\u05e9 \\\\u05d4\\\\u05d0\\\\u05d5\\\\u05e4\\\\u05d5\\\\u05d6\\\\u05d9\\\\u05e6\\\\u05d9\\\\u05d4\", 0.9992954730987549, \"Organization\"]]}', '{\"IOB_tags\": [\"O\", \"O\", \"O\", \"O\", \"O\", \"O\", \"B-Organization\", \"I-Organization\", \"O\", \"O\", \"O\", \"O\"], \"entities\": [[\"\\\\u05e7\\\\u05e8\\\\u05df \\\\u05d4\\\\u05e4\\\\u05e0\\\\u05e1\\\\u05d9\\\\u05d4\", 0.9988857507705688, \"Organization\"]]}', '{\"IOB_tags\": [\"B-Location\", \"I-Location\", \"O\", \"O\", \"O\", \"O\", \"O\"], \"entities\": [[\"\\\\u05d0\\\\u05d9\\\\u05d9\\\\u05dc\\\\u05ea \\\\u05e9\\\\u05e7\\\\u05d3\", 0.9216241240501404, \"Location\"]]}', '{\"IOB_tags\": [\"O\", \"O\", \"O\", \"O\", \"O\", \"O\", \"O\", \"O\", \"O\", \"O\"], \"entities\": []}', '{\"IOB_tags\": [\"B-Miscellaneous\", \"I-Miscellaneous\", \"O\", \"O\", \"O\", \"O\", \"O\", \"O\", \"O\", \"O\", \"O\", \"B-Person\", \"O\", \"B-Organization\", \"I-Organization\"], \"entities\": [[\"\\\\u05de\\\\u05e9\\\\u05d7\\\\u05e7\\\\u05d9 \\\\u05d4\\\\u05e9\\\\u05e3\", 0.9859762787818909, \"Miscellaneous\"], [\"\\\\u05dc\\\\u05d0\\\\u05e8\\\\u05d6\", 0.8684145212173462, \"Person\"], [\"\\\\u05e8\\\\u05e9\\\\u05ea 13\", 0.9811676144599915, \"Organization\"]]}', '{\"IOB_tags\": [\"O\", \"O\", \"O\", \"B-Location\", \"B-Location\", \"I-Location\", \"O\", \"O\", \"O\", \"O\", \"O\", \"O\"], \"entities\": [[\"\\\\u05d1\\\\u05d9\\\\u05d5\\\\u05d5\\\\u05df \\\\u05d5\\\\u05d8\\\\u05d5\\\\u05e8\\\\u05e7\\\\u05d9\\\\u05d4 \\\\u05e9\\\\u05d5\\\\u05d1\", 0.9989286661148071, \"Location\"]]}', '{\"IOB_tags\": [\"O\", \"O\", \"O\", \"B-Person\", \"B-Person\", \"O\", \"O\", \"O\", \"O\", \"O\", \"B-Location\"], \"entities\": [[\"\\\\u05d1\\\\u05e0\\\\u05d8 \\\\u05dc\\\\u05d1\\\\u05d9\\\\u05d9\\\\u05d3\\\\u05df\", 0.924168586730957, \"Person\"], [\"\\\\u05d9\\\\u05e9\\\\u05e8\\\\u05d0\\\\u05dc\", 0.9922974109649658, \"Location\"]]}', '{\"IOB_tags\": [\"O\", \"O\", \"O\", \"O\", \"B-Person\", \"I-Person\", \"O\", \"O\", \"O\"], \"entities\": [[\"\\\\u05e7\\\\u05e8\\\\u05d9\\\\u05e0\\\\u05d4 \\\\u05e9\\\\u05d8\\\\u05d5\\\\u05d8\\\\u05dc\\\\u05e0\\\\u05d3\", 0.9992030262947083, \"Person\"]]}', '{\"IOB_tags\": [\"B-Person\", \"I-Person\", \"O\", \"O\", \"O\", \"O\", \"O\", \"O\", \"O\"], \"entities\": [[\"\\\\u05db\\\\u05e8\\\\u05d9\\\\u05e1\\\\u05d8\\\\u05d9\\\\u05d0\\\\u05df \\\\u05d0\\\\u05e8\\\\u05d9\\\\u05e7\\\\u05e1\\\\u05df\", 0.9993698000907898, \"Person\"]]}', '{\"IOB_tags\": [\"O\", \"O\", \"O\", \"O\", \"O\", \"O\", \"O\", \"O\", \"O\", \"B-Location\"], \"entities\": [[\"\\\\u05d1\\\\u05d9\\\\u05e9\\\\u05e8\\\\u05d0\\\\u05dc\", 0.9559805393218994, \"Location\"]]}', '{\"IOB_tags\": [\"B-Organization\", \"O\", \"O\", \"O\", \"O\", \"O\", \"O\", \"O\", \"O\"], \"entities\": [[\"HOT\", 0.702131986618042, \"Organization\"]]}', '{\"IOB_tags\": [\"O\", \"O\", \"O\", \"B-Person\", \"O\", \"O\", \"O\", \"O\", \"B-Person\"], \"entities\": [[\"\\\\u05e0\\\\u05ea\\\\u05e0\\\\u05d9\\\\u05d4\\\\u05d5\", 0.9815190434455872, \"Person\"], [\"\\\\u05d1\\\\u05e0\\\\u05d8\", 0.896994948387146, \"Person\"]]}', '{\"IOB_tags\": [\"B-Organization\", \"O\", \"B-Miscellaneous\", \"O\", \"B-Miscellaneous\", \"O\", \"B-Person\", \"I-Person\", \"O\"], \"entities\": [[\"\\\\u05e4\\\\u05d9\\\\u05e0\\\\u05d9\\\\u05e7\\\\u05e1\", 0.9643783569335938, \"Organization\"], [\"\\\\u05e1\\\\u05d5\\\\u05d5\\\\u05d9\\\\u05e4\", 0.6405458450317383, \"Miscellaneous\"], [\"\\\\u05d3\\\\u05e0\\\\u05d1\\\\u05e8\", 0.8868756890296936, \"Miscellaneous\"], [\"\\\\u05d9\\\\u05d5\\\\u05e7\\\\u05d9\\\\u05e5 \\'\", 0.9745079278945923, \"Person\"]]}', '{\"IOB_tags\": [\"O\", \"O\", \"O\", \"O\", \"O\", \"B-Location\", \"O\", \"B-Location\"], \"entities\": [[\"\\\\u05dc\\\\u05d4\\\\u05d5\\\\u05dc\\\\u05e0\\\\u05d3\", 0.9992678165435791, \"Location\"], [\"\\\\u05d0\\\\u05d5\\\\u05e7\\\\u05e8\\\\u05d0\\\\u05d9\\\\u05e0\\\\u05d4\", 0.9996681809425354, \"Location\"]]}', '{\"IOB_tags\": [\"O\", \"O\", \"O\", \"O\", \"O\", \"O\", \"O\", \"O\", \"O\", \"O\", \"O\", \"O\", \"O\", \"O\", \"O\", \"O\", \"O\", \"O\"], \"entities\": []}', '{\"IOB_tags\": [\"O\", \"O\", \"O\", \"B-Person\", \"O\", \"O\", \"B-Organization\"], \"entities\": [[\"\\\\u05de\\\\u05d9\\\\u05db\\\\u05d4\", 0.9856308102607727, \"Person\"], [\"\\\\u05de\\\\u05d0\\\\u05e0\\\\u05d5\\\\u05e8\\\\u05ea\\\\u05d5\\\\u05d6\\\\u05d9\\\\u05e1\", 0.9986190795898438, \"Organization\"]]}', '{\"IOB_tags\": [\"B-Miscellaneous\", \"O\", \"O\", \"O\", \"O\", \"B-Location\", \"O\", \"B-Location\"], \"entities\": [[\"\\\\u05d9\\\\u05d5\\\\u05e8\\\\u05d5\", 0.9990972876548767, \"Miscellaneous\"], [\"\\\\u05dc\\\\u05d4\\\\u05d5\\\\u05dc\\\\u05e0\\\\u05d3\", 0.9977680444717407, \"Location\"], [\"\\\\u05d0\\\\u05d5\\\\u05e7\\\\u05e8\\\\u05d0\\\\u05d9\\\\u05e0\\\\u05d4\", 0.9992077946662903, \"Location\"]]}', '{\"IOB_tags\": [\"O\", \"O\", \"O\", \"O\", \"O\", \"O\", \"O\", \"O\", \"O\", \"O\", \"O\", \"O\", \"O\", \"O\", \"O\", \"O\", \"O\", \"O\"], \"entities\": []}', '{\"IOB_tags\": [\"B-Location\", \"O\", \"O\", \"B-Person\", \"O\", \"O\", \"O\", \"O\", \"O\", \"O\"], \"entities\": [[\"\\\\u05d1\\\\u05e8\\\\u05d1\\\\u05d9\\\\u05d1\\\\u05d0\\\\u05d9\", 0.9771886467933655, \"Location\"], [\"\\\\u05e4\\\\u05e8\\\\u05e5\", 0.9912943243980408, \"Person\"]]}', '{\"IOB_tags\": [\"O\", \"O\", \"O\", \"O\", \"O\", \"O\", \"O\", \"O\", \"O\", \"O\", \"O\", \"B-Location\"], \"entities\": [[\"\\\\u05e9\\\\u05db\\\\u05dd\", 0.9338584542274475, \"Location\"]]}', '{\"IOB_tags\": [\"O\", \"O\", \"O\", \"O\", \"B-Location\", \"O\", \"B-Organization\", \"O\", \"O\", \"O\", \"O\"], \"entities\": [[\"\\\\u05d1\\\\u05d9\\\\u05e8\\\\u05d5\\\\u05e9\\\\u05dc\\\\u05d9\\\\u05dd\", 0.9927451610565186, \"Location\"], [\"\\\\u05e6\\\\u05d4\\\\u05dc\", 0.8921674489974976, \"Organization\"]]}', '{\"IOB_tags\": [\"O\", \"O\", \"O\", \"O\", \"O\", \"O\", \"O\", \"O\", \"O\", \"O\", \"O\"], \"entities\": []}', '{\"IOB_tags\": [\"O\", \"O\", \"O\", \"O\", \"O\", \"O\", \"B-Location\"], \"entities\": [[\"\\\\u05d1\\\\u05d7\\\\u05d3\\\\u05e8\\\\u05d4\", 0.9991934895515442, \"Location\"]]}', '{\"IOB_tags\": [\"O\", \"O\", \"O\", \"O\", \"B-Location\", \"O\", \"O\", \"O\", \"O\", \"O\"], \"entities\": [[\"\\\\u05dc\\\\u05d5\\\\u05e4\\\\u05df\", 0.9874908924102783, \"Location\"]]}', '{\"IOB_tags\": [\"O\", \"O\", \"O\", \"O\", \"O\", \"O\", \"O\", \"O\", \"O\", \"B-Location\"], \"entities\": [[\"\\\\u05d8\\\\u05d0\\\\u05e7\\\\u05d5\", 0.9709859490394592, \"Location\"]]}', '{\"IOB_tags\": [\"B-Person\", \"I-Person\", \"O\", \"O\", \"O\", \"O\", \"O\", \"O\"], \"entities\": [[\"\\\\u05e9\\\\u05de\\\\u05d7\\\\u05d4 \\\\u05e8\\\\u05d5\\\\u05d8\\\\u05de\\\\u05df\", 0.9996119141578674, \"Person\"]]}', '{\"IOB_tags\": [\"B-Location\", \"O\", \"O\", \"O\", \"O\", \"O\", \"O\", \"B-Location\"], \"entities\": [[\"\\\\u05d1\\\\u05d0\\\\u05d9\\\\u05d8\\\\u05dc\\\\u05d9\\\\u05d4\", 0.9994908571243286, \"Location\"], [\"\\\\u05d5\\\\u05e0\\\\u05e6\\\\u05d9\\\\u05d4\", 0.9637407660484314, \"Location\"]]}', '{\"IOB_tags\": [\"B-Miscellaneous\", \"I-Miscellaneous\", \"O\", \"O\", \"O\", \"O\", \"O\", \"O\", \"O\"], \"entities\": [[\"\\\\u05ea\\\\u05de\\\\u05d0 38\", 0.9996510148048401, \"Miscellaneous\"]]}', '{\"IOB_tags\": [\"O\", \"O\", \"O\", \"O\", \"O\", \"O\", \"B-Location\", \"O\", \"O\", \"B-Location\", \"I-Location\", \"O\", \"O\", \"O\"], \"entities\": [[\"\\\\u05d0\\\\u05d9\\\\u05dc\\\\u05ea\", 0.9978575110435486, \"Location\"], [\"\\\\u05de\\\\u05d2\\\\u05e8\\\\u05e2\\\\u05d9\\\\u05df \\\\u05e0\\\\u05d7\\\\u05dc\", 0.9779624342918396, \"Location\"]]}', '{\"IOB_tags\": [\"O\", \"O\", \"O\", \"O\", \"O\", \"O\"], \"entities\": []}', '{\"IOB_tags\": [\"B-Person\", \"I-Person\", \"O\", \"O\", \"O\", \"O\", \"O\", \"O\", \"O\", \"O\", \"B-Organization\"], \"entities\": [[\"\\\\u05d2\\\\u05d3\\\\u05e2\\\\u05d5\\\\u05df \\\\u05e1\\\\u05e2\\\\u05e8\", 0.9991706609725952, \"Person\"], [\"\\\\u05de\\\\u05e0\\\\u05d3\\\\u05dc\\\\u05d1\\\\u05dc\\\\u05d9\\\\u05d8\", 0.9024451971054077, \"Organization\"]]}', '{\"IOB_tags\": [\"B-Organization\", \"O\", \"O\", \"B-Person\", \"I-Person\", \"O\", \"O\", \"O\", \"O\", \"O\", \"O\", \"O\", \"O\", \"O\", \"O\", \"B-Person\"], \"entities\": [[\"\\\\u05d1\\\\u05e0\\\\u05d8\", 0.6248018741607666, \"Organization\"], [\"\\\\u05e2\\\\u05de\\\\u05e0\\\\u05d5\\\\u05d0\\\\u05dc \\\\u05de\\\\u05d5\\\\u05e8\\\\u05e0\\\\u05d5\", 0.9949772357940674, \"Person\"], [\"\\\\u05e2\\\\u05de\\\\u05e0\\\\u05d5\\\\u05d0\\\\u05dc\", 0.9883251190185547, \"Person\"]]}', '{\"IOB_tags\": [\"O\", \"O\", \"O\", \"O\", \"O\", \"B-Organization\"], \"entities\": [[\"\\\\u05e4\\\\u05d9\\\\u05e0\\\\u05d9\\\\u05e7\\\\u05e1\", 0.9953673481941223, \"Organization\"]]}', '{\"IOB_tags\": [\"O\", \"O\", \"O\", \"O\", \"O\", \"O\", \"O\"], \"entities\": []}', '{\"IOB_tags\": [\"O\", \"O\", \"O\", \"O\", \"O\", \"O\", \"O\", \"O\", \"O\", \"O\", \"O\", \"O\", \"O\", \"O\"], \"entities\": []}', '{\"IOB_tags\": [\"O\", \"O\", \"B-Person\", \"I-Person\", \"O\", \"O\", \"O\", \"O\"], \"entities\": [[\"\\\\u05de\\\\u05d9\\\\u05e7\\\\u05d9 \\\\u05d6\\\\u05d5\\\\u05d4\\\\u05e8\", 0.9995661973953247, \"Person\"]]}', '{\"IOB_tags\": [\"O\", \"B-Organization\", \"I-Organization\", \"O\", \"B-Person\", \"O\", \"O\", \"O\", \"O\", \"O\"], \"entities\": [[\"\\\\u05dc\\\\u05d4\\\\u05e4\\\\u05d5\\\\u05e2\\\\u05dc \\\\u05ea\\\\u05d0\", 0.9895309209823608, \"Organization\"], [\"\\\\u05d3\\\\u05de\\\\u05d0\\\\u05e8\\\\u05d9\", 0.9941695928573608, \"Person\"]]}', '{\"IOB_tags\": [\"O\", \"O\", \"O\", \"O\", \"O\"], \"entities\": []}', '{\"IOB_tags\": [\"B-Person\", \"B-Person\", \"O\", \"O\", \"O\", \"O\", \"B-Location\", \"O\", \"B-Location\"], \"entities\": [[\"\\\\u05e0\\\\u05ea\\\\u05e0\\\\u05d9\\\\u05d4\\\\u05d5 \\\\u05d5\\\\u05d1\\\\u05e0\\\\u05d8\", 0.9993926882743835, \"Person\"], [\"\\\\u05d0\\\\u05e8\\\\u05d4\\\\u05d1\", 0.7051506638526917, \"Location\"], [\"\\\\u05d9\\\\u05e9\\\\u05e8\\\\u05d0\\\\u05dc\", 0.958656907081604, \"Location\"]]}', '{\"IOB_tags\": [\"O\", \"O\", \"O\", \"O\", \"O\", \"O\", \"O\", \"O\", \"O\", \"O\"], \"entities\": []}', '{\"IOB_tags\": [\"O\", \"O\", \"O\", \"O\", \"O\", \"O\", \"O\", \"O\"], \"entities\": []}', '{\"IOB_tags\": [\"B-Organization\", \"O\", \"O\", \"O\", \"O\"], \"entities\": [[\"\\\\u05de\\\\u05d9\\\\u05e7\\\\u05e8\\\\u05d5\\\\u05e1\\\\u05d5\\\\u05e4\\\\u05d8\", 0.9995051622390747, \"Organization\"]]}', '{\"IOB_tags\": [\"O\", \"O\", \"O\", \"O\", \"B-Person\", \"O\", \"O\", \"O\", \"O\", \"O\", \"O\", \"O\"], \"entities\": [[\"\\\\u05dc\\\\u05d9\\\\u05e6\\\\u05de\\\\u05df\", 0.9992783069610596, \"Person\"]]}', '{\"IOB_tags\": [\"B-Person\", \"O\", \"O\", \"O\", \"O\", \"O\", \"O\", \"O\", \"O\"], \"entities\": [[\"\\\\u05d4\\\\u05d5\\\\u05e8\\\\u05d5\\\\u05d1\\\\u05d9\\\\u05e5\", 0.9991173148155212, \"Person\"]]}', '{\"IOB_tags\": [\"O\", \"O\", \"B-Location\", \"B-Location\", \"O\", \"B-Person\", \"I-Person\", \"O\", \"O\", \"O\"], \"entities\": [[\"\\\\u05dc\\\\u05d9\\\\u05e9\\\\u05e8\\\\u05d0\\\\u05dc \\\\u05d1\\\\u05d8\\\\u05d5\\\\u05e7\\\\u05d9\\\\u05d5\", 0.9935331344604492, \"Location\"], [\"\\\\u05d0\\\\u05e0\\\\u05d3\\\\u05d9 \\\\u05de\\\\u05d5\\\\u05e8\\\\u05d6\", 0.9993564486503601, \"Person\"]]}', '{\"IOB_tags\": [\"O\", \"O\", \"O\", \"O\", \"O\", \"O\", \"O\", \"O\", \"O\", \"O\", \"O\", \"O\"], \"entities\": []}', '{\"IOB_tags\": [\"O\", \"O\", \"O\", \"O\", \"O\", \"O\", \"O\", \"O\", \"O\"], \"entities\": []}', '{\"IOB_tags\": [\"B-Miscellaneous\", \"I-Miscellaneous\", \"O\", \"B-Person\", \"O\", \"B-Person\", \"I-Person\", \"O\", \"B-Person\", \"I-Person\", \"O\"], \"entities\": [[\"\\\\u05d8\\\\u05d5\\\\u05d3\\\\u05d5 \\\\u05d1\\\\u05d5\\\\u05dd\", 0.9949962496757507, \"Miscellaneous\"], [\"\\\\u05e1\\\\u05d8\\\\u05d8\\\\u05d9\\\\u05e7\", 0.9770059585571289, \"Person\"], [\"\\\\u05dc\\\\u05d9\\\\u05e8\\\\u05d6 \\\\u05e8\\\\u05d5\\\\u05e1\\\\u05d5\", 0.9985029101371765, \"Person\"], [\"\\\\u05d5\\\\u05e9\\\\u05e8\\\\u05d9\\\\u05ea \\\\u05e4\\\\u05d5\\\\u05dc\\\\u05e7\", 0.9975206851959229, \"Person\"]]}', '{\"IOB_tags\": [\"O\", \"O\", \"O\", \"O\", \"O\", \"O\", \"O\", \"B-Miscellaneous\", \"I-Miscellaneous\"], \"entities\": [[\"\\\\u05e1\\\\u05e7\\\\u05e1 \\\\u05d0\\\\u05e4\\\\u05d9\\\\u05dc\", 0.6519556641578674, \"Miscellaneous\"]]}', '{\"IOB_tags\": [\"B-Location\", \"O\", \"O\", \"O\", \"O\", \"O\", \"O\", \"B-Organization\"], \"entities\": [[\"\\\\u05d0\\\\u05e8\\\\u05d2\\\\u05e0\\\\u05d8\\\\u05d9\\\\u05e0\\\\u05d4\", 0.9476409554481506, \"Location\"], [\"\\\\u05e6\\'\\\\u05d9\\\\u05dc\\\\u05d4\", 0.9944934248924255, \"Organization\"]]}', '{\"IOB_tags\": [\"O\", \"O\", \"O\", \"O\", \"B-Organization\", \"I-Organization\", \"O\", \"O\", \"O\", \"B-Organization\"], \"entities\": [[\"\\\\u05de\\\\u05db\\\\u05d1\\\\u05d9 \\\\u05ea\\\\u05d0\", 0.9977433085441589, \"Organization\"], [\"\\\\u05d2\\\\u05dc\\\\u05d1\\\\u05d5\\\\u05e2\", 0.999487042427063, \"Organization\"]]}', '{\"IOB_tags\": [\"O\", \"O\", \"O\", \"B-Person\", \"O\", \"O\"], \"entities\": [[\"\\\\u05e0\\\\u05ea\\\\u05e0\\\\u05d9\\\\u05d4\\\\u05d5\", 0.9966002106666565, \"Person\"]]}', '{\"IOB_tags\": [\"O\", \"O\", \"O\", \"O\", \"O\", \"O\", \"B-Location\", \"O\", \"O\", \"O\", \"O\", \"O\", \"O\", \"O\", \"O\", \"B-Miscellaneous\", \"O\"], \"entities\": [[\"\\\\u05d1\\\\u05e0\\\\u05d2\\\\u05d1\", 0.9980154633522034, \"Location\"], [\"\\\\u05d9\\\\u05d4\\\\u05d5\\\\u05d3\\\\u05d9\", 0.9924194812774658, \"Miscellaneous\"]]}', '{\"IOB_tags\": [\"B-Miscellaneous\", \"I-Miscellaneous\", \"O\", \"O\", \"B-Location\", \"O\", \"B-Location\", \"O\", \"O\", \"O\", \"O\", \"O\", \"O\", \"O\"], \"entities\": [[\"\\\\u05e9\\\\u05d9\\\\u05e7 \\\\u05e9\\\\u05d5\\\\u05e7\", 0.8940775394439697, \"Miscellaneous\"], [\"\\\\u05dc\\\\u05e6\\'\\\\u05db\\\\u05d9\\\\u05d4\", 0.9314484596252441, \"Location\"], [\"\\\\u05e1\\\\u05e7\\\\u05d5\\\\u05d8\\\\u05dc\\\\u05e0\\\\u05d3\", 0.9803029298782349, \"Location\"]]}', '{\"IOB_tags\": [\"O\", \"O\", \"O\", \"O\", \"O\", \"B-Organization\", \"I-Organization\", \"I-Organization\", \"O\", \"O\", \"O\"], \"entities\": [[\"\\\\u05d9\\\\u05e9\\\\u05d9\\\\u05d1\\\\u05ea \\\\u05e0\\\\u05d5\\\\u05d5\\\\u05d4 \\\\u05d4\\\\u05e8\\\\u05e6\\\\u05d5\\\\u05d2\", 0.9981125593185425, \"Organization\"]]}', '{\"IOB_tags\": [\"O\", \"B-Person\", \"I-Person\", \"O\", \"B-Person\", \"O\", \"O\", \"O\", \"O\", \"O\", \"O\"], \"entities\": [[\"\\\\u05e6\\\\u05d1\\\\u05d9 \\\\u05d8\\\\u05d0\\\\u05d5\", 0.5253860950469971, \"Person\"], [\"\\\\u05e1\\\\u05de\\\\u05d5\\\\u05d8\\\\u05e8\\\\u05d9\\\\u05e5\", 0.997911274433136, \"Person\"]]}', '{\"IOB_tags\": [\"B-Organization\", \"I-Organization\", \"O\", \"O\", \"O\", \"O\", \"O\", \"O\", \"O\", \"O\", \"B-Location\", \"I-Location\"], \"entities\": [[\"\\\\u05d1\\\\u05e8\\\\u05e9\\\\u05d5\\\\u05ea \\\\u05d4\\\\u05de\\\\u05d9\\\\u05e1\\\\u05d9\\\\u05dd\", 0.9993821978569031, \"Organization\"], [\"\\\\u05d1\\\\u05ea\\\\u05dc \\\\u05d0\\\\u05d1\\\\u05d9\\\\u05d1\", 0.9995042085647583, \"Location\"]]}', '{\"IOB_tags\": [\"B-Miscellaneous\", \"O\", \"O\", \"O\", \"O\", \"O\", \"O\", \"O\", \"O\", \"O\", \"O\"], \"entities\": [[\"\\\\u05e4\\\\u05d5\\\\u05dc\\\\u05e7\\\\u05e1\\\\u05d5\\\\u05d5\\\\u05d2\\\\u05df\", 0.5045541524887085, \"Miscellaneous\"]]}', '{\"IOB_tags\": [\"B-Person\", \"I-Person\", \"O\", \"B-Organization\", \"O\", \"O\", \"O\", \"O\", \"O\", \"O\", \"O\", \"O\", \"O\"], \"entities\": [[\"\\\\u05dc\\\\u05d9\\\\u05d1\\\\u05e8\\\\u05de\\\\u05df \\\\u05e0\\\\u05e4\\\\u05d2\\\\u05e9\", 0.9692702293395996, \"Person\"], [\"\\\\u05d4\\\\u05d4\\\\u05e1\\\\u05ea\\\\u05d3\\\\u05e8\\\\u05d5\\\\u05ea\", 0.9147925972938538, \"Organization\"]]}', '{\"IOB_tags\": [\"O\", \"O\", \"O\", \"O\", \"O\", \"O\", \"O\", \"O\"], \"entities\": []}', '{\"IOB_tags\": [\"B-Person\", \"I-Person\", \"O\", \"O\", \"O\", \"I-Miscellaneous\", \"O\", \"O\", \"O\"], \"entities\": [[\"\\\\u05e0\\\\u05d9\\\\u05e7\\\\u05d5\\\\u05dc \\\\u05e8\\\\u05d0\\\\u05d9\\\\u05d3\\\\u05de\\\\u05df\", 0.949700117111206, \"Person\"], [\"\\\\u05d8\\\\u05d5\\\\u05e4\\\\u05dc\\\\u05e1\", 0.7674164175987244, \"Miscellaneous\"]]}', '{\"IOB_tags\": [\"O\", \"O\", \"O\", \"O\", \"O\", \"O\", \"O\", \"O\", \"O\", \"O\"], \"entities\": []}', '{\"IOB_tags\": [\"B-Organization\", \"O\", \"B-Location\", \"I-Location\", \"O\", \"O\", \"O\", \"O\", \"O\"], \"entities\": [[\"\\\\u05e1\\\\u05db\\\\u05e0\\\\u05d9\\\\u05df\", 0.7548248171806335, \"Organization\"], [\"\\\\u05de\\\\u05d1\\\\u05d0\\\\u05e8 \\\\u05e9\\\\u05d1\\\\u05e2\", 0.997964084148407, \"Location\"]]}', '{\"IOB_tags\": [\"O\", \"O\", \"O\", \"O\", \"O\", \"O\", \"O\", \"O\", \"O\", \"O\", \"O\", \"O\", \"O\"], \"entities\": []}', '{\"IOB_tags\": [\"O\", \"O\", \"O\", \"O\", \"O\", \"O\", \"B-Person\", \"O\", \"O\", \"O\", \"O\", \"O\", \"O\", \"O\"], \"entities\": [[\"\\\\u05d1\\\\u05e0\\\\u05d8\", 0.9776323437690735, \"Person\"]]}', '{\"IOB_tags\": [\"O\", \"O\", \"O\", \"O\", \"O\", \"O\", \"O\", \"O\"], \"entities\": []}', '{\"IOB_tags\": [\"O\", \"O\", \"O\", \"B-Organization\", \"O\", \"O\", \"O\", \"O\", \"O\", \"B-Organization\", \"O\", \"O\"], \"entities\": [[\"\\\\u05d1\\\\u05e0\\\\u05d8\", 0.9982087016105652, \"Organization\"], [\"\\\\u05d7\\\\u05de\\\\u05d0\\\\u05e1\", 0.6047148108482361, \"Organization\"]]}', '{\"IOB_tags\": [\"O\", \"O\", \"O\", \"O\", \"O\", \"O\", \"B-Miscellaneous\", \"O\", \"B-Organization\", \"I-Organization\", \"O\"], \"entities\": [[\"\\\\u05d7\\\\u05e8\\\\u05d3\\\\u05d9\\\\u05ea\", 0.8617345690727234, \"Miscellaneous\"], [\"\\\\u05de\\\\u05de\\\\u05e9\\\\u05dc\\\\u05ea \\\\u05d4\\\\u05d4\\\\u05e1\\\\u05ea\\\\u05d4\", 0.9934440851211548, \"Organization\"]]}', '{\"IOB_tags\": [\"O\", \"O\", \"O\", \"O\", \"O\"], \"entities\": []}', '{\"IOB_tags\": [\"O\", \"O\", \"O\", \"O\", \"O\", \"O\", \"O\", \"O\", \"O\", \"B-Location\", \"I-Location\", \"O\"], \"entities\": [[\"\\\\u05e2\\\\u05db\\\\u05d5 \\\\u05dc\\\\u05d8\\\\u05d5\\\\u05d1\\\\u05ea\", 0.9997549653053284, \"Location\"]]}', '{\"IOB_tags\": [\"B-Person\", \"I-Person\", \"O\", \"O\", \"B-Person\", \"O\", \"O\", \"O\", \"O\", \"O\", \"O\", \"O\"], \"entities\": [[\"\\\\u05d0\\\\u05d7\\\\u05d9\\\\u05e0\\\\u05d5\\\\u05e2\\\\u05dd \\\\u05e0\\\\u05d9\\\\u05e0\\\\u05d9\", 0.9983620047569275, \"Person\"], [\"\\\\u05e0\\\\u05ea\\\\u05e0\\\\u05d9\\\\u05d4\\\\u05d5\", 0.994614839553833, \"Person\"]]}', '{\"IOB_tags\": [\"O\", \"O\", \"O\", \"O\", \"O\", \"O\", \"B-Organization\", \"O\", \"O\", \"O\", \"O\", \"B-Organization\", \"I-Organization\"], \"entities\": [[\"\\\\u05e6\\'\\\\u05d0\\\\u05d8\", 0.9852666258811951, \"Organization\"], [\"\\\\u05e1\\\\u05e4\\\\u05d5\\\\u05e8\\\\u05d8 5\", 0.8965566754341125, \"Organization\"]]}', '{\"IOB_tags\": [\"O\", \"O\", \"O\", \"O\", \"O\", \"O\", \"O\", \"O\", \"O\", \"O\", \"O\", \"O\", \"O\", \"O\", \"O\", \"O\", \"O\"], \"entities\": []}', '{\"IOB_tags\": [\"O\", \"O\", \"O\", \"O\", \"O\", \"B-Organization\", \"I-Organization\", \"I-Organization\", \"I-Organization\", \"O\", \"B-Organization\"], \"entities\": [[\"\\\\u05de\\\\u05de\\\\u05e9\\\\u05dc\\\\u05ea \\\\u05d1\\\\u05e0\\\\u05d8 - \\\\u05dc\\\\u05e4\\\\u05d9\\\\u05d3\", 0.987058699131012, \"Organization\"], [\"\\\\u05d1\\\\u05db\\\\u05e0\\\\u05e1\\\\u05ea\", 0.9987371563911438, \"Organization\"]]}', '{\"IOB_tags\": [\"B-Miscellaneous\", \"I-Miscellaneous\", \"O\", \"O\", \"B-Location\", \"O\", \"B-Location\", \"O\", \"O\", \"O\", \"O\", \"O\", \"O\", \"O\"], \"entities\": [[\"\\\\u05e9\\\\u05d9\\\\u05e7 \\\\u05e9\\\\u05d5\\\\u05e7\", 0.8940775394439697, \"Miscellaneous\"], [\"\\\\u05dc\\\\u05e6\\'\\\\u05db\\\\u05d9\\\\u05d4\", 0.9314484596252441, \"Location\"], [\"\\\\u05e1\\\\u05e7\\\\u05d5\\\\u05d8\\\\u05dc\\\\u05e0\\\\u05d3\", 0.9803029298782349, \"Location\"]]}', '{\"IOB_tags\": [\"O\", \"O\", \"B-Person\", \"O\", \"O\", \"B-Location\", \"I-Location\"], \"entities\": [[\"\\\\u05d1\\\\u05d9\\\\u05e8\\\\u05dd\", 0.5015405416488647, \"Person\"], [\"\\\\u05d1\\\\u05d1\\\\u05e0\\\\u05d9 \\\\u05e1\\\\u05db\\\\u05e0\\\\u05d9\\\\u05df\", 0.9989638924598694, \"Location\"]]}', '{\"IOB_tags\": [\"O\", \"O\", \"O\", \"B-Person\", \"B-Person\", \"O\", \"B-Person\", \"O\"], \"entities\": [[\"\\\\u05e6\\\\u05e1\\\\u05e7\\\\u05d0 \\\\u05d5\\\\u05d0\\\\u05e0\\\\u05d3\\\\u05d5\\\\u05dc\\\\u05d5\", 0.6663644313812256, \"Person\"], [\"\\\\u05ea\\\\u05d0\\\\u05d5\\\\u05d3\\\\u05d5\\\\u05e1\\\\u05d9\\\\u05e5\", 0.5227727293968201, \"Person\"]]}', '{\"IOB_tags\": [\"B-Person\", \"O\", \"O\", \"O\", \"O\", \"O\", \"O\", \"B-Location\"], \"entities\": [[\"\\\\u05dc\\\\u05d9\\\\u05d1\\\\u05e8\\\\u05de\\\\u05df\", 0.9761826395988464, \"Person\"], [\"\\\\u05d4\\\\u05d1\\\\u05e1\\\\u05d8\\\\u05d9\\\\u05dc\\\\u05d9\\\\u05d4\", 0.9802930951118469, \"Location\"]]}', '{\"IOB_tags\": [\"O\", \"O\", \"O\", \"O\", \"O\", \"O\", \"O\", \"O\", \"O\", \"O\", \"O\", \"O\", \"O\", \"O\", \"O\", \"O\", \"O\"], \"entities\": []}', '{\"IOB_tags\": [\"B-Miscellaneous\", \"I-Miscellaneous\", \"O\", \"O\", \"O\", \"O\", \"O\", \"O\"], \"entities\": [[\"\\\\u05d1\\\\u05d9\\\\u05e0\\\\u05d2\\\\u05d5 \\\\u05d1\\\\u05d9\\\\u05d1\\\\u05d9\", 0.9713647961616516, \"Miscellaneous\"]]}', '{\"IOB_tags\": [\"B-Miscellaneous\", \"O\", \"O\", \"O\", \"O\"], \"entities\": [[\"\\\\u05d4\\\\u05d5\\\\u05e8\\\\u05d5\\\\u05e1\\\\u05e7\\\\u05d5\\\\u05e4\", 0.9086934328079224, \"Miscellaneous\"]]}', '{\"IOB_tags\": [\"O\", \"O\", \"O\", \"B-Location\", \"B-Location\", \"I-Location\", \"O\", \"O\", \"O\", \"O\", \"O\", \"O\"], \"entities\": [[\"\\\\u05d1\\\\u05d9\\\\u05d5\\\\u05d5\\\\u05df \\\\u05d5\\\\u05d8\\\\u05d5\\\\u05e8\\\\u05e7\\\\u05d9\\\\u05d4 \\\\u05e9\\\\u05d5\\\\u05d1\", 0.9989286661148071, \"Location\"]]}', '{\"IOB_tags\": [\"O\", \"O\", \"O\", \"O\", \"O\", \"O\", \"O\", \"O\", \"O\", \"O\", \"O\", \"O\", \"O\"], \"entities\": []}', '{\"IOB_tags\": [\"O\", \"O\", \"O\", \"O\", \"O\", \"O\", \"O\", \"O\", \"B-Organization\"], \"entities\": [[\"\\\\u05d1\\\\u05db\\\\u05e0\\\\u05e1\\\\u05ea\", 0.9795137047767639, \"Organization\"]]}', '{\"IOB_tags\": [\"O\", \"O\", \"O\", \"B-Person\", \"I-Person\"], \"entities\": [[\"\\\\u05e0\\\\u05e4\\\\u05ea\\\\u05dc\\\\u05d9 \\\\u05d1\\\\u05e0\\\\u05d8\", 0.9837765693664551, \"Person\"]]}', '{\"IOB_tags\": [\"B-Organization\", \"O\", \"O\", \"O\", \"O\"], \"entities\": [[\"\\\\u05de\\\\u05d9\\\\u05e7\\\\u05e8\\\\u05d5\\\\u05e1\\\\u05d5\\\\u05e4\\\\u05d8\", 0.9995051622390747, \"Organization\"]]}', '{\"IOB_tags\": [\"O\", \"O\", \"O\", \"O\", \"O\", \"O\", \"O\"], \"entities\": []}', '{\"IOB_tags\": [\"O\", \"O\", \"O\", \"B-Location\", \"O\", \"O\", \"O\", \"B-Location\", \"I-Location\"], \"entities\": [[\"\\\\u05dc\\\\u05d1\\\\u05e0\\\\u05d5\\\\u05df\", 0.999167799949646, \"Location\"], [\"\\\\u05d4\\\\u05de\\\\u05d6\\\\u05e8\\\\u05d7 \\\\u05d4\\\\u05ea\\\\u05d9\\\\u05db\\\\u05d5\\\\u05df\", 0.9929335713386536, \"Location\"]]}', '{\"IOB_tags\": [\"O\", \"O\", \"O\", \"O\", \"B-Person\", \"I-Person\", \"O\", \"O\", \"O\", \"B-Person\", \"I-Person\", \"O\", \"O\", \"O\"], \"entities\": [[\"\\\\u05e0\\\\u05d7\\\\u05de\\\\u05df \\\\u05e9\\\\u05d9\", 0.9952173233032227, \"Person\"], [\"\\\\u05e0\\\\u05d9\\\\u05e8 \\\\u05d0\\\\u05d5\\\\u05e8\\\\u05d1\\\\u05da\", 0.9862123131752014, \"Person\"]]}', '{\"IOB_tags\": [\"O\", \"O\", \"O\", \"O\", \"O\", \"O\", \"O\", \"O\", \"O\", \"O\", \"B-Person\", \"O\", \"O\"], \"entities\": [[\"\\\\u05d1\\\\u05e0\\\\u05d8\", 0.9872079491615295, \"Person\"]]}', '{\"IOB_tags\": [\"O\", \"O\", \"O\", \"O\", \"B-Location\", \"O\", \"O\", \"O\", \"O\", \"O\"], \"entities\": [[\"\\\\u05dc\\\\u05d5\\\\u05e4\\\\u05df\", 0.9874908924102783, \"Location\"]]}', '{\"IOB_tags\": [\"O\", \"B-Miscellaneous\", \"O\", \"B-Person\", \"I-Person\", \"O\", \"O\", \"O\", \"O\", \"O\", \"O\", \"B-Person\"], \"entities\": [[\"\\\\u05d4\\\\u05e2\\\\u05e8\\\\u05d1\\\\u05d9\", 0.9590610861778259, \"Miscellaneous\"], [\"\\\\u05de\\\\u05d9\\\\u05d4\\\\u05d5 \\\\u05d1\\\\u05e0\\\\u05d8\", 0.9994260668754578, \"Person\"], [\"\\\\u05e0\\\\u05ea\\\\u05e0\\\\u05d9\\\\u05d4\\\\u05d5\", 0.9990382194519043, \"Person\"]]}', '{\"IOB_tags\": [\"B-Organization\", \"O\", \"O\", \"O\", \"O\", \"O\", \"O\"], \"entities\": [[\"ynet\", 0.9953540563583374, \"Organization\"]]}', '{\"IOB_tags\": [\"O\", \"B-Organization\", \"I-Organization\", \"O\", \"O\", \"O\", \"O\", \"O\", \"B-Person\", \"B-Person\", \"I-Person\", \"O\", \"O\", \"O\", \"O\", \"O\"], \"entities\": [[\"\\\\u05dc\\\\u05de\\\\u05e9\\\\u05e8\\\\u05d3 \\\\u05e8\\\\u05d4\\\\u05de\", 0.973675549030304, \"Organization\"], [\"\\\\u05de\\\\u05e9 \\' \\\\u05e0\\\\u05ea\\\\u05e0\\\\u05d9\\\\u05d4\\\\u05d5\", 0.9970579743385315, \"Person\"]]}', '{\"IOB_tags\": [\"B-Person\", \"I-Person\", \"B-Person\", \"I-Person\", \"O\", \"O\", \"O\", \"O\"], \"entities\": [[\"\\\\u05d3\\\\u05e0\\\\u05d4 \\\\u05d5\\\\u05d9\\\\u05e1 \\\\u05dc\\\\u05d3\\\\u05d5\\\\u05d3\\\\u05d9 \\\\u05d0\\\\u05de\\\\u05e1\\\\u05dc\\\\u05dd\", 0.9924938082695007, \"Person\"]]}', '{\"IOB_tags\": [\"O\", \"O\", \"O\", \"O\", \"O\", \"O\", \"O\", \"O\"], \"entities\": []}', '{\"IOB_tags\": [\"O\", \"O\", \"O\", \"O\", \"O\", \"O\", \"O\", \"O\", \"O\", \"O\", \"O\"], \"entities\": []}', '{\"IOB_tags\": [\"B-Person\", \"O\", \"O\", \"O\", \"B-Organization\", \"I-Organization\", \"O\", \"O\", \"O\", \"O\", \"O\"], \"entities\": [[\"\\\\u05e0\\\\u05ea\\\\u05e0\\\\u05d9\\\\u05d4\\\\u05d5\", 0.9993345737457275, \"Person\"], [\"\\\\u05d2\\\\u05d5\\\\u05e9 \\\\u05d4\\\\u05d0\\\\u05d5\\\\u05e4\\\\u05d5\\\\u05d6\\\\u05d9\\\\u05e6\\\\u05d9\\\\u05d4\", 0.9992954730987549, \"Organization\"]]}', '{\"IOB_tags\": [\"O\", \"O\", \"O\", \"O\", \"O\", \"O\", \"B-Organization\", \"I-Organization\", \"O\", \"O\", \"O\", \"O\"], \"entities\": [[\"\\\\u05e7\\\\u05e8\\\\u05df \\\\u05d4\\\\u05e4\\\\u05e0\\\\u05e1\\\\u05d9\\\\u05d4\", 0.9988857507705688, \"Organization\"]]}', '{\"IOB_tags\": [\"B-Location\", \"I-Location\", \"O\", \"O\", \"O\", \"O\", \"O\"], \"entities\": [[\"\\\\u05d0\\\\u05d9\\\\u05d9\\\\u05dc\\\\u05ea \\\\u05e9\\\\u05e7\\\\u05d3\", 0.9216241240501404, \"Location\"]]}', '{\"IOB_tags\": [\"O\", \"O\", \"O\", \"O\", \"O\", \"O\", \"O\", \"O\", \"O\", \"O\"], \"entities\": []}', '{\"IOB_tags\": [\"O\", \"O\", \"B-Miscellaneous\", \"O\", \"O\", \"B-Person\", \"I-Person\", \"O\", \"B-Person\", \"I-Person\", \"O\", \"B-Person\", \"I-Person\", \"B-Person\", \"I-Person\"], \"entities\": [[\"\\\\u05e1\\\\u05d5\\\\u05e7\\\\u05d5\\\\u05dc\\\\u05d5\\\\u05d1\", 0.5297302007675171, \"Miscellaneous\"], [\"\\\\u05d2\\\\u05d3\\\\u05e2\\\\u05d5\\\\u05df \\\\u05dc\\\\u05d5\\\\u05d9\", 0.9995118379592896, \"Person\"], [\"\\\\u05d0\\\\u05d5\\\\u05d4\\\\u05d3 \\\\u05d7\\\\u05de\\\\u05d5\", 0.9988324046134949, \"Person\"], [\"\\\\u05e7\\\\u05e8\\\\u05d9\\\\u05e0\\\\u05d4 \\\\u05e9\\\\u05d8\\\\u05d5\\\\u05d8\\\\u05dc\\\\u05e0\\\\u05d3 \\\\u05d5\\\\u05d9\\\\u05e4\\\\u05e2\\\\u05ea \\\\u05d2\\\\u05dc\\\\u05d9\\\\u05e7\", 0.9995937943458557, \"Person\"]]}']\n",
      "[[], ['ברביבאי', 'פרץ'], ['שכם'], ['בירושלים', 'צהל'], [], ['חדרה'], ['לופן'], ['טאקו'], ['שמחה רוטמן'], ['איטליה', 'ונציה'], ['תמא 38'], ['אילת', 'מגרעין נחל'], [], ['גדעון סער', 'מנדלבליט'], ['בנט', 'עמנואל מורנו', 'עמנואל'], ['פיניקס'], [], [], ['מיקי זוהר'], ['להפועל תא', 'דמארי'], [], ['נתניהו ובנט', 'רהב', 'ישראל'], [], [], ['מיקרוסופט'], ['ליצמן'], ['הורוביץ'], ['לישראל בטוקיו', 'אנדי מורז'], [], [], ['טודו בום', 'סטטיק', 'לירז רוסו', 'ושרית פולק'], ['סקס אפיל'], ['ארגנטינה', \"צ'ילה\"], ['מכבי תא', 'גלבוע'], ['נתניהו'], ['נגב', 'יהודי'], ['שיק שוק', \"צ'כיה\", 'סקוטלנד'], ['ישיבת נווה הרצוג'], ['צבי טאו', 'סמוטריץ'], ['רשות המיסים', 'תל אביב'], ['פולקסווגן'], ['ליברמן נפגש', 'ההסתדרות'], [], ['ניקול ראידמן', 'טופלס'], [], ['סכנין', 'באר שבע'], [], ['בנט'], [], ['בנט', 'חמאס'], ['חרדית', 'ממשלת ההסתה'], [], ['עכו לטובת'], ['אחינועם ניני', 'נתניהו'], [\"צ'אט\", 'ספורט 5'], [], ['ממשלת בנט - לפיד', 'כנסת'], ['שיק שוק', \"צ'כיה\", 'סקוטלנד'], ['בירם', 'בני סכנין'], ['צסקא ואנדולו', 'תאודוסיץ'], ['ליברמן', 'הבסטיליה'], [], ['בינגו ביבי'], ['הורוסקופ'], ['ביוון וטורקיה שוב'], [], ['כנסת'], ['נפתלי בנט'], ['מיקרוסופט'], [], ['לבנון', 'המזרח התיכון'], ['נחמן שי', 'ניר אורבך'], ['בנט'], ['לופן'], ['ערבי', 'מיהו בנט', 'נתניהו'], ['ynet'], ['למשרד רהמ', \"מש ' נתניהו\"], ['דנה ויס לדודי אמסלם'], [], [], ['נתניהו', 'גוש האופוזיציה'], ['קרן הפנסיה'], ['איילת שקד'], [], ['משחקי השף', 'ארז', 'רשת 13'], ['ביוון וטורקיה שוב'], ['בנט לביידן', 'ישראל'], ['קרינה שטוטלנד'], ['כריסטיאן אריקסן'], ['ישראל'], ['HOT'], ['נתניהו', 'בנט'], ['פיניקס', 'סוויפ', 'דנבר', \"יוקיץ '\"], ['הולנד', 'אוקראינה'], [], ['מיכה', 'אנורתוזיס'], ['יורו', 'הולנד', 'אוקראינה'], [], ['ברביבאי', 'פרץ'], ['שכם'], ['בירושלים', 'צהל'], [], ['חדרה'], ['לופן'], ['טאקו'], ['שמחה רוטמן'], ['איטליה', 'ונציה'], ['תמא 38'], ['אילת', 'מגרעין נחל'], [], ['גדעון סער', 'מנדלבליט'], ['בנט', 'עמנואל מורנו', 'עמנואל'], ['פיניקס'], [], [], ['מיקי זוהר'], ['להפועל תא', 'דמארי'], [], ['נתניהו ובנט', 'רהב', 'ישראל'], [], [], ['מיקרוסופט'], ['ליצמן'], ['הורוביץ'], ['לישראל בטוקיו', 'אנדי מורז'], [], [], ['טודו בום', 'סטטיק', 'לירז רוסו', 'ושרית פולק'], ['סקס אפיל'], ['ארגנטינה', \"צ'ילה\"], ['מכבי תא', 'גלבוע'], ['נתניהו'], ['נגב', 'יהודי'], ['שיק שוק', \"צ'כיה\", 'סקוטלנד'], ['ישיבת נווה הרצוג'], ['צבי טאו', 'סמוטריץ'], ['רשות המיסים', 'תל אביב'], ['פולקסווגן'], ['ליברמן נפגש', 'ההסתדרות'], [], ['ניקול ראידמן', 'טופלס'], [], ['סכנין', 'באר שבע'], [], ['בנט'], [], ['בנט', 'חמאס'], ['חרדית', 'ממשלת ההסתה'], [], ['עכו לטובת'], ['אחינועם ניני', 'נתניהו'], [\"צ'אט\", 'ספורט 5'], [], ['ממשלת בנט - לפיד', 'כנסת'], ['שיק שוק', \"צ'כיה\", 'סקוטלנד'], ['בירם', 'בני סכנין'], ['צסקא ואנדולו', 'תאודוסיץ'], ['ליברמן', 'הבסטיליה'], [], ['בינגו ביבי'], ['הורוסקופ'], ['ביוון וטורקיה שוב'], [], ['כנסת'], ['נפתלי בנט'], ['מיקרוסופט'], [], ['לבנון', 'המזרח התיכון'], ['נחמן שי', 'ניר אורבך'], ['בנט'], ['לופן'], ['ערבי', 'מיהו בנט', 'נתניהו'], ['ynet'], ['למשרד רהמ', \"מש ' נתניהו\"], ['דנה ויס לדודי אמסלם'], [], [], ['נתניהו', 'גוש האופוזיציה'], ['קרן הפנסיה'], ['איילת שקד'], [], ['סוקולוב', 'גדעון לוי', 'אוהד חמו', 'קרינה שטוטלנד ויפעת גליק']]\n"
     ]
    }
   ],
   "source": [
    "print(result.translations)\n",
    "entities = get_entites(result)\n",
    "print(entities)"
   ]
  },
  {
   "cell_type": "code",
   "execution_count": 233,
   "id": "ada6f945",
   "metadata": {},
   "outputs": [],
   "source": [
    "import json\n",
    "\n",
    "def get_entites(result):\n",
    "    entities = []\n",
    "    for prediction in result.translations:\n",
    "        jsonStr = json.loads(prediction)\n",
    "        for key in jsonStr:\n",
    "            if key == \"entities\":\n",
    "                for entity in jsonStr[key]:\n",
    "                    #print(entity)\n",
    "                    new_entity = match_entity_with_wikititle(entity[0], title_list)\n",
    "                    entities.append(new_entity)\n",
    "    return entities"
   ]
  },
  {
   "cell_type": "code",
   "execution_count": 231,
   "id": "24c1c37f",
   "metadata": {},
   "outputs": [
    {
     "name": "stdout",
     "output_type": "stream",
     "text": [
      "98\n",
      "[]\n",
      "['ברביבאי', 'פרץ']\n",
      "['שכם']\n",
      "['בירושלים', 'צהל']\n",
      "[]\n",
      "['חדרה']\n",
      "['לופן']\n",
      "['טאקו']\n",
      "['שמחה רוטמן']\n",
      "['איטליה', 'ונציה']\n",
      "['תמא 38']\n",
      "['אילת', 'מגרעין נחל']\n",
      "[]\n",
      "['גדעון סער', 'מנדלבליט']\n",
      "['בנט', 'עמנואל מורנו', 'עמנואל']\n",
      "['פיניקס']\n",
      "[]\n",
      "[]\n",
      "['מיקי זוהר']\n",
      "['להפועל תא', 'דמארי']\n",
      "[]\n",
      "['נתניהו ובנט', 'רהב', 'ישראל']\n",
      "[]\n",
      "[]\n",
      "['מיקרוסופט']\n",
      "['ליצמן']\n",
      "['הורוביץ']\n",
      "['לישראל בטוקיו', 'אנדי מורז']\n",
      "[]\n",
      "[]\n",
      "['טודו בום', 'סטטיק', 'לירז רוסו', 'ושרית פולק']\n",
      "['סקס אפיל']\n",
      "['ארגנטינה', \"צ'ילה\"]\n",
      "['מכבי תא', 'גלבוע']\n",
      "['נתניהו']\n",
      "['נגב', 'יהודי']\n",
      "['שיק שוק', \"צ'כיה\", 'סקוטלנד']\n",
      "['ישיבת נווה הרצוג']\n",
      "['צבי טאו', 'סמוטריץ']\n",
      "['רשות המיסים', 'תל אביב']\n",
      "['פולקסווגן']\n",
      "['ליברמן נפגש', 'ההסתדרות']\n",
      "[]\n",
      "['ניקול ראידמן', 'טופלס']\n",
      "[]\n",
      "['סכנין', 'באר שבע']\n",
      "[]\n",
      "['בנט']\n",
      "[]\n",
      "['בנט', 'חמאס']\n",
      "['חרדית', 'ממשלת ההסתה']\n",
      "[]\n",
      "['עכו לטובת']\n",
      "['אחינועם ניני', 'נתניהו']\n",
      "[\"צ'אט\", 'ספורט 5']\n",
      "[]\n",
      "['ממשלת בנט - לפיד', 'כנסת']\n",
      "['שיק שוק', \"צ'כיה\", 'סקוטלנד']\n",
      "['בירם', 'בני סכנין']\n",
      "['צסקא ואנדולו', 'תאודוסיץ']\n",
      "['ליברמן', 'הבסטיליה']\n",
      "[]\n",
      "['בינגו ביבי']\n",
      "['הורוסקופ']\n",
      "['ביוון וטורקיה שוב']\n",
      "[]\n",
      "['כנסת']\n",
      "['נפתלי בנט']\n",
      "['מיקרוסופט']\n",
      "[]\n",
      "['לבנון', 'המזרח התיכון']\n",
      "['נחמן שי', 'ניר אורבך']\n",
      "['בנט']\n",
      "['לופן']\n",
      "['ערבי', 'מיהו בנט', 'נתניהו']\n",
      "['ynet']\n",
      "['למשרד רהמ', \"מש ' נתניהו\"]\n",
      "['דנה ויס לדודי אמסלם']\n",
      "[]\n",
      "[]\n",
      "['נתניהו', 'גוש האופוזיציה']\n",
      "['קרן הפנסיה']\n",
      "['איילת שקד']\n",
      "[]\n",
      "['משחקי השף', 'ארז', 'רשת 13']\n",
      "['ביוון וטורקיה שוב']\n",
      "['בנט לביידן', 'ישראל']\n",
      "['קרינה שטוטלנד']\n",
      "['כריסטיאן אריקסן']\n",
      "['ישראל']\n",
      "['HOT']\n",
      "['נתניהו', 'בנט']\n",
      "['פיניקס', 'סוויפ', 'דנבר', \"יוקיץ '\"]\n",
      "['הולנד', 'אוקראינה']\n",
      "[]\n",
      "['מיכה', 'אנורתוזיס']\n",
      "['יורו', 'הולנד', 'אוקראינה']\n",
      "[]\n",
      "['ברביבאי', 'פרץ']\n",
      "['שכם']\n",
      "['בירושלים', 'צהל']\n",
      "[]\n",
      "['חדרה']\n",
      "['לופן']\n",
      "['טאקו']\n",
      "['שמחה רוטמן']\n",
      "['איטליה', 'ונציה']\n",
      "['תמא 38']\n",
      "['אילת', 'מגרעין נחל']\n",
      "[]\n",
      "['גדעון סער', 'מנדלבליט']\n",
      "['בנט', 'עמנואל מורנו', 'עמנואל']\n",
      "['פיניקס']\n",
      "[]\n",
      "[]\n",
      "['מיקי זוהר']\n",
      "['להפועל תא', 'דמארי']\n",
      "[]\n",
      "['נתניהו ובנט', 'רהב', 'ישראל']\n",
      "[]\n",
      "[]\n",
      "['מיקרוסופט']\n",
      "['ליצמן']\n",
      "['הורוביץ']\n",
      "['לישראל בטוקיו', 'אנדי מורז']\n",
      "[]\n",
      "[]\n",
      "['טודו בום', 'סטטיק', 'לירז רוסו', 'ושרית פולק']\n",
      "['סקס אפיל']\n",
      "['ארגנטינה', \"צ'ילה\"]\n",
      "['מכבי תא', 'גלבוע']\n",
      "['נתניהו']\n",
      "['נגב', 'יהודי']\n",
      "['שיק שוק', \"צ'כיה\", 'סקוטלנד']\n",
      "['ישיבת נווה הרצוג']\n",
      "['צבי טאו', 'סמוטריץ']\n",
      "['רשות המיסים', 'תל אביב']\n",
      "['פולקסווגן']\n",
      "['ליברמן נפגש', 'ההסתדרות']\n",
      "[]\n",
      "['ניקול ראידמן', 'טופלס']\n",
      "[]\n",
      "['סכנין', 'באר שבע']\n",
      "[]\n",
      "['בנט']\n",
      "[]\n",
      "['בנט', 'חמאס']\n",
      "['חרדית', 'ממשלת ההסתה']\n",
      "[]\n",
      "['עכו לטובת']\n",
      "['אחינועם ניני', 'נתניהו']\n",
      "[\"צ'אט\", 'ספורט 5']\n",
      "[]\n",
      "['ממשלת בנט - לפיד', 'כנסת']\n",
      "['שיק שוק', \"צ'כיה\", 'סקוטלנד']\n",
      "['בירם', 'בני סכנין']\n",
      "['צסקא ואנדולו', 'תאודוסיץ']\n",
      "['ליברמן', 'הבסטיליה']\n",
      "[]\n",
      "['בינגו ביבי']\n",
      "['הורוסקופ']\n",
      "['ביוון וטורקיה שוב']\n",
      "[]\n",
      "['כנסת']\n",
      "['נפתלי בנט']\n",
      "['מיקרוסופט']\n",
      "[]\n",
      "['לבנון', 'המזרח התיכון']\n",
      "['נחמן שי', 'ניר אורבך']\n",
      "['בנט']\n",
      "['לופן']\n",
      "['ערבי', 'מיהו בנט', 'נתניהו']\n",
      "['ynet']\n",
      "['למשרד רהמ', \"מש ' נתניהו\"]\n",
      "['דנה ויס לדודי אמסלם']\n",
      "[]\n",
      "[]\n",
      "['נתניהו', 'גוש האופוזיציה']\n",
      "['קרן הפנסיה']\n",
      "['איילת שקד']\n",
      "[]\n",
      "['סוקולוב', 'גדעון לוי', 'אוהד חמו', 'קרינה שטוטלנד ויפעת גליק']\n"
     ]
    }
   ],
   "source": [
    "print(len(title_example))\n",
    "for entity in entities:\n",
    "    print(entity)"
   ]
  },
  {
   "cell_type": "code",
   "execution_count": 29,
   "id": "f471048b",
   "metadata": {},
   "outputs": [],
   "source": [
    "def match_entity_with_wikititle(entity, title_list):\n",
    "    if entity in title_list:\n",
    "        return entity\n",
    "    elif entity[1:] in title_list:\n",
    "        return entity[1:]\n",
    "    else:\n",
    "        return entity"
   ]
  },
  {
   "cell_type": "code",
   "execution_count": 43,
   "id": "3f10db26",
   "metadata": {},
   "outputs": [
    {
     "name": "stdout",
     "output_type": "stream",
     "text": [
      "חוקי פרנל-ארגו\n"
     ]
    },
    {
     "ename": "AssertionError",
     "evalue": "",
     "output_type": "error",
     "traceback": [
      "\u001b[0;31m---------------------------------------------------------------------------\u001b[0m",
      "\u001b[0;31mAssertionError\u001b[0m                            Traceback (most recent call last)",
      "\u001b[0;32m<ipython-input-43-c622c92688d2>\u001b[0m in \u001b[0;36m<module>\u001b[0;34m\u001b[0m\n\u001b[1;32m     16\u001b[0m \u001b[0mprint\u001b[0m\u001b[0;34m(\u001b[0m\u001b[0mnew_entity\u001b[0m\u001b[0;34m)\u001b[0m\u001b[0;34m\u001b[0m\u001b[0;34m\u001b[0m\u001b[0m\n\u001b[1;32m     17\u001b[0m \u001b[0;34m\u001b[0m\u001b[0m\n\u001b[0;32m---> 18\u001b[0;31m \u001b[0;32massert\u001b[0m \u001b[0;34m'צ‘כיה'\u001b[0m \u001b[0;34m==\u001b[0m \u001b[0mnew_entity\u001b[0m\u001b[0;34m\u001b[0m\u001b[0;34m\u001b[0m\u001b[0m\n\u001b[0m",
      "\u001b[0;31mAssertionError\u001b[0m: "
     ]
    }
   ],
   "source": [
    "def _match_entity_with_wikititle(entity, title_list):\n",
    "    '''\n",
    "    Match entity without prefix (first char) with wikipedia title. if there, we keep the removed prefix one, if not, we keep original entity.\n",
    "    '''\n",
    "    if entity in title_list:\n",
    "        return entity\n",
    "    elif entity[0] in ['ש', 'ל', 'מ', 'ב', 'ו'] and entity[1:] in title_list:\n",
    "        return entity[1:]\n",
    "    else:\n",
    "        return entity\n",
    "\n",
    "title_list = ['חוקי פרנל-ארגו', 'אנסטסיוס השני', 'צ‘כיה']\n",
    "entity = 'חוקי פרנל-ארגו'\n",
    "\n",
    "new_entity = _match_entity_with_wikititle(entity, title_list)\n",
    "print(new_entity)\n",
    "\n",
    "assert 'צ‘כיה' == new_entity"
   ]
  },
  {
   "cell_type": "code",
   "execution_count": 35,
   "id": "f0afa061",
   "metadata": {},
   "outputs": [
    {
     "ename": "OSError",
     "evalue": "Failed calling subprocess: hdfs dfs -get hdfs://nr-hbase-c-hdfs.service.consul.taboolasyndication.com/newsroom-backend/jupyter/notebooks/allen.wu/200_hebrew_titles.json /cache with error [b\"get: `/cache/200_hebrew_titles.json': File exists\"]",
     "output_type": "error",
     "traceback": [
      "\u001b[0;31m---------------------------------------------------------------------------\u001b[0m",
      "\u001b[0;31mOSError\u001b[0m                                   Traceback (most recent call last)",
      "\u001b[0;32m<ipython-input-35-79a8ead43038>\u001b[0m in \u001b[0;36m<module>\u001b[0;34m\u001b[0m\n\u001b[1;32m      4\u001b[0m \u001b[0mhdfs_sub_data_dir\u001b[0m \u001b[0;34m=\u001b[0m \u001b[0;34m\"/newsroom-backend/jupyter/notebooks/allen.wu/200_hebrew_titles.json\"\u001b[0m\u001b[0;34m\u001b[0m\u001b[0;34m\u001b[0m\u001b[0m\n\u001b[1;32m      5\u001b[0m \u001b[0mhdfs_data_dir\u001b[0m \u001b[0;34m=\u001b[0m \u001b[0mhdfs_prefix\u001b[0m \u001b[0;34m+\u001b[0m \u001b[0mhdfs_sub_data_dir\u001b[0m\u001b[0;34m\u001b[0m\u001b[0;34m\u001b[0m\u001b[0m\n\u001b[0;32m----> 6\u001b[0;31m \u001b[0mhdfs_utils\u001b[0m\u001b[0;34m.\u001b[0m\u001b[0mget\u001b[0m\u001b[0;34m(\u001b[0m\u001b[0mhdfs_data_dir\u001b[0m\u001b[0;34m,\u001b[0m \u001b[0;34m\"/cache\"\u001b[0m\u001b[0;34m)\u001b[0m\u001b[0;34m\u001b[0m\u001b[0;34m\u001b[0m\u001b[0m\n\u001b[0m",
      "\u001b[0;32m/anaconda/lib/python3.7/site-packages/clustering-3.7-py3.7.egg/taboola/common/datasethelper/hdfs_utils.py\u001b[0m in \u001b[0;36mget\u001b[0;34m(remote_file_path, local_target_dir, overwrite)\u001b[0m\n\u001b[1;32m    124\u001b[0m         \u001b[0mlogged_subprocess_call\u001b[0m\u001b[0;34m(\u001b[0m\u001b[0;34m[\u001b[0m\u001b[0;34m\"hdfs\"\u001b[0m\u001b[0;34m,\u001b[0m \u001b[0;34m\"dfs\"\u001b[0m\u001b[0;34m,\u001b[0m \u001b[0;34m\"-get\"\u001b[0m\u001b[0;34m,\u001b[0m \u001b[0;34m\"-f\"\u001b[0m\u001b[0;34m,\u001b[0m \u001b[0mremote_file_path\u001b[0m\u001b[0;34m,\u001b[0m \u001b[0mlocal_target_dir\u001b[0m\u001b[0;34m]\u001b[0m\u001b[0;34m,\u001b[0m \u001b[0menv\u001b[0m\u001b[0;34m=\u001b[0m\u001b[0menv\u001b[0m\u001b[0;34m)\u001b[0m\u001b[0;34m\u001b[0m\u001b[0;34m\u001b[0m\u001b[0m\n\u001b[1;32m    125\u001b[0m     \u001b[0;32melse\u001b[0m\u001b[0;34m:\u001b[0m\u001b[0;34m\u001b[0m\u001b[0;34m\u001b[0m\u001b[0m\n\u001b[0;32m--> 126\u001b[0;31m         \u001b[0mlogged_subprocess_call\u001b[0m\u001b[0;34m(\u001b[0m\u001b[0;34m[\u001b[0m\u001b[0;34m\"hdfs\"\u001b[0m\u001b[0;34m,\u001b[0m \u001b[0;34m\"dfs\"\u001b[0m\u001b[0;34m,\u001b[0m \u001b[0;34m\"-get\"\u001b[0m\u001b[0;34m,\u001b[0m \u001b[0mremote_file_path\u001b[0m\u001b[0;34m,\u001b[0m \u001b[0mlocal_target_dir\u001b[0m\u001b[0;34m]\u001b[0m\u001b[0;34m,\u001b[0m \u001b[0menv\u001b[0m\u001b[0;34m=\u001b[0m\u001b[0menv\u001b[0m\u001b[0;34m)\u001b[0m\u001b[0;34m\u001b[0m\u001b[0;34m\u001b[0m\u001b[0m\n\u001b[0m\u001b[1;32m    127\u001b[0m     \u001b[0;32mreturn\u001b[0m \u001b[0mos\u001b[0m\u001b[0;34m.\u001b[0m\u001b[0mpath\u001b[0m\u001b[0;34m.\u001b[0m\u001b[0mjoin\u001b[0m\u001b[0;34m(\u001b[0m\u001b[0mlocal_target_dir\u001b[0m\u001b[0;34m,\u001b[0m \u001b[0mos\u001b[0m\u001b[0;34m.\u001b[0m\u001b[0mpath\u001b[0m\u001b[0;34m.\u001b[0m\u001b[0mbasename\u001b[0m\u001b[0;34m(\u001b[0m\u001b[0mos\u001b[0m\u001b[0;34m.\u001b[0m\u001b[0mpath\u001b[0m\u001b[0;34m.\u001b[0m\u001b[0mnormpath\u001b[0m\u001b[0;34m(\u001b[0m\u001b[0mremote_file_path\u001b[0m\u001b[0;34m)\u001b[0m\u001b[0;34m)\u001b[0m\u001b[0;34m)\u001b[0m\u001b[0;34m\u001b[0m\u001b[0;34m\u001b[0m\u001b[0m\n\u001b[1;32m    128\u001b[0m \u001b[0;34m\u001b[0m\u001b[0m\n",
      "\u001b[0;32m/anaconda/lib/python3.7/site-packages/clustering-3.7-py3.7.egg/taboola/common/os_utils.py\u001b[0m in \u001b[0;36mlogged_subprocess_call\u001b[0;34m(arguments, log_stdout, log_stderr, return_exit_code, env, shell)\u001b[0m\n\u001b[1;32m     18\u001b[0m \u001b[0;34m\u001b[0m\u001b[0m\n\u001b[1;32m     19\u001b[0m     \u001b[0;32mif\u001b[0m \u001b[0mp\u001b[0m\u001b[0;34m.\u001b[0m\u001b[0mreturncode\u001b[0m \u001b[0;34m!=\u001b[0m \u001b[0;36m0\u001b[0m \u001b[0;32mand\u001b[0m \u001b[0mp\u001b[0m\u001b[0;34m.\u001b[0m\u001b[0mreturncode\u001b[0m \u001b[0;32mis\u001b[0m \u001b[0;32mnot\u001b[0m \u001b[0;32mNone\u001b[0m\u001b[0;34m:\u001b[0m\u001b[0;34m\u001b[0m\u001b[0;34m\u001b[0m\u001b[0m\n\u001b[0;32m---> 20\u001b[0;31m         \u001b[0;32mraise\u001b[0m \u001b[0mIOError\u001b[0m\u001b[0;34m(\u001b[0m\u001b[0;34m'Failed calling subprocess: {} with error {}'\u001b[0m\u001b[0;34m.\u001b[0m\u001b[0mformat\u001b[0m\u001b[0;34m(\u001b[0m\u001b[0;34m' '\u001b[0m\u001b[0;34m.\u001b[0m\u001b[0mjoin\u001b[0m\u001b[0;34m(\u001b[0m\u001b[0marguments\u001b[0m\u001b[0;34m)\u001b[0m\u001b[0;34m,\u001b[0m \u001b[0mstderr\u001b[0m\u001b[0;34m.\u001b[0m\u001b[0msplitlines\u001b[0m\u001b[0;34m(\u001b[0m\u001b[0;34m)\u001b[0m\u001b[0;34m)\u001b[0m\u001b[0;34m)\u001b[0m\u001b[0;34m\u001b[0m\u001b[0;34m\u001b[0m\u001b[0m\n\u001b[0m\u001b[1;32m     21\u001b[0m \u001b[0;34m\u001b[0m\u001b[0m\n\u001b[1;32m     22\u001b[0m \u001b[0;34m\u001b[0m\u001b[0m\n",
      "\u001b[0;31mOSError\u001b[0m: Failed calling subprocess: hdfs dfs -get hdfs://nr-hbase-c-hdfs.service.consul.taboolasyndication.com/newsroom-backend/jupyter/notebooks/allen.wu/200_hebrew_titles.json /cache with error [b\"get: `/cache/200_hebrew_titles.json': File exists\"]"
     ]
    }
   ],
   "source": [
    "import taboola.common.datasethelper.hdfs_utils as hdfs_utils\n",
    "\n",
    "hdfs_prefix = \"hdfs://nr-hbase-c-hdfs.service.consul.taboolasyndication.com\"\n",
    "hdfs_sub_data_dir = \"/newsroom-backend/jupyter/notebooks/allen.wu/200_hebrew_titles.json\"\n",
    "hdfs_data_dir = hdfs_prefix + hdfs_sub_data_dir\n",
    "hdfs_utils.get(hdfs_data_dir, \"/cache\") "
   ]
  },
  {
   "cell_type": "code",
   "execution_count": 246,
   "id": "3f4a63a5",
   "metadata": {},
   "outputs": [
    {
     "name": "stdout",
     "output_type": "stream",
     "text": [
      "['{\"IOB_tags\": [\"B-Miscellaneous\", \"I-Miscellaneous\", \"O\", \"O\", \"O\", \"O\", \"O\", \"O\", \"O\", \"O\", \"O\", \"B-Person\", \"O\", \"B-Organization\", \"I-Organization\"], \"entities\": [[\"\\\\u05de\\\\u05e9\\\\u05d7\\\\u05e7\\\\u05d9 \\\\u05d4\\\\u05e9\\\\u05e3\", 0.9859762787818909, \"Miscellaneous\"], [\"\\\\u05dc\\\\u05d0\\\\u05e8\\\\u05d6\", 0.8684145212173462, \"Person\"], [\"\\\\u05e8\\\\u05e9\\\\u05ea 13\", 0.9811676144599915, \"Organization\"]]}']\n",
      "['{\"IOB_tags\": [\"O\", \"O\", \"O\", \"B-Location\", \"B-Location\", \"I-Location\", \"O\", \"O\", \"O\", \"O\", \"O\", \"O\"], \"entities\": [[\"\\\\u05d1\\\\u05d9\\\\u05d5\\\\u05d5\\\\u05df \\\\u05d5\\\\u05d8\\\\u05d5\\\\u05e8\\\\u05e7\\\\u05d9\\\\u05d4 \\\\u05e9\\\\u05d5\\\\u05d1\", 0.9989286661148071, \"Location\"]]}']\n",
      "['{\"IOB_tags\": [\"O\", \"O\", \"O\", \"B-Person\", \"B-Person\", \"O\", \"O\", \"O\", \"O\", \"O\", \"B-Location\"], \"entities\": [[\"\\\\u05d1\\\\u05e0\\\\u05d8 \\\\u05dc\\\\u05d1\\\\u05d9\\\\u05d9\\\\u05d3\\\\u05df\", 0.924168586730957, \"Person\"], [\"\\\\u05d9\\\\u05e9\\\\u05e8\\\\u05d0\\\\u05dc\", 0.9922974109649658, \"Location\"]]}']\n",
      "['{\"IOB_tags\": [\"O\", \"O\", \"O\", \"O\", \"B-Person\", \"I-Person\", \"O\", \"O\", \"O\"], \"entities\": [[\"\\\\u05e7\\\\u05e8\\\\u05d9\\\\u05e0\\\\u05d4 \\\\u05e9\\\\u05d8\\\\u05d5\\\\u05d8\\\\u05dc\\\\u05e0\\\\u05d3\", 0.9992030262947083, \"Person\"]]}']\n",
      "['{\"IOB_tags\": [\"B-Person\", \"I-Person\", \"O\", \"O\", \"O\", \"O\", \"O\", \"O\", \"O\"], \"entities\": [[\"\\\\u05db\\\\u05e8\\\\u05d9\\\\u05e1\\\\u05d8\\\\u05d9\\\\u05d0\\\\u05df \\\\u05d0\\\\u05e8\\\\u05d9\\\\u05e7\\\\u05e1\\\\u05df\", 0.9993698000907898, \"Person\"]]}']\n",
      "['{\"IOB_tags\": [\"O\", \"O\", \"O\", \"O\", \"O\", \"O\", \"O\", \"O\", \"O\", \"B-Location\"], \"entities\": [[\"\\\\u05d1\\\\u05d9\\\\u05e9\\\\u05e8\\\\u05d0\\\\u05dc\", 0.9559805393218994, \"Location\"]]}']\n",
      "['{\"IOB_tags\": [\"B-Organization\", \"O\", \"O\", \"O\", \"O\", \"O\", \"O\", \"O\", \"O\"], \"entities\": [[\"HOT\", 0.702131986618042, \"Organization\"]]}']\n",
      "['{\"IOB_tags\": [\"O\", \"O\", \"O\", \"B-Person\", \"O\", \"O\", \"O\", \"O\", \"B-Person\"], \"entities\": [[\"\\\\u05e0\\\\u05ea\\\\u05e0\\\\u05d9\\\\u05d4\\\\u05d5\", 0.9815190434455872, \"Person\"], [\"\\\\u05d1\\\\u05e0\\\\u05d8\", 0.896994948387146, \"Person\"]]}']\n",
      "['{\"IOB_tags\": [\"B-Organization\", \"O\", \"B-Miscellaneous\", \"O\", \"B-Miscellaneous\", \"O\", \"B-Person\", \"I-Person\", \"O\"], \"entities\": [[\"\\\\u05e4\\\\u05d9\\\\u05e0\\\\u05d9\\\\u05e7\\\\u05e1\", 0.9643783569335938, \"Organization\"], [\"\\\\u05e1\\\\u05d5\\\\u05d5\\\\u05d9\\\\u05e4\", 0.6405458450317383, \"Miscellaneous\"], [\"\\\\u05d3\\\\u05e0\\\\u05d1\\\\u05e8\", 0.8868756890296936, \"Miscellaneous\"], [\"\\\\u05d9\\\\u05d5\\\\u05e7\\\\u05d9\\\\u05e5 \\'\", 0.9745079278945923, \"Person\"]]}']\n",
      "['{\"IOB_tags\": [\"O\", \"O\", \"O\", \"O\", \"O\", \"B-Location\", \"O\", \"B-Location\"], \"entities\": [[\"\\\\u05dc\\\\u05d4\\\\u05d5\\\\u05dc\\\\u05e0\\\\u05d3\", 0.9992678165435791, \"Location\"], [\"\\\\u05d0\\\\u05d5\\\\u05e7\\\\u05e8\\\\u05d0\\\\u05d9\\\\u05e0\\\\u05d4\", 0.9996681809425354, \"Location\"]]}']\n",
      "['{\"IOB_tags\": [\"O\", \"O\", \"O\", \"O\", \"O\", \"O\", \"O\", \"O\", \"O\", \"O\", \"O\", \"O\", \"O\", \"O\", \"O\", \"O\", \"O\", \"O\"], \"entities\": []}']\n",
      "['{\"IOB_tags\": [\"O\", \"O\", \"O\", \"B-Person\", \"O\", \"O\", \"B-Organization\"], \"entities\": [[\"\\\\u05de\\\\u05d9\\\\u05db\\\\u05d4\", 0.9856308102607727, \"Person\"], [\"\\\\u05de\\\\u05d0\\\\u05e0\\\\u05d5\\\\u05e8\\\\u05ea\\\\u05d5\\\\u05d6\\\\u05d9\\\\u05e1\", 0.9986190795898438, \"Organization\"]]}']\n",
      "['{\"IOB_tags\": [\"B-Miscellaneous\", \"O\", \"O\", \"O\", \"O\", \"B-Location\", \"O\", \"B-Location\"], \"entities\": [[\"\\\\u05d9\\\\u05d5\\\\u05e8\\\\u05d5\", 0.9990972876548767, \"Miscellaneous\"], [\"\\\\u05dc\\\\u05d4\\\\u05d5\\\\u05dc\\\\u05e0\\\\u05d3\", 0.9977680444717407, \"Location\"], [\"\\\\u05d0\\\\u05d5\\\\u05e7\\\\u05e8\\\\u05d0\\\\u05d9\\\\u05e0\\\\u05d4\", 0.9992077946662903, \"Location\"]]}']\n",
      "['{\"IOB_tags\": [\"O\", \"O\", \"O\", \"O\", \"O\", \"O\", \"O\", \"O\", \"O\", \"O\", \"O\", \"O\", \"O\", \"O\", \"O\", \"O\", \"O\", \"O\"], \"entities\": []}']\n",
      "['{\"IOB_tags\": [\"B-Location\", \"O\", \"O\", \"B-Person\", \"O\", \"O\", \"O\", \"O\", \"O\", \"O\"], \"entities\": [[\"\\\\u05d1\\\\u05e8\\\\u05d1\\\\u05d9\\\\u05d1\\\\u05d0\\\\u05d9\", 0.9771886467933655, \"Location\"], [\"\\\\u05e4\\\\u05e8\\\\u05e5\", 0.9912943243980408, \"Person\"]]}']\n",
      "['{\"IOB_tags\": [\"O\", \"O\", \"O\", \"O\", \"O\", \"O\", \"O\", \"O\", \"O\", \"O\", \"O\", \"B-Location\"], \"entities\": [[\"\\\\u05e9\\\\u05db\\\\u05dd\", 0.9338584542274475, \"Location\"]]}']\n",
      "['{\"IOB_tags\": [\"O\", \"O\", \"O\", \"O\", \"B-Location\", \"O\", \"B-Organization\", \"O\", \"O\", \"O\", \"O\"], \"entities\": [[\"\\\\u05d1\\\\u05d9\\\\u05e8\\\\u05d5\\\\u05e9\\\\u05dc\\\\u05d9\\\\u05dd\", 0.9927451610565186, \"Location\"], [\"\\\\u05e6\\\\u05d4\\\\u05dc\", 0.8921674489974976, \"Organization\"]]}']\n",
      "['{\"IOB_tags\": [\"O\", \"O\", \"O\", \"O\", \"O\", \"O\", \"O\", \"O\", \"O\", \"O\", \"O\"], \"entities\": []}']\n",
      "['{\"IOB_tags\": [\"O\", \"O\", \"O\", \"O\", \"O\", \"O\", \"B-Location\"], \"entities\": [[\"\\\\u05d1\\\\u05d7\\\\u05d3\\\\u05e8\\\\u05d4\", 0.9991934895515442, \"Location\"]]}']\n",
      "['{\"IOB_tags\": [\"O\", \"O\", \"O\", \"O\", \"B-Location\", \"O\", \"O\", \"O\", \"O\", \"O\"], \"entities\": [[\"\\\\u05dc\\\\u05d5\\\\u05e4\\\\u05df\", 0.9874908924102783, \"Location\"]]}']\n",
      "['{\"IOB_tags\": [\"O\", \"O\", \"O\", \"O\", \"O\", \"O\", \"O\", \"O\", \"O\", \"B-Location\"], \"entities\": [[\"\\\\u05d8\\\\u05d0\\\\u05e7\\\\u05d5\", 0.9709859490394592, \"Location\"]]}']\n",
      "['{\"IOB_tags\": [\"B-Person\", \"I-Person\", \"O\", \"O\", \"O\", \"O\", \"O\", \"O\"], \"entities\": [[\"\\\\u05e9\\\\u05de\\\\u05d7\\\\u05d4 \\\\u05e8\\\\u05d5\\\\u05d8\\\\u05de\\\\u05df\", 0.9996119141578674, \"Person\"]]}']\n",
      "['{\"IOB_tags\": [\"B-Location\", \"O\", \"O\", \"O\", \"O\", \"O\", \"O\", \"B-Location\"], \"entities\": [[\"\\\\u05d1\\\\u05d0\\\\u05d9\\\\u05d8\\\\u05dc\\\\u05d9\\\\u05d4\", 0.9994908571243286, \"Location\"], [\"\\\\u05d5\\\\u05e0\\\\u05e6\\\\u05d9\\\\u05d4\", 0.9637407660484314, \"Location\"]]}']\n",
      "['{\"IOB_tags\": [\"B-Miscellaneous\", \"I-Miscellaneous\", \"O\", \"O\", \"O\", \"O\", \"O\", \"O\", \"O\"], \"entities\": [[\"\\\\u05ea\\\\u05de\\\\u05d0 38\", 0.9996510148048401, \"Miscellaneous\"]]}']\n",
      "['{\"IOB_tags\": [\"O\", \"O\", \"O\", \"O\", \"O\", \"O\", \"B-Location\", \"O\", \"O\", \"B-Location\", \"I-Location\", \"O\", \"O\", \"O\"], \"entities\": [[\"\\\\u05d0\\\\u05d9\\\\u05dc\\\\u05ea\", 0.9978575110435486, \"Location\"], [\"\\\\u05de\\\\u05d2\\\\u05e8\\\\u05e2\\\\u05d9\\\\u05df \\\\u05e0\\\\u05d7\\\\u05dc\", 0.9779624342918396, \"Location\"]]}']\n",
      "['{\"IOB_tags\": [\"O\", \"O\", \"O\", \"O\", \"O\", \"O\"], \"entities\": []}']\n",
      "['{\"IOB_tags\": [\"B-Person\", \"I-Person\", \"O\", \"O\", \"O\", \"O\", \"O\", \"O\", \"O\", \"O\", \"B-Organization\"], \"entities\": [[\"\\\\u05d2\\\\u05d3\\\\u05e2\\\\u05d5\\\\u05df \\\\u05e1\\\\u05e2\\\\u05e8\", 0.9991706609725952, \"Person\"], [\"\\\\u05de\\\\u05e0\\\\u05d3\\\\u05dc\\\\u05d1\\\\u05dc\\\\u05d9\\\\u05d8\", 0.9024451971054077, \"Organization\"]]}']\n",
      "['{\"IOB_tags\": [\"B-Organization\", \"O\", \"O\", \"B-Person\", \"I-Person\", \"O\", \"O\", \"O\", \"O\", \"O\", \"O\", \"O\", \"O\", \"O\", \"O\", \"B-Person\"], \"entities\": [[\"\\\\u05d1\\\\u05e0\\\\u05d8\", 0.6248018741607666, \"Organization\"], [\"\\\\u05e2\\\\u05de\\\\u05e0\\\\u05d5\\\\u05d0\\\\u05dc \\\\u05de\\\\u05d5\\\\u05e8\\\\u05e0\\\\u05d5\", 0.9949772357940674, \"Person\"], [\"\\\\u05e2\\\\u05de\\\\u05e0\\\\u05d5\\\\u05d0\\\\u05dc\", 0.9883251190185547, \"Person\"]]}']\n",
      "['{\"IOB_tags\": [\"O\", \"O\", \"O\", \"O\", \"O\", \"B-Organization\"], \"entities\": [[\"\\\\u05e4\\\\u05d9\\\\u05e0\\\\u05d9\\\\u05e7\\\\u05e1\", 0.9953673481941223, \"Organization\"]]}']\n",
      "['{\"IOB_tags\": [\"O\", \"O\", \"O\", \"O\", \"O\", \"O\", \"O\"], \"entities\": []}']\n",
      "['{\"IOB_tags\": [\"O\", \"O\", \"O\", \"O\", \"O\", \"O\", \"O\", \"O\", \"O\", \"O\", \"O\", \"O\", \"O\", \"O\"], \"entities\": []}']\n",
      "['{\"IOB_tags\": [\"O\", \"O\", \"B-Person\", \"I-Person\", \"O\", \"O\", \"O\", \"O\"], \"entities\": [[\"\\\\u05de\\\\u05d9\\\\u05e7\\\\u05d9 \\\\u05d6\\\\u05d5\\\\u05d4\\\\u05e8\", 0.9995661973953247, \"Person\"]]}']\n",
      "['{\"IOB_tags\": [\"O\", \"B-Organization\", \"I-Organization\", \"O\", \"B-Person\", \"O\", \"O\", \"O\", \"O\", \"O\"], \"entities\": [[\"\\\\u05dc\\\\u05d4\\\\u05e4\\\\u05d5\\\\u05e2\\\\u05dc \\\\u05ea\\\\u05d0\", 0.9895309209823608, \"Organization\"], [\"\\\\u05d3\\\\u05de\\\\u05d0\\\\u05e8\\\\u05d9\", 0.9941695928573608, \"Person\"]]}']\n",
      "['{\"IOB_tags\": [\"O\", \"O\", \"O\", \"O\", \"O\"], \"entities\": []}']\n",
      "['{\"IOB_tags\": [\"B-Person\", \"B-Person\", \"O\", \"O\", \"O\", \"O\", \"B-Location\", \"O\", \"B-Location\"], \"entities\": [[\"\\\\u05e0\\\\u05ea\\\\u05e0\\\\u05d9\\\\u05d4\\\\u05d5 \\\\u05d5\\\\u05d1\\\\u05e0\\\\u05d8\", 0.9993926882743835, \"Person\"], [\"\\\\u05d0\\\\u05e8\\\\u05d4\\\\u05d1\", 0.7051506638526917, \"Location\"], [\"\\\\u05d9\\\\u05e9\\\\u05e8\\\\u05d0\\\\u05dc\", 0.958656907081604, \"Location\"]]}']\n",
      "['{\"IOB_tags\": [\"O\", \"O\", \"O\", \"O\", \"O\", \"O\", \"O\", \"O\", \"O\", \"O\"], \"entities\": []}']\n",
      "['{\"IOB_tags\": [\"O\", \"O\", \"O\", \"O\", \"O\", \"O\", \"O\", \"O\"], \"entities\": []}']\n",
      "['{\"IOB_tags\": [\"B-Organization\", \"O\", \"O\", \"O\", \"O\"], \"entities\": [[\"\\\\u05de\\\\u05d9\\\\u05e7\\\\u05e8\\\\u05d5\\\\u05e1\\\\u05d5\\\\u05e4\\\\u05d8\", 0.9995051622390747, \"Organization\"]]}']\n",
      "['{\"IOB_tags\": [\"O\", \"O\", \"O\", \"O\", \"B-Person\", \"O\", \"O\", \"O\", \"O\", \"O\", \"O\", \"O\"], \"entities\": [[\"\\\\u05dc\\\\u05d9\\\\u05e6\\\\u05de\\\\u05df\", 0.9992783069610596, \"Person\"]]}']\n",
      "['{\"IOB_tags\": [\"B-Person\", \"O\", \"O\", \"O\", \"O\", \"O\", \"O\", \"O\", \"O\"], \"entities\": [[\"\\\\u05d4\\\\u05d5\\\\u05e8\\\\u05d5\\\\u05d1\\\\u05d9\\\\u05e5\", 0.9991173148155212, \"Person\"]]}']\n",
      "['{\"IOB_tags\": [\"O\", \"O\", \"B-Location\", \"B-Location\", \"O\", \"B-Person\", \"I-Person\", \"O\", \"O\", \"O\"], \"entities\": [[\"\\\\u05dc\\\\u05d9\\\\u05e9\\\\u05e8\\\\u05d0\\\\u05dc \\\\u05d1\\\\u05d8\\\\u05d5\\\\u05e7\\\\u05d9\\\\u05d5\", 0.9935331344604492, \"Location\"], [\"\\\\u05d0\\\\u05e0\\\\u05d3\\\\u05d9 \\\\u05de\\\\u05d5\\\\u05e8\\\\u05d6\", 0.9993564486503601, \"Person\"]]}']\n",
      "['{\"IOB_tags\": [\"O\", \"O\", \"O\", \"O\", \"O\", \"O\", \"O\", \"O\", \"O\", \"O\", \"O\", \"O\"], \"entities\": []}']\n",
      "['{\"IOB_tags\": [\"O\", \"O\", \"O\", \"O\", \"O\", \"O\", \"O\", \"O\", \"O\"], \"entities\": []}']\n",
      "['{\"IOB_tags\": [\"B-Miscellaneous\", \"I-Miscellaneous\", \"O\", \"B-Person\", \"O\", \"B-Person\", \"I-Person\", \"O\", \"B-Person\", \"I-Person\", \"O\"], \"entities\": [[\"\\\\u05d8\\\\u05d5\\\\u05d3\\\\u05d5 \\\\u05d1\\\\u05d5\\\\u05dd\", 0.9949962496757507, \"Miscellaneous\"], [\"\\\\u05e1\\\\u05d8\\\\u05d8\\\\u05d9\\\\u05e7\", 0.9770059585571289, \"Person\"], [\"\\\\u05dc\\\\u05d9\\\\u05e8\\\\u05d6 \\\\u05e8\\\\u05d5\\\\u05e1\\\\u05d5\", 0.9985029101371765, \"Person\"], [\"\\\\u05d5\\\\u05e9\\\\u05e8\\\\u05d9\\\\u05ea \\\\u05e4\\\\u05d5\\\\u05dc\\\\u05e7\", 0.9975206851959229, \"Person\"]]}']\n",
      "['{\"IOB_tags\": [\"O\", \"O\", \"O\", \"O\", \"O\", \"O\", \"O\", \"B-Miscellaneous\", \"I-Miscellaneous\"], \"entities\": [[\"\\\\u05e1\\\\u05e7\\\\u05e1 \\\\u05d0\\\\u05e4\\\\u05d9\\\\u05dc\", 0.6519556641578674, \"Miscellaneous\"]]}']\n",
      "['{\"IOB_tags\": [\"B-Location\", \"O\", \"O\", \"O\", \"O\", \"O\", \"O\", \"B-Organization\"], \"entities\": [[\"\\\\u05d0\\\\u05e8\\\\u05d2\\\\u05e0\\\\u05d8\\\\u05d9\\\\u05e0\\\\u05d4\", 0.9476409554481506, \"Location\"], [\"\\\\u05e6\\'\\\\u05d9\\\\u05dc\\\\u05d4\", 0.9944934248924255, \"Organization\"]]}']\n",
      "['{\"IOB_tags\": [\"O\", \"O\", \"O\", \"O\", \"B-Organization\", \"I-Organization\", \"O\", \"O\", \"O\", \"B-Organization\"], \"entities\": [[\"\\\\u05de\\\\u05db\\\\u05d1\\\\u05d9 \\\\u05ea\\\\u05d0\", 0.9977433085441589, \"Organization\"], [\"\\\\u05d2\\\\u05dc\\\\u05d1\\\\u05d5\\\\u05e2\", 0.999487042427063, \"Organization\"]]}']\n",
      "['{\"IOB_tags\": [\"O\", \"O\", \"O\", \"B-Person\", \"O\", \"O\"], \"entities\": [[\"\\\\u05e0\\\\u05ea\\\\u05e0\\\\u05d9\\\\u05d4\\\\u05d5\", 0.9966002106666565, \"Person\"]]}']\n",
      "['{\"IOB_tags\": [\"O\", \"O\", \"O\", \"O\", \"O\", \"O\", \"B-Location\", \"O\", \"O\", \"O\", \"O\", \"O\", \"O\", \"O\", \"O\", \"B-Miscellaneous\", \"O\"], \"entities\": [[\"\\\\u05d1\\\\u05e0\\\\u05d2\\\\u05d1\", 0.9980154633522034, \"Location\"], [\"\\\\u05d9\\\\u05d4\\\\u05d5\\\\u05d3\\\\u05d9\", 0.9924194812774658, \"Miscellaneous\"]]}']\n",
      "['{\"IOB_tags\": [\"B-Miscellaneous\", \"I-Miscellaneous\", \"O\", \"O\", \"B-Location\", \"O\", \"B-Location\", \"O\", \"O\", \"O\", \"O\", \"O\", \"O\", \"O\"], \"entities\": [[\"\\\\u05e9\\\\u05d9\\\\u05e7 \\\\u05e9\\\\u05d5\\\\u05e7\", 0.8940775394439697, \"Miscellaneous\"], [\"\\\\u05dc\\\\u05e6\\'\\\\u05db\\\\u05d9\\\\u05d4\", 0.9314484596252441, \"Location\"], [\"\\\\u05e1\\\\u05e7\\\\u05d5\\\\u05d8\\\\u05dc\\\\u05e0\\\\u05d3\", 0.9803029298782349, \"Location\"]]}']\n",
      "['{\"IOB_tags\": [\"O\", \"O\", \"O\", \"O\", \"O\", \"B-Organization\", \"I-Organization\", \"I-Organization\", \"O\", \"O\", \"O\"], \"entities\": [[\"\\\\u05d9\\\\u05e9\\\\u05d9\\\\u05d1\\\\u05ea \\\\u05e0\\\\u05d5\\\\u05d5\\\\u05d4 \\\\u05d4\\\\u05e8\\\\u05e6\\\\u05d5\\\\u05d2\", 0.9981125593185425, \"Organization\"]]}']\n",
      "['{\"IOB_tags\": [\"O\", \"B-Person\", \"I-Person\", \"O\", \"B-Person\", \"O\", \"O\", \"O\", \"O\", \"O\", \"O\"], \"entities\": [[\"\\\\u05e6\\\\u05d1\\\\u05d9 \\\\u05d8\\\\u05d0\\\\u05d5\", 0.5253860950469971, \"Person\"], [\"\\\\u05e1\\\\u05de\\\\u05d5\\\\u05d8\\\\u05e8\\\\u05d9\\\\u05e5\", 0.997911274433136, \"Person\"]]}']\n",
      "['{\"IOB_tags\": [\"B-Organization\", \"I-Organization\", \"O\", \"O\", \"O\", \"O\", \"O\", \"O\", \"O\", \"O\", \"B-Location\", \"I-Location\"], \"entities\": [[\"\\\\u05d1\\\\u05e8\\\\u05e9\\\\u05d5\\\\u05ea \\\\u05d4\\\\u05de\\\\u05d9\\\\u05e1\\\\u05d9\\\\u05dd\", 0.9993821978569031, \"Organization\"], [\"\\\\u05d1\\\\u05ea\\\\u05dc \\\\u05d0\\\\u05d1\\\\u05d9\\\\u05d1\", 0.9995042085647583, \"Location\"]]}']\n",
      "['{\"IOB_tags\": [\"B-Miscellaneous\", \"O\", \"O\", \"O\", \"O\", \"O\", \"O\", \"O\", \"O\", \"O\", \"O\"], \"entities\": [[\"\\\\u05e4\\\\u05d5\\\\u05dc\\\\u05e7\\\\u05e1\\\\u05d5\\\\u05d5\\\\u05d2\\\\u05df\", 0.5045541524887085, \"Miscellaneous\"]]}']\n",
      "['{\"IOB_tags\": [\"B-Person\", \"I-Person\", \"O\", \"B-Organization\", \"O\", \"O\", \"O\", \"O\", \"O\", \"O\", \"O\", \"O\", \"O\"], \"entities\": [[\"\\\\u05dc\\\\u05d9\\\\u05d1\\\\u05e8\\\\u05de\\\\u05df \\\\u05e0\\\\u05e4\\\\u05d2\\\\u05e9\", 0.9692702293395996, \"Person\"], [\"\\\\u05d4\\\\u05d4\\\\u05e1\\\\u05ea\\\\u05d3\\\\u05e8\\\\u05d5\\\\u05ea\", 0.9147925972938538, \"Organization\"]]}']\n",
      "['{\"IOB_tags\": [\"O\", \"O\", \"O\", \"O\", \"O\", \"O\", \"O\", \"O\"], \"entities\": []}']\n",
      "['{\"IOB_tags\": [\"B-Person\", \"I-Person\", \"O\", \"O\", \"O\", \"I-Miscellaneous\", \"O\", \"O\", \"O\"], \"entities\": [[\"\\\\u05e0\\\\u05d9\\\\u05e7\\\\u05d5\\\\u05dc \\\\u05e8\\\\u05d0\\\\u05d9\\\\u05d3\\\\u05de\\\\u05df\", 0.949700117111206, \"Person\"], [\"\\\\u05d8\\\\u05d5\\\\u05e4\\\\u05dc\\\\u05e1\", 0.7674164175987244, \"Miscellaneous\"]]}']\n",
      "['{\"IOB_tags\": [\"O\", \"O\", \"O\", \"O\", \"O\", \"O\", \"O\", \"O\", \"O\", \"O\"], \"entities\": []}']\n",
      "['{\"IOB_tags\": [\"B-Organization\", \"O\", \"B-Location\", \"I-Location\", \"O\", \"O\", \"O\", \"O\", \"O\"], \"entities\": [[\"\\\\u05e1\\\\u05db\\\\u05e0\\\\u05d9\\\\u05df\", 0.7548248171806335, \"Organization\"], [\"\\\\u05de\\\\u05d1\\\\u05d0\\\\u05e8 \\\\u05e9\\\\u05d1\\\\u05e2\", 0.997964084148407, \"Location\"]]}']\n",
      "['{\"IOB_tags\": [\"O\", \"O\", \"O\", \"O\", \"O\", \"O\", \"O\", \"O\", \"O\", \"O\", \"O\", \"O\", \"O\"], \"entities\": []}']\n",
      "['{\"IOB_tags\": [\"O\", \"O\", \"O\", \"O\", \"O\", \"O\", \"B-Person\", \"O\", \"O\", \"O\", \"O\", \"O\", \"O\", \"O\"], \"entities\": [[\"\\\\u05d1\\\\u05e0\\\\u05d8\", 0.9776323437690735, \"Person\"]]}']\n",
      "['{\"IOB_tags\": [\"O\", \"O\", \"O\", \"O\", \"O\", \"O\", \"O\", \"O\"], \"entities\": []}']\n",
      "['{\"IOB_tags\": [\"O\", \"O\", \"O\", \"B-Organization\", \"O\", \"O\", \"O\", \"O\", \"O\", \"B-Organization\", \"O\", \"O\"], \"entities\": [[\"\\\\u05d1\\\\u05e0\\\\u05d8\", 0.9982087016105652, \"Organization\"], [\"\\\\u05d7\\\\u05de\\\\u05d0\\\\u05e1\", 0.6047148108482361, \"Organization\"]]}']\n",
      "['{\"IOB_tags\": [\"O\", \"O\", \"O\", \"O\", \"O\", \"O\", \"B-Miscellaneous\", \"O\", \"B-Organization\", \"I-Organization\", \"O\"], \"entities\": [[\"\\\\u05d7\\\\u05e8\\\\u05d3\\\\u05d9\\\\u05ea\", 0.8617345690727234, \"Miscellaneous\"], [\"\\\\u05de\\\\u05de\\\\u05e9\\\\u05dc\\\\u05ea \\\\u05d4\\\\u05d4\\\\u05e1\\\\u05ea\\\\u05d4\", 0.9934440851211548, \"Organization\"]]}']\n",
      "['{\"IOB_tags\": [\"O\", \"O\", \"O\", \"O\", \"O\"], \"entities\": []}']\n",
      "['{\"IOB_tags\": [\"O\", \"O\", \"O\", \"O\", \"O\", \"O\", \"O\", \"O\", \"O\", \"B-Location\", \"I-Location\", \"O\"], \"entities\": [[\"\\\\u05e2\\\\u05db\\\\u05d5 \\\\u05dc\\\\u05d8\\\\u05d5\\\\u05d1\\\\u05ea\", 0.9997549653053284, \"Location\"]]}']\n",
      "['{\"IOB_tags\": [\"B-Person\", \"I-Person\", \"O\", \"O\", \"B-Person\", \"O\", \"O\", \"O\", \"O\", \"O\", \"O\", \"O\"], \"entities\": [[\"\\\\u05d0\\\\u05d7\\\\u05d9\\\\u05e0\\\\u05d5\\\\u05e2\\\\u05dd \\\\u05e0\\\\u05d9\\\\u05e0\\\\u05d9\", 0.9983620047569275, \"Person\"], [\"\\\\u05e0\\\\u05ea\\\\u05e0\\\\u05d9\\\\u05d4\\\\u05d5\", 0.994614839553833, \"Person\"]]}']\n",
      "['{\"IOB_tags\": [\"O\", \"O\", \"O\", \"O\", \"O\", \"O\", \"B-Organization\", \"O\", \"O\", \"O\", \"O\", \"B-Organization\", \"I-Organization\"], \"entities\": [[\"\\\\u05e6\\'\\\\u05d0\\\\u05d8\", 0.9852666258811951, \"Organization\"], [\"\\\\u05e1\\\\u05e4\\\\u05d5\\\\u05e8\\\\u05d8 5\", 0.8965566754341125, \"Organization\"]]}']\n",
      "['{\"IOB_tags\": [\"O\", \"O\", \"O\", \"O\", \"O\", \"O\", \"O\", \"O\", \"O\", \"O\", \"O\", \"O\", \"O\", \"O\", \"O\", \"O\", \"O\"], \"entities\": []}']\n",
      "['{\"IOB_tags\": [\"O\", \"O\", \"O\", \"O\", \"O\", \"B-Organization\", \"I-Organization\", \"I-Organization\", \"I-Organization\", \"O\", \"B-Organization\"], \"entities\": [[\"\\\\u05de\\\\u05de\\\\u05e9\\\\u05dc\\\\u05ea \\\\u05d1\\\\u05e0\\\\u05d8 - \\\\u05dc\\\\u05e4\\\\u05d9\\\\u05d3\", 0.987058699131012, \"Organization\"], [\"\\\\u05d1\\\\u05db\\\\u05e0\\\\u05e1\\\\u05ea\", 0.9987371563911438, \"Organization\"]]}']\n",
      "['{\"IOB_tags\": [\"B-Miscellaneous\", \"I-Miscellaneous\", \"O\", \"O\", \"B-Location\", \"O\", \"B-Location\", \"O\", \"O\", \"O\", \"O\", \"O\", \"O\", \"O\"], \"entities\": [[\"\\\\u05e9\\\\u05d9\\\\u05e7 \\\\u05e9\\\\u05d5\\\\u05e7\", 0.8940775394439697, \"Miscellaneous\"], [\"\\\\u05dc\\\\u05e6\\'\\\\u05db\\\\u05d9\\\\u05d4\", 0.9314484596252441, \"Location\"], [\"\\\\u05e1\\\\u05e7\\\\u05d5\\\\u05d8\\\\u05dc\\\\u05e0\\\\u05d3\", 0.9803029298782349, \"Location\"]]}']\n",
      "['{\"IOB_tags\": [\"O\", \"O\", \"B-Person\", \"O\", \"O\", \"B-Location\", \"I-Location\"], \"entities\": [[\"\\\\u05d1\\\\u05d9\\\\u05e8\\\\u05dd\", 0.5015405416488647, \"Person\"], [\"\\\\u05d1\\\\u05d1\\\\u05e0\\\\u05d9 \\\\u05e1\\\\u05db\\\\u05e0\\\\u05d9\\\\u05df\", 0.9989638924598694, \"Location\"]]}']\n",
      "['{\"IOB_tags\": [\"O\", \"O\", \"O\", \"B-Person\", \"B-Person\", \"O\", \"B-Person\", \"O\"], \"entities\": [[\"\\\\u05e6\\\\u05e1\\\\u05e7\\\\u05d0 \\\\u05d5\\\\u05d0\\\\u05e0\\\\u05d3\\\\u05d5\\\\u05dc\\\\u05d5\", 0.6663644313812256, \"Person\"], [\"\\\\u05ea\\\\u05d0\\\\u05d5\\\\u05d3\\\\u05d5\\\\u05e1\\\\u05d9\\\\u05e5\", 0.5227727293968201, \"Person\"]]}']\n",
      "['{\"IOB_tags\": [\"B-Person\", \"O\", \"O\", \"O\", \"O\", \"O\", \"O\", \"B-Location\"], \"entities\": [[\"\\\\u05dc\\\\u05d9\\\\u05d1\\\\u05e8\\\\u05de\\\\u05df\", 0.9761826395988464, \"Person\"], [\"\\\\u05d4\\\\u05d1\\\\u05e1\\\\u05d8\\\\u05d9\\\\u05dc\\\\u05d9\\\\u05d4\", 0.9802930951118469, \"Location\"]]}']\n",
      "['{\"IOB_tags\": [\"O\", \"O\", \"O\", \"O\", \"O\", \"O\", \"O\", \"O\", \"O\", \"O\", \"O\", \"O\", \"O\", \"O\", \"O\", \"O\", \"O\"], \"entities\": []}']\n",
      "['{\"IOB_tags\": [\"B-Miscellaneous\", \"I-Miscellaneous\", \"O\", \"O\", \"O\", \"O\", \"O\", \"O\"], \"entities\": [[\"\\\\u05d1\\\\u05d9\\\\u05e0\\\\u05d2\\\\u05d5 \\\\u05d1\\\\u05d9\\\\u05d1\\\\u05d9\", 0.9713647961616516, \"Miscellaneous\"]]}']\n",
      "['{\"IOB_tags\": [\"B-Miscellaneous\", \"O\", \"O\", \"O\", \"O\"], \"entities\": [[\"\\\\u05d4\\\\u05d5\\\\u05e8\\\\u05d5\\\\u05e1\\\\u05e7\\\\u05d5\\\\u05e4\", 0.9086934328079224, \"Miscellaneous\"]]}']\n",
      "['{\"IOB_tags\": [\"O\", \"O\", \"O\", \"B-Location\", \"B-Location\", \"I-Location\", \"O\", \"O\", \"O\", \"O\", \"O\", \"O\"], \"entities\": [[\"\\\\u05d1\\\\u05d9\\\\u05d5\\\\u05d5\\\\u05df \\\\u05d5\\\\u05d8\\\\u05d5\\\\u05e8\\\\u05e7\\\\u05d9\\\\u05d4 \\\\u05e9\\\\u05d5\\\\u05d1\", 0.9989286661148071, \"Location\"]]}']\n",
      "['{\"IOB_tags\": [\"O\", \"O\", \"O\", \"O\", \"O\", \"O\", \"O\", \"O\", \"O\", \"O\", \"O\", \"O\", \"O\"], \"entities\": []}']\n",
      "['{\"IOB_tags\": [\"O\", \"O\", \"O\", \"O\", \"O\", \"O\", \"O\", \"O\", \"B-Organization\"], \"entities\": [[\"\\\\u05d1\\\\u05db\\\\u05e0\\\\u05e1\\\\u05ea\", 0.9795137047767639, \"Organization\"]]}']\n",
      "['{\"IOB_tags\": [\"O\", \"O\", \"O\", \"B-Person\", \"I-Person\"], \"entities\": [[\"\\\\u05e0\\\\u05e4\\\\u05ea\\\\u05dc\\\\u05d9 \\\\u05d1\\\\u05e0\\\\u05d8\", 0.9837765693664551, \"Person\"]]}']\n",
      "['{\"IOB_tags\": [\"B-Organization\", \"O\", \"O\", \"O\", \"O\"], \"entities\": [[\"\\\\u05de\\\\u05d9\\\\u05e7\\\\u05e8\\\\u05d5\\\\u05e1\\\\u05d5\\\\u05e4\\\\u05d8\", 0.9995051622390747, \"Organization\"]]}']\n",
      "['{\"IOB_tags\": [\"O\", \"O\", \"O\", \"O\", \"O\", \"O\", \"O\"], \"entities\": []}']\n",
      "['{\"IOB_tags\": [\"O\", \"O\", \"O\", \"B-Location\", \"O\", \"O\", \"O\", \"B-Location\", \"I-Location\"], \"entities\": [[\"\\\\u05dc\\\\u05d1\\\\u05e0\\\\u05d5\\\\u05df\", 0.999167799949646, \"Location\"], [\"\\\\u05d4\\\\u05de\\\\u05d6\\\\u05e8\\\\u05d7 \\\\u05d4\\\\u05ea\\\\u05d9\\\\u05db\\\\u05d5\\\\u05df\", 0.9929335713386536, \"Location\"]]}']\n",
      "['{\"IOB_tags\": [\"O\", \"O\", \"O\", \"O\", \"B-Person\", \"I-Person\", \"O\", \"O\", \"O\", \"B-Person\", \"I-Person\", \"O\", \"O\", \"O\"], \"entities\": [[\"\\\\u05e0\\\\u05d7\\\\u05de\\\\u05df \\\\u05e9\\\\u05d9\", 0.9952173233032227, \"Person\"], [\"\\\\u05e0\\\\u05d9\\\\u05e8 \\\\u05d0\\\\u05d5\\\\u05e8\\\\u05d1\\\\u05da\", 0.9862123131752014, \"Person\"]]}']\n",
      "['{\"IOB_tags\": [\"O\", \"O\", \"O\", \"O\", \"O\", \"O\", \"O\", \"O\", \"O\", \"O\", \"B-Person\", \"O\", \"O\"], \"entities\": [[\"\\\\u05d1\\\\u05e0\\\\u05d8\", 0.9872079491615295, \"Person\"]]}']\n",
      "['{\"IOB_tags\": [\"O\", \"O\", \"O\", \"O\", \"B-Location\", \"O\", \"O\", \"O\", \"O\", \"O\"], \"entities\": [[\"\\\\u05dc\\\\u05d5\\\\u05e4\\\\u05df\", 0.9874908924102783, \"Location\"]]}']\n",
      "['{\"IOB_tags\": [\"O\", \"B-Miscellaneous\", \"O\", \"B-Person\", \"I-Person\", \"O\", \"O\", \"O\", \"O\", \"O\", \"O\", \"B-Person\"], \"entities\": [[\"\\\\u05d4\\\\u05e2\\\\u05e8\\\\u05d1\\\\u05d9\", 0.9590610861778259, \"Miscellaneous\"], [\"\\\\u05de\\\\u05d9\\\\u05d4\\\\u05d5 \\\\u05d1\\\\u05e0\\\\u05d8\", 0.9994260668754578, \"Person\"], [\"\\\\u05e0\\\\u05ea\\\\u05e0\\\\u05d9\\\\u05d4\\\\u05d5\", 0.9990382194519043, \"Person\"]]}']\n",
      "['{\"IOB_tags\": [\"B-Organization\", \"O\", \"O\", \"O\", \"O\", \"O\", \"O\"], \"entities\": [[\"ynet\", 0.9953540563583374, \"Organization\"]]}']\n",
      "['{\"IOB_tags\": [\"O\", \"B-Organization\", \"I-Organization\", \"O\", \"O\", \"O\", \"O\", \"O\", \"B-Person\", \"B-Person\", \"I-Person\", \"O\", \"O\", \"O\", \"O\", \"O\"], \"entities\": [[\"\\\\u05dc\\\\u05de\\\\u05e9\\\\u05e8\\\\u05d3 \\\\u05e8\\\\u05d4\\\\u05de\", 0.973675549030304, \"Organization\"], [\"\\\\u05de\\\\u05e9 \\' \\\\u05e0\\\\u05ea\\\\u05e0\\\\u05d9\\\\u05d4\\\\u05d5\", 0.9970579743385315, \"Person\"]]}']\n",
      "['{\"IOB_tags\": [\"B-Person\", \"I-Person\", \"B-Person\", \"I-Person\", \"O\", \"O\", \"O\", \"O\"], \"entities\": [[\"\\\\u05d3\\\\u05e0\\\\u05d4 \\\\u05d5\\\\u05d9\\\\u05e1 \\\\u05dc\\\\u05d3\\\\u05d5\\\\u05d3\\\\u05d9 \\\\u05d0\\\\u05de\\\\u05e1\\\\u05dc\\\\u05dd\", 0.9924938082695007, \"Person\"]]}']\n",
      "['{\"IOB_tags\": [\"O\", \"O\", \"O\", \"O\", \"O\", \"O\", \"O\", \"O\"], \"entities\": []}']\n",
      "['{\"IOB_tags\": [\"O\", \"O\", \"O\", \"O\", \"O\", \"O\", \"O\", \"O\", \"O\", \"O\", \"O\"], \"entities\": []}']\n",
      "['{\"IOB_tags\": [\"B-Person\", \"O\", \"O\", \"O\", \"B-Organization\", \"I-Organization\", \"O\", \"O\", \"O\", \"O\", \"O\"], \"entities\": [[\"\\\\u05e0\\\\u05ea\\\\u05e0\\\\u05d9\\\\u05d4\\\\u05d5\", 0.9993345737457275, \"Person\"], [\"\\\\u05d2\\\\u05d5\\\\u05e9 \\\\u05d4\\\\u05d0\\\\u05d5\\\\u05e4\\\\u05d5\\\\u05d6\\\\u05d9\\\\u05e6\\\\u05d9\\\\u05d4\", 0.9992954730987549, \"Organization\"]]}']\n",
      "['{\"IOB_tags\": [\"O\", \"O\", \"O\", \"O\", \"O\", \"O\", \"B-Organization\", \"I-Organization\", \"O\", \"O\", \"O\", \"O\"], \"entities\": [[\"\\\\u05e7\\\\u05e8\\\\u05df \\\\u05d4\\\\u05e4\\\\u05e0\\\\u05e1\\\\u05d9\\\\u05d4\", 0.9988857507705688, \"Organization\"]]}']\n",
      "['{\"IOB_tags\": [\"B-Location\", \"I-Location\", \"O\", \"O\", \"O\", \"O\", \"O\"], \"entities\": [[\"\\\\u05d0\\\\u05d9\\\\u05d9\\\\u05dc\\\\u05ea \\\\u05e9\\\\u05e7\\\\u05d3\", 0.9216241240501404, \"Location\"]]}']\n",
      "['{\"IOB_tags\": [\"O\", \"O\", \"O\", \"O\", \"O\", \"O\", \"O\", \"O\", \"O\", \"O\"], \"entities\": []}']\n",
      "['{\"IOB_tags\": [\"O\", \"O\", \"B-Miscellaneous\", \"O\", \"O\", \"B-Person\", \"I-Person\", \"O\", \"B-Person\", \"I-Person\", \"O\", \"B-Person\", \"I-Person\", \"B-Person\", \"I-Person\"], \"entities\": [[\"\\\\u05e1\\\\u05d5\\\\u05e7\\\\u05d5\\\\u05dc\\\\u05d5\\\\u05d1\", 0.5297302007675171, \"Miscellaneous\"], [\"\\\\u05d2\\\\u05d3\\\\u05e2\\\\u05d5\\\\u05df \\\\u05dc\\\\u05d5\\\\u05d9\", 0.9995118379592896, \"Person\"], [\"\\\\u05d0\\\\u05d5\\\\u05d4\\\\u05d3 \\\\u05d7\\\\u05de\\\\u05d5\", 0.9988324046134949, \"Person\"], [\"\\\\u05e7\\\\u05e8\\\\u05d9\\\\u05e0\\\\u05d4 \\\\u05e9\\\\u05d8\\\\u05d5\\\\u05d8\\\\u05dc\\\\u05e0\\\\u05d3 \\\\u05d5\\\\u05d9\\\\u05e4\\\\u05e2\\\\u05ea \\\\u05d2\\\\u05dc\\\\u05d9\\\\u05e7\", 0.9995937943458557, \"Person\"]]}']\n"
     ]
    }
   ],
   "source": [
    "file = '/cache/200_hebrew_titles.json'\n",
    "\n",
    "with open(file,'r') as f:\n",
    "    data = json.loads(f.read())\n",
    "\n",
    "title_example = []\n",
    "for key in data:\n",
    "    title = data[key]['title']\n",
    "    title_input = get_input(title)\n",
    "    batch = []\n",
    "    batch.append(title_input)\n",
    "    result = embark_connector.get_entity_embeddings(model_label='entities-multi',\n",
    "                                    entity_ids=batch,\n",
    "                                    batch_size=250,\n",
    "                                    timeout_per_batch=30,\n",
    "                                    sync=True)\n",
    "    print(result.translations)\n",
    "    if 'OOV' not in result.translations:\n",
    "        entities = get_entites(result)\n",
    "        data[key]['entities'] = entities"
   ]
  },
  {
   "cell_type": "code",
   "execution_count": 242,
   "id": "7ecb4f44",
   "metadata": {},
   "outputs": [
    {
     "name": "stdout",
     "output_type": "stream",
     "text": [
      "משחקי השף, עונה 5, פרק 16: ההפתעה שחיכתה לארז | רשת 13\n",
      "['משחקי השף', 'ארז', 'רשת 13']\n"
     ]
    }
   ],
   "source": [
    "for key in data:\n",
    "    print(data[key]['title'])\n",
    "    print(data[key]['entities'])\n",
    "    break\n",
    "    \n",
    "with open('/cache/hebrew_output.json','w') as f:\n",
    "    json.dump(data, f)"
   ]
  },
  {
   "cell_type": "code",
   "execution_count": 244,
   "id": "a887fc01",
   "metadata": {},
   "outputs": [
    {
     "name": "stdout",
     "output_type": "stream",
     "text": [
      "Deleted hdfs://nr-hbase-c-hdfs.service.consul.taboolasyndication.com/newsroom-backend/jupyter/notebooks/allen.wu/hebrew_output.json\n",
      "2021-07-11 23:01:09,439 INFO sasl.SaslDataTransferClient: SASL encryption trust check: localHostTrusted = false, remoteHostTrusted = false\n"
     ]
    }
   ],
   "source": [
    "!hadoop fs -rm -r -skipTrash hdfs://nr-hbase-c-hdfs.service.consul.taboolasyndication.com/newsroom-backend/jupyter/notebooks/allen.wu/hebrew_output.json\n",
    "!hadoop fs -put /cache/hebrew_output.json hdfs://nr-hbase-c-hdfs.service.consul.taboolasyndication.com/newsroom-backend/jupyter/notebooks/allen.wu/"
   ]
  },
  {
   "cell_type": "code",
   "execution_count": 181,
   "id": "0554db96",
   "metadata": {},
   "outputs": [],
   "source": [
    "import json\n",
    "\n",
    "def get_input(text):\n",
    "    text = text.replace('\"', '')\n",
    "    template = \"{\\\"input\\\": \\\"\"+text+\"\\\", \\\"config\\\": {\\\"limit\\\": 10}, \\\"language\\\": \\\"he\\\" }\"\n",
    "    return template"
   ]
  },
  {
   "cell_type": "code",
   "execution_count": 220,
   "id": "bcf68ce1",
   "metadata": {},
   "outputs": [
    {
     "name": "stdout",
     "output_type": "stream",
     "text": [
      "13 14\n",
      "14 15\n",
      "15 16\n",
      "16 17\n",
      "17 18\n",
      "18 19\n",
      "19 20\n",
      "20 21\n",
      "21 22\n",
      "22 23\n",
      "23 24\n",
      "24 25\n",
      "25 26\n",
      "26 27\n",
      "27 28\n",
      "28 29\n",
      "29 30\n",
      "30 31\n",
      "31 32\n",
      "32 33\n",
      "33 34\n",
      "34 35\n",
      "35 36\n",
      "36 37\n",
      "37 38\n",
      "38 39\n",
      "39 40\n",
      "40 41\n",
      "41 42\n",
      "42 43\n",
      "43 44\n",
      "44 45\n",
      "45 46\n",
      "46 47\n",
      "47 48\n",
      "48 49\n",
      "49 50\n",
      "50 51\n",
      "51 52\n",
      "52 53\n",
      "53 54\n",
      "54 55\n",
      "55 56\n",
      "56 57\n",
      "57 58\n",
      "58 59\n",
      "59 60\n",
      "60 61\n",
      "61 62\n",
      "62 63\n",
      "63 64\n",
      "64 65\n",
      "65 66\n",
      "66 67\n",
      "67 68\n",
      "68 69\n",
      "69 70\n",
      "70 71\n",
      "71 72\n",
      "72 73\n",
      "73 74\n",
      "74 75\n",
      "75 76\n",
      "76 77\n",
      "77 78\n",
      "78 79\n",
      "79 80\n",
      "80 81\n",
      "81 82\n",
      "82 83\n",
      "83 84\n",
      "84 85\n",
      "85 86\n",
      "86 87\n",
      "87 88\n",
      "88 89\n",
      "89 90\n",
      "90 91\n",
      "91 92\n",
      "92 93\n",
      "93 94\n",
      "94 95\n",
      "95 96\n",
      "96 97\n",
      "97 98\n"
     ]
    }
   ],
   "source": [
    "batch = []\n",
    "for i in range(13, len(title_example)):\n",
    "    print(i, i+1)\n",
    "    if (i+1) < len(title_example):\n",
    "        for title in title_example[i:i+1]:\n",
    "            y = get_input(title)\n",
    "            batch.append(y)\n",
    "            result = embark_connector.get_entity_embeddings(model_label='entities-multi',\n",
    "                                                entity_ids=batch,\n",
    "                                                batch_size=250,\n",
    "                                                timeout_per_batch=30,\n",
    "                                                sync=True)"
   ]
  },
  {
   "cell_type": "code",
   "execution_count": 221,
   "id": "11002821",
   "metadata": {},
   "outputs": [],
   "source": [
    "for title in title_example:\n",
    "    y = get_input(title)\n",
    "    batch.append(y)"
   ]
  },
  {
   "cell_type": "code",
   "execution_count": 222,
   "id": "0e4ff9ec",
   "metadata": {},
   "outputs": [],
   "source": [
    "#batch = [\"{'input': 'משחקי השף, עונה 5, פרק 16: ההפתעה שחיכתה לארז | רשת 13', 'config': {'limit': 10}, 'language': 'he'}\"]\n",
    "result = embark_connector.get_entity_embeddings(model_label='entities-multi',\n",
    "                                                entity_ids=batch,\n",
    "                                                batch_size=250,\n",
    "                                                timeout_per_batch=30,\n",
    "                                                sync=True)"
   ]
  },
  {
   "cell_type": "code",
   "execution_count": 226,
   "id": "ab36b84b",
   "metadata": {},
   "outputs": [
    {
     "name": "stdout",
     "output_type": "stream",
     "text": [
      "{\"IOB_tags\": [\"O\", \"O\", \"O\", \"O\", \"O\", \"O\", \"O\", \"O\", \"O\", \"O\", \"O\", \"O\", \"O\", \"O\", \"O\", \"O\", \"O\", \"O\"], \"entities\": []}\n"
     ]
    }
   ],
   "source": [
    "for x in result.translations:\n",
    "    print(x)\n",
    "    break"
   ]
  },
  {
   "cell_type": "code",
   "execution_count": 41,
   "id": "5d0eb3fa",
   "metadata": {},
   "outputs": [
    {
     "name": "stdout",
     "output_type": "stream",
     "text": [
      "pandas==1.0.5\n"
     ]
    }
   ],
   "source": [
    "!pip freeze | grep pandas"
   ]
  },
  {
   "cell_type": "code",
   "execution_count": null,
   "id": "91cce1ab",
   "metadata": {},
   "outputs": [],
   "source": []
  }
 ],
 "metadata": {
  "kernelspec": {
   "display_name": "Python 3 (ipykernel)",
   "language": "python",
   "name": "python3"
  },
  "language_info": {
   "codemirror_mode": {
    "name": "ipython",
    "version": 3
   },
   "file_extension": ".py",
   "mimetype": "text/x-python",
   "name": "python",
   "nbconvert_exporter": "python",
   "pygments_lexer": "ipython3",
   "version": "3.7.7"
  }
 },
 "nbformat": 4,
 "nbformat_minor": 5
}