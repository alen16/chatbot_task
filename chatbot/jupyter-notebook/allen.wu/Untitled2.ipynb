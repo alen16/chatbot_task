{
 "cells": [
  {
   "cell_type": "code",
   "execution_count": 3,
   "id": "d24bfda4",
   "metadata": {},
   "outputs": [
    {
     "name": "stdin",
     "output_type": "stream",
     "text": [
      "Please enter: start\n"
     ]
    },
    {
     "name": "stdout",
     "output_type": "stream",
     "text": [
      "Car started, ready to go!\n"
     ]
    },
    {
     "name": "stdin",
     "output_type": "stream",
     "text": [
      "Please enter: stop\n"
     ]
    },
    {
     "name": "stdout",
     "output_type": "stream",
     "text": [
      "car stopped.\n"
     ]
    },
    {
     "name": "stdin",
     "output_type": "stream",
     "text": [
      "Please enter: start\n"
     ]
    },
    {
     "name": "stdout",
     "output_type": "stream",
     "text": [
      "Car started, ready to go!\n"
     ]
    },
    {
     "name": "stdin",
     "output_type": "stream",
     "text": [
      "Please enter: start\n"
     ]
    },
    {
     "name": "stdout",
     "output_type": "stream",
     "text": [
      "Car is already started!\n"
     ]
    },
    {
     "name": "stdin",
     "output_type": "stream",
     "text": [
      "Please enter: stop\n"
     ]
    },
    {
     "name": "stdout",
     "output_type": "stream",
     "text": [
      "car stopped.\n"
     ]
    },
    {
     "name": "stdin",
     "output_type": "stream",
     "text": [
      "Please enter: stop\n"
     ]
    },
    {
     "name": "stdout",
     "output_type": "stream",
     "text": [
      "car is already stopped.\n"
     ]
    },
    {
     "name": "stdin",
     "output_type": "stream",
     "text": [
      "Please enter: quit\n"
     ]
    },
    {
     "name": "stdout",
     "output_type": "stream",
     "text": [
      "bye!\n"
     ]
    }
   ],
   "source": [
    "command = \"\"\n",
    "started = False\n",
    "while True:\n",
    "    command = input(\"Please enter:\").lower()\n",
    "    if command == \"start\":\n",
    "        if started:\n",
    "            print(\"Car is already started!\")\n",
    "        else:\n",
    "            started = True\n",
    "            print(\"Car started, ready to go!\")\n",
    "    elif command == \"stop\":\n",
    "        if not started:\n",
    "            print(\"car is already stopped.\")\n",
    "        else:\n",
    "            started = False\n",
    "            print(\"car stopped.\")\n",
    "    elif command == \"quit\":\n",
    "        print(\"bye!\")\n",
    "        break\n",
    "    else:\n",
    "        print(\"I don't know...\")"
   ]
  },
  {
   "cell_type": "code",
   "execution_count": 6,
   "id": "9073d6ca",
   "metadata": {},
   "outputs": [
    {
     "name": "stdout",
     "output_type": "stream",
     "text": [
      "['옷']\n"
     ]
    }
   ],
   "source": [
    "phrases = ['김건희 여사', '옷', '패션']\n",
    "titles = ['홍상수♥김민희, 몸 밀착한 채 \\'행복 미소\\'... 미국 뉴욕서 찍힌 근황 사진', \n",
    "          '“선 넘었다”…임신 콘셉트 선보였던 미국 남자 래퍼, 결국 출산까지 했다 (영상)', \n",
    "          '해외서 논란 중인 영상… \\'금수저\\' 미국 모델이 오이를 써는 방식 (영상)', \n",
    "          '갑자기 미국으로 떠난 이병헌-이민정 부부 근황...이유가 떴다 (영상)', \n",
    "          '\"한국 이런 나라였어?\" 미국 유명 인플루언서가 한국에 와서 색다르다고 느낀 건 우리에게는 너무 익숙하다 (영상)']\n",
    "\n",
    "for phrase in phrases:\n",
    "    remove = False\n",
    "    for title in titles:\n",
    "        if phrase not in title:\n",
    "            remove = True\n",
    "    if remove:\n",
    "        phrases.remove(phrase)\n",
    "print(phrases)"
   ]
  },
  {
   "cell_type": "code",
   "execution_count": 10,
   "id": "586255a7",
   "metadata": {},
   "outputs": [
    {
     "name": "stdout",
     "output_type": "stream",
     "text": [
      "3\n"
     ]
    }
   ],
   "source": [
    "class Solution:\n",
    "def F(n):\n",
    "    if n==0 or n==1:\n",
    "        return n\n",
    "    else:\n",
    "        return F(n-1)+F(n-2)\n",
    "    \n",
    "\n",
    "print(F(4))"
   ]
  },
  {
   "cell_type": "code",
   "execution_count": null,
   "id": "6bcf668c",
   "metadata": {},
   "outputs": [],
   "source": []
  }
 ],
 "metadata": {
  "kernelspec": {
   "display_name": "Python 3",
   "language": "python",
   "name": "python3"
  },
  "language_info": {
   "codemirror_mode": {
    "name": "ipython",
    "version": 3
   },
   "file_extension": ".py",
   "mimetype": "text/x-python",
   "name": "python",
   "nbconvert_exporter": "python",
   "pygments_lexer": "ipython3",
   "version": "3.7.7"
  }
 },
 "nbformat": 4,
 "nbformat_minor": 5
}