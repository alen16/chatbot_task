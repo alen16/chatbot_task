{
 "cells": [
  {
   "cell_type": "code",
   "execution_count": 1,
   "metadata": {},
   "outputs": [
    {
     "name": "stdout",
     "output_type": "stream",
     "text": [
      "TITLE.\n",
      "DESCRIPTION.\n",
      "BODY\n"
     ]
    }
   ],
   "source": [
    "text = \"TITLE\" +\".///\"+\"DESCRIPTION\"+\".///\"+\"BODY\"\n",
    "tokens = text.split(\"///\")\n",
    "for t in range(tokens):\n",
    "    print(t)"
   ]
  },
  {
   "cell_type": "code",
   "execution_count": 3,
   "metadata": {},
   "outputs": [
    {
     "data": {
      "text/plain": [
       "['TITLE.', 'DESCRIPTION.']"
      ]
     },
     "execution_count": 3,
     "metadata": {},
     "output_type": "execute_result"
    }
   ],
   "source": [
    "tokens[:1]"
   ]
  },
  {
   "cell_type": "code",
   "execution_count": 5,
   "metadata": {},
   "outputs": [
    {
     "name": "stdout",
     "output_type": "stream",
     "text": [
      "TITLE.DESCRIPTION.\n"
     ]
    }
   ],
   "source": [
    "\n",
    "if len(tokens) == 3:\n",
    "    if tokens[1] != \"\":\n",
    "        text = tokens[0] + tokens[1]\n",
    "    else:\n",
    "        text = tokens[0] + tokens[2]\n",
    "print(text)"
   ]
  },
  {
   "cell_type": "code",
   "execution_count": 6,
   "metadata": {},
   "outputs": [
    {
     "name": "stdout",
     "output_type": "stream",
     "text": [
      "Moderator chris wallace calls debate 'a terrible missed opportunity'. Advertisement The veteran anchor conceded he was initially “reluctant” to step in during the Trump-Biden matchup. “I’ve never been through anything like this,” he said. By  [Read our profile detailing Joe Biden’s road to the White House and presidency.] “I’m just sad with the way last night turned out.” Chris Wallace, the “Fox News Sunday” anchor and moderator of Tuesday’s melee of a debate between President Trump and Joseph R. Biden Jr., was on the phone Wednesday from his home in Annapolis, Md., reflecting on — his words — “a terrible missed opportunity.” “I never dreamt that it would go off the tracks the way it did,” he said. In his first interview since the chaotic and often incoherent spectacle — in which a pugilistic Mr. Trump relentlessly interrupted opponent and moderator alike — Mr. Wallace conceded that he had been slow to recognize that the president was not going to cease flouting the debate’s rules. “I’ve read some of the reviews. I know people think, well, gee, I didn’t jump in soon enough,” Mr. Wallace said, his voice betraying some hoarseness from the previous night’s proceedings. “I guess I didn’t realize — and there was no way you could, hindsight being 20/20 — that this was going to be the president’s strategy, not just for the beginning of the debate but the entire debate.” Recalling his thoughts as he sat onstage in the Cleveland hall, with tens of millions of Americans watching live, Mr. Wallace said: “I’m a pro. I’ve never been through anything like this.” Mr. Trump’s bullying behavior had no obvious precedent in presidential debates, even the one that Mr. Wallace previously moderated, to acclaim, in 2016. In the interview, the anchor said that when Mr. Trump initially engaged directly with Mr. Biden, “I thought this was great — this is a debate!” But as the president gave no sign of backing off, Mr. Wallace said, he grew more alarmed. “If I didn’t try to seize control of the debate — which I don’t know that I ever really did — then it was going to just go completely off the tracks,” he said. Asked what he was feeling when he called the debate to a temporary halt — instructing the candidates that “the country would be better served if we allowed both people to speak with fewer interruptions” — Mr. Wallace said, “The answer to that question is easy: Desperation.” Asked directly if Mr. Trump had derailed the debate, Mr. Wallace replied, “Well, he certainly didn’t help.” Care to elaborate? “No,” Mr. Wallace said. “To quote the president, ‘It is what it is.’” In the spotlight, Mr. Wallace was keenly aware of the complexity of his task: ensuring an evenhanded debate, avoiding taking sides, allowing candidates to express themselves while keeping the discussion substantive. “You’re reluctant — as somebody who has said from the very beginning that I wanted to be as invisible as possible, and to enable them to talk — to rise to the point at which you begin to interject more and more,” Mr. Wallace said. “First to say, ‘Please don’t interrupt,’ then ‘Please obey the rules,’ and third, ‘This isn’t serving the country well.’ Those are all tough steps at real time, at that moment, on that stage.” The Commission on Presidential Debates said on Wednesday that it would examine changes to the format of this year’s remaining encounters between Mr. Biden and Mr. Trump, a clear sign of its frustration with the results of Tuesday evening. The commission also took pains to praise Mr. Wallace for his “professionalism and skill.” The suggestion that moderators be given the power to mute the candidates’ microphones — popular on social media in the hours after the event — did not sit well with Mr. Wallace. “As a practical matter, even if the president’s microphone had been shut, he still could have continued to interrupt, and it might well have been picked up on Biden’s microphone, and it still would have disrupted the proceedings in the hall,” he said. And he noted that cutting off the audio feed of a presidential candidate is a more consequential act than some pundits give it credit for. “People have to remember, and too many people forget, both of these candidates have the support of tens of millions of Americans,” he said. Steve Scully of C-SPAN is set to moderate the next debate, in a town-hall format where Florida voters will ask many of the questions. Kristen Welker of NBC News is the moderator for the final debate. Mr. Wallace’s advice: “If either man goes down this road, I hope you’ll be quicker to realize what’s going on than I was. I didn’t have that advance warning.” Mr. Wallace flew home from Cleveland on Tuesday night. At an airport there, he accepted a glass of champagne from Lachlan Murdoch, whose family controls the Fox Corporation, and Suzanne Scott, the chief executive of Fox News, both of whom had been on hand for the debate. (“I didn’t feel much like celebrating,” Mr. Wallace admitted.) Back in Annapolis, “I’ve been involved in a certain amount of soul-searching.” “Generally speaking, I did as well as I could, so I don’t have any second thoughts there,” Mr. Wallace said, in conclusion. “I’m just disappointed with the results. For me, but much more importantly, I’m disappointed for the country, because it could have been a much more useful evening than it turned out to be.” Advertisement\n"
     ]
    }
   ],
   "source": [
    "body = \"Moderator chris wallace calls debate 'a terrible missed opportunity'. Advertisement The veteran anchor conceded he was initially “reluctant” to step in during the Trump-Biden matchup. “I’ve never been through anything like this,” he said. By  [Read our profile detailing Joe Biden’s road to the White House and presidency.] “I’m just sad with the way last night turned out.” Chris Wallace, the “Fox News Sunday” anchor and moderator of Tuesday’s melee of a debate between President Trump and Joseph R. Biden Jr., was on the phone Wednesday from his home in Annapolis, Md., reflecting on — his words — “a terrible missed opportunity.” “I never dreamt that it would go off the tracks the way it did,” he said. In his first interview since the chaotic and often incoherent spectacle — in which a pugilistic Mr. Trump relentlessly interrupted opponent and moderator alike — Mr. Wallace conceded that he had been slow to recognize that the president was not going to cease flouting the debate’s rules. “I’ve read some of the reviews. I know people think, well, gee, I didn’t jump in soon enough,” Mr. Wallace said, his voice betraying some hoarseness from the previous night’s proceedings. “I guess I didn’t realize — and there was no way you could, hindsight being 20/20 — that this was going to be the president’s strategy, not just for the beginning of the debate but the entire debate.” Recalling his thoughts as he sat onstage in the Cleveland hall, with tens of millions of Americans watching live, Mr. Wallace said: “I’m a pro. I’ve never been through anything like this.” Mr. Trump’s bullying behavior had no obvious precedent in presidential debates, even the one that Mr. Wallace previously moderated, to acclaim, in 2016. In the interview, the anchor said that when Mr. Trump initially engaged directly with Mr. Biden, “I thought this was great — this is a debate!” But as the president gave no sign of backing off, Mr. Wallace said, he grew more alarmed. “If I didn’t try to seize control of the debate — which I don’t know that I ever really did — then it was going to just go completely off the tracks,” he said. Asked what he was feeling when he called the debate to a temporary halt — instructing the candidates that “the country would be better served if we allowed both people to speak with fewer interruptions” — Mr. Wallace said, “The answer to that question is easy: Desperation.” Asked directly if Mr. Trump had derailed the debate, Mr. Wallace replied, “Well, he certainly didn’t help.” Care to elaborate? “No,” Mr. Wallace said. “To quote the president, ‘It is what it is.’” In the spotlight, Mr. Wallace was keenly aware of the complexity of his task: ensuring an evenhanded debate, avoiding taking sides, allowing candidates to express themselves while keeping the discussion substantive. “You’re reluctant — as somebody who has said from the very beginning that I wanted to be as invisible as possible, and to enable them to talk — to rise to the point at which you begin to interject more and more,” Mr. Wallace said. “First to say, ‘Please don’t interrupt,’ then ‘Please obey the rules,’ and third, ‘This isn’t serving the country well.’ Those are all tough steps at real time, at that moment, on that stage.” The Commission on Presidential Debates said on Wednesday that it would examine changes to the format of this year’s remaining encounters between Mr. Biden and Mr. Trump, a clear sign of its frustration with the results of Tuesday evening. The commission also took pains to praise Mr. Wallace for his “professionalism and skill.” The suggestion that moderators be given the power to mute the candidates’ microphones — popular on social media in the hours after the event — did not sit well with Mr. Wallace. “As a practical matter, even if the president’s microphone had been shut, he still could have continued to interrupt, and it might well have been picked up on Biden’s microphone, and it still would have disrupted the proceedings in the hall,” he said. And he noted that cutting off the audio feed of a presidential candidate is a more consequential act than some pundits give it credit for. “People have to remember, and too many people forget, both of these candidates have the support of tens of millions of Americans,” he said. Steve Scully of C-SPAN is set to moderate the next debate, in a town-hall format where Florida voters will ask many of the questions. Kristen Welker of NBC News is the moderator for the final debate. Mr. Wallace’s advice: “If either man goes down this road, I hope you’ll be quicker to realize what’s going on than I was. I didn’t have that advance warning.” Mr. Wallace flew home from Cleveland on Tuesday night. At an airport there, he accepted a glass of champagne from Lachlan Murdoch, whose family controls the Fox Corporation, and Suzanne Scott, the chief executive of Fox News, both of whom had been on hand for the debate. (“I didn’t feel much like celebrating,” Mr. Wallace admitted.) Back in Annapolis, “I’ve been involved in a certain amount of soul-searching.” “Generally speaking, I did as well as I could, so I don’t have any second thoughts there,” Mr. Wallace said, in conclusion. “I’m just disappointed with the results. For me, but much more importantly, I’m disappointed for the country, because it could have been a much more useful evening than it turned out to be.” Advertisement\"\n",
    "print(body)"
   ]
  },
  {
   "cell_type": "code",
   "execution_count": 13,
   "metadata": {},
   "outputs": [
    {
     "name": "stdout",
     "output_type": "stream",
     "text": [
      "Moderator chris wallace calls debate 'a terrible missed opportunity'. Advertisement The veteran anch\n"
     ]
    }
   ],
   "source": [
    "print(body[:100])"
   ]
  },
  {
   "cell_type": "code",
   "execution_count": 22,
   "metadata": {},
   "outputs": [
    {
     "name": "stdout",
     "output_type": "stream",
     "text": [
      "SPOKANE, Wash. (AP) — A man authorities say entered the Spokane Teamsters labor union building on Wednesday morning and repeatedly threatened to blow the building up has been arrested by police. KREM-TV reported the man briefly held at least one person hostage during the incident, which ended around noon. Police Sgt. Terry Preuninger said the man carried what appeared to be an explosive device into the building, located along a busy commercial.\n"
     ]
    }
   ],
   "source": [
    "import regex as re\n",
    "\n",
    "pattern = \"(\\w+)(\\.+)\"\n",
    "text = \"SPOKANE, Wash. (AP) — A man authorities say entered the Spokane Teamsters labor union building on Wednesday morning and repeatedly threatened to blow the building up has been arrested by police. KREM-TV reported the man briefly held at least one person hostage during the incident, which ended around noon. Police Sgt. Terry Preuninger said the man carried what appeared to be an explosive device into the building, located along a busy commercial...\"\n",
    "#text = \" \"\n",
    "\n",
    "#tokens = text.split(\" \")\n",
    "\n",
    "new_text = re.sub(\"(\\.+$)\", \".\", text)\n",
    "#new_text = \" \".join(tokens)\n",
    "print(new_text)"
   ]
  },
  {
   "cell_type": "code",
   "execution_count": 10,
   "metadata": {},
   "outputs": [
    {
     "name": "stdout",
     "output_type": "stream",
     "text": [
      "Looking in indexes: https://artifactory.taboolasyndication.com/artifactory/api/pypi/python-public/simple\n",
      "Looking in links: https://artifactory.taboolasyndication.com/artifactory/generic/topic-disco/whl\n",
      "Requirement already satisfied: polyglot in /anaconda/lib/python3.7/site-packages (16.07.04-af5059f)\n",
      "Requirement already satisfied: morfessor>=2.0.2a1 in /anaconda/lib/python3.7/site-packages (from polyglot) (2.0.6)\n",
      "Requirement already satisfied: numpy>=1.6.1 in /anaconda/lib/python3.7/site-packages (from polyglot) (1.21.4)\n",
      "Requirement already satisfied: pycld2>=0.3 in /anaconda/lib/python3.7/site-packages (from polyglot) (0.31)\n",
      "Requirement already satisfied: PyICU>=1.8 in /anaconda/lib/python3.7/site-packages (from polyglot) (2.2)\n",
      "Requirement already satisfied: six>=1.7.3 in /anaconda/lib/python3.7/site-packages (from polyglot) (1.16.0)\n",
      "Requirement already satisfied: futures>=2.1.6 in /anaconda/lib/python3.7/site-packages (from polyglot) (3.0.5)\n",
      "Requirement already satisfied: wheel>=0.23.0 in /anaconda/lib/python3.7/site-packages (from polyglot) (0.34.2)\n",
      "\u001b[33mWARNING: You are using pip version 19.3.1; however, version 21.3.1 is available.\n",
      "You should consider upgrading via the 'pip install --upgrade pip' command.\u001b[0m\n"
     ]
    }
   ],
   "source": [
    "!pip install polyglot"
   ]
  },
  {
   "cell_type": "code",
   "execution_count": 17,
   "metadata": {},
   "outputs": [],
   "source": [
    "from langdetect import detect"
   ]
  },
  {
   "cell_type": "code",
   "execution_count": 16,
   "metadata": {},
   "outputs": [],
   "source": [
    "cn_list = ['张庭事件再次升级，多位明星牵连其中？生意骗局细节大曝光', \n",
    "          '美股期货跌1.00%，丰田汽车日本工厂停产',\n",
    "          '对标奔驰-迈巴赫，奥迪推出霍希 首款在华首发',\n",
    "          '商务笔记本电脑排名',\n",
    "          '上海地铁女乘客被屏蔽门夹住身亡']"
   ]
  },
  {
   "cell_type": "code",
   "execution_count": 21,
   "metadata": {},
   "outputs": [],
   "source": [
    "tw_list = ['美股驚奇大逆轉 道瓊收復逾1000點失地',\n",
    "          '納豆驚傳中風！侯友宜集氣 經紀人：已和豆媽聯繫確認沒事',\n",
    "          '中共盜用澳總理微信 蓄意挑釁',\n",
    "          '台灣新冠肺炎本土疫情激增',\n",
    "          'HP InkTank 115 彩色連續供墨印表機']"
   ]
  },
  {
   "cell_type": "code",
   "execution_count": 14,
   "metadata": {},
   "outputs": [
    {
     "data": {
      "text/plain": [
       "'zh-cn'"
      ]
     },
     "execution_count": 14,
     "metadata": {},
     "output_type": "execute_result"
    }
   ],
   "source": [
    "detect(\"正午阳光的新开端？\")"
   ]
  },
  {
   "cell_type": "code",
   "execution_count": 19,
   "metadata": {},
   "outputs": [
    {
     "name": "stdout",
     "output_type": "stream",
     "text": [
      "张庭事件再次升级，多位明星牵连其中？生意骗局细节大曝光\n",
      "ko\n",
      "美股期货跌1.00%，丰田汽车日本工厂停产\n",
      "zh-cn\n",
      "对标奔驰-迈巴赫，奥迪推出霍希 首款在华首发\n",
      "zh-cn\n",
      "商务笔记本电脑排名\n",
      "zh-cn\n",
      "上海地铁女乘客被屏蔽门夹住身亡\n",
      "ko\n"
     ]
    }
   ],
   "source": [
    "for title in cn_list:\n",
    "    print(title)\n",
    "    print(detect(title))"
   ]
  },
  {
   "cell_type": "code",
   "execution_count": 22,
   "metadata": {},
   "outputs": [
    {
     "name": "stdout",
     "output_type": "stream",
     "text": [
      "美股驚奇大逆轉 道瓊收復逾1000點失地\n",
      "ko\n",
      "納豆驚傳中風！侯友宜集氣 經紀人：已和豆媽聯繫確認沒事\n",
      "ko\n",
      "中共盜用澳總理微信 蓄意挑釁\n",
      "ko\n",
      "台灣新冠肺炎本土疫情激增\n",
      "ko\n",
      "HP InkTank 115 彩色連續供墨印表機\n",
      "id\n"
     ]
    }
   ],
   "source": [
    "for title in tw_list:\n",
    "    print(title)\n",
    "    print(detect(title))"
   ]
  },
  {
   "cell_type": "code",
   "execution_count": 13,
   "metadata": {},
   "outputs": [
    {
     "name": "stdout",
     "output_type": "stream",
     "text": [
      "name: Chinese     code: zh       confidence:  96.0 read bytes:  1884\n",
      "name: un          code: un       confidence:   0.0 read bytes:     0\n",
      "name: un          code: un       confidence:   0.0 read bytes:     0\n"
     ]
    }
   ],
   "source": [
    "from polyglot.detect import Detector\n",
    "\n",
    "mixed_text = \"正午阳光的新开端？\"\n",
    "for language in Detector(mixed_text).languages:\n",
    "        print(language)"
   ]
  },
  {
   "cell_type": "code",
   "execution_count": null,
   "metadata": {},
   "outputs": [],
   "source": []
  }
 ],
 "metadata": {
  "kernelspec": {
   "display_name": "Python 3",
   "language": "python",
   "name": "python3"
  },
  "language_info": {
   "codemirror_mode": {
    "name": "ipython",
    "version": 3
   },
   "file_extension": ".py",
   "mimetype": "text/x-python",
   "name": "python",
   "nbconvert_exporter": "python",
   "pygments_lexer": "ipython3",
   "version": "3.7.7"
  }
 },
 "nbformat": 4,
 "nbformat_minor": 4
}