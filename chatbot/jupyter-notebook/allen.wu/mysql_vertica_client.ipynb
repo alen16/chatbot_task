{
 "cells": [
  {
   "cell_type": "markdown",
   "id": "9318d775",
   "metadata": {},
   "source": [
    "## Part I. Link to mysql with python"
   ]
  },
  {
   "cell_type": "markdown",
   "id": "92d32f95",
   "metadata": {},
   "source": [
    "#### Install MySQL driver for python "
   ]
  },
  {
   "cell_type": "code",
   "execution_count": 1,
   "id": "188d5064",
   "metadata": {},
   "outputs": [
    {
     "name": "stdout",
     "output_type": "stream",
     "text": [
      "Looking in indexes: https://artifactory.taboolasyndication.com/artifactory/api/pypi/python-public/simple\n",
      "Looking in links: https://artifactory.taboolasyndication.com/artifactory/generic/topic-disco/whl\n",
      "Requirement already satisfied: vertica-python==1.2.0 in /opt/topic_discovery/.venv/lib/python3.7/site-packages (1.2.0)\n",
      "Requirement already satisfied: sqlalchemy-vertica-python==0.6.3 in /opt/topic_discovery/.venv/lib/python3.7/site-packages (0.6.3)\n",
      "Requirement already satisfied: pymysql==1.0.2 in /opt/topic_discovery/.venv/lib/python3.7/site-packages (1.0.2)\n",
      "Requirement already satisfied: keyring==23.4.1 in /opt/topic_discovery/.venv/lib/python3.7/site-packages (23.4.1)\n",
      "Requirement already satisfied: keyrings.cryptfile==1.3.8 in /opt/topic_discovery/.venv/lib/python3.7/site-packages (1.3.8)\n",
      "Requirement already satisfied: python-dateutil>=1.5 in /opt/topic_discovery/.venv/lib/python3.7/site-packages (from vertica-python==1.2.0) (2.8.2)\n",
      "Requirement already satisfied: six>=1.10.0 in /opt/topic_discovery/.venv/lib/python3.7/site-packages (from vertica-python==1.2.0) (1.16.0)\n",
      "Requirement already satisfied: importlib-metadata>=3.6 in /opt/topic_discovery/.venv/lib/python3.7/site-packages (from keyring==23.4.1) (6.0.0)\n",
      "Requirement already satisfied: SecretStorage>=3.2 in /opt/topic_discovery/.venv/lib/python3.7/site-packages (from keyring==23.4.1) (3.3.3)\n",
      "Requirement already satisfied: jeepney>=0.4.2 in /opt/topic_discovery/.venv/lib/python3.7/site-packages (from keyring==23.4.1) (0.8.0)\n",
      "Requirement already satisfied: argon2-cffi in /opt/topic_discovery/.venv/lib/python3.7/site-packages (from keyrings.cryptfile==1.3.8) (23.1.0)\n",
      "Requirement already satisfied: pycryptodome in /opt/topic_discovery/.venv/lib/python3.7/site-packages (from keyrings.cryptfile==1.3.8) (3.20.0)\n",
      "Requirement already satisfied: zipp>=0.5 in /opt/topic_discovery/.venv/lib/python3.7/site-packages (from importlib-metadata>=3.6->keyring==23.4.1) (3.11.0)\n",
      "Requirement already satisfied: typing-extensions>=3.6.4 in /opt/topic_discovery/.venv/lib/python3.7/site-packages (from importlib-metadata>=3.6->keyring==23.4.1) (4.4.0)\n",
      "Requirement already satisfied: cryptography>=2.0 in /opt/topic_discovery/.venv/lib/python3.7/site-packages (from SecretStorage>=3.2->keyring==23.4.1) (42.0.5)\n",
      "Requirement already satisfied: argon2-cffi-bindings in /opt/topic_discovery/.venv/lib/python3.7/site-packages (from argon2-cffi->keyrings.cryptfile==1.3.8) (21.2.0)\n",
      "Requirement already satisfied: cffi>=1.12 in /opt/topic_discovery/.venv/lib/python3.7/site-packages (from cryptography>=2.0->SecretStorage>=3.2->keyring==23.4.1) (1.15.1)\n",
      "Requirement already satisfied: pycparser in /opt/topic_discovery/.venv/lib/python3.7/site-packages (from cffi>=1.12->cryptography>=2.0->SecretStorage>=3.2->keyring==23.4.1) (2.21)\n",
      "\u001b[33mDEPRECATION: tensorflow-serving-api 2.2.0 has a non-standard dependency specifier grpcio>=1.0<2. pip 24.1 will enforce this behaviour change. A possible replacement is to upgrade to a newer version of tensorflow-serving-api or contact the author to suggest that they release a version with a conforming dependency specifiers. Discussion can be found at https://github.com/pypa/pip/issues/12063\u001b[0m\u001b[33m\n",
      "\u001b[0m"
     ]
    }
   ],
   "source": [
    "!pip install vertica-python==1.2.0 sqlalchemy-vertica-python==0.6.3 pymysql==1.0.2 keyring==23.4.1 keyrings.cryptfile==1.3.8"
   ]
  },
  {
   "cell_type": "code",
   "execution_count": 2,
   "id": "7cd121dc",
   "metadata": {},
   "outputs": [
    {
     "name": "stdin",
     "output_type": "stream",
     "text": [
      "password for user allen.wu: ·········\n"
     ]
    }
   ],
   "source": [
    "import jupytertoolkit.common.utils as utils\n",
    "connection = utils.get_mysql_connection()"
   ]
  },
  {
   "cell_type": "markdown",
   "id": "8cd68f54",
   "metadata": {},
   "source": [
    "#### Set the sql query string"
   ]
  },
  {
   "cell_type": "code",
   "execution_count": 3,
   "id": "4b8c905b",
   "metadata": {},
   "outputs": [],
   "source": [
    "sql = '''\n",
    "SELECT distinct v.publisher_id FROM trc.videos v WHERE v.title_language = 'hin'\n",
    "'''"
   ]
  },
  {
   "cell_type": "markdown",
   "id": "aafa5000",
   "metadata": {},
   "source": [
    "#### Fetch the data with pandas df connection api\n",
    "Please be aware of the returned data size and computation complexity of the query.  "
   ]
  },
  {
   "cell_type": "code",
   "execution_count": null,
   "id": "6d7630e4",
   "metadata": {},
   "outputs": [],
   "source": [
    "import pandas as pd\n",
    "\n",
    "df = pd.read_sql(sql, connection)"
   ]
  },
  {
   "cell_type": "markdown",
   "id": "aa3c8370",
   "metadata": {},
   "source": [
    "#### Inspect the returned data"
   ]
  },
  {
   "cell_type": "code",
   "execution_count": 4,
   "id": "4acd3e90",
   "metadata": {},
   "outputs": [
    {
     "data": {
      "text/html": [
       "<div>\n",
       "<style scoped>\n",
       "    .dataframe tbody tr th:only-of-type {\n",
       "        vertical-align: middle;\n",
       "    }\n",
       "\n",
       "    .dataframe tbody tr th {\n",
       "        vertical-align: top;\n",
       "    }\n",
       "\n",
       "    .dataframe thead th {\n",
       "        text-align: right;\n",
       "    }\n",
       "</style>\n",
       "<table border=\"1\" class=\"dataframe\">\n",
       "  <thead>\n",
       "    <tr style=\"text-align: right;\">\n",
       "      <th></th>\n",
       "      <th>id</th>\n",
       "      <th>item_id</th>\n",
       "      <th>visible</th>\n",
       "      <th>title</th>\n",
       "      <th>page_url</th>\n",
       "      <th>page_mobile_url</th>\n",
       "      <th>thumbnail_url</th>\n",
       "      <th>description</th>\n",
       "      <th>price</th>\n",
       "      <th>discount_price</th>\n",
       "      <th>...</th>\n",
       "      <th>unit_pricing_measure</th>\n",
       "      <th>unit_pricing_base_measure</th>\n",
       "      <th>additional_properties</th>\n",
       "      <th>exist_in_last_crawl</th>\n",
       "      <th>update_time</th>\n",
       "      <th>manually_blocked_reason</th>\n",
       "      <th>google_category_id</th>\n",
       "      <th>advertiser_category_id</th>\n",
       "      <th>non_redirected_page_url</th>\n",
       "      <th>item_name_from_url</th>\n",
       "    </tr>\n",
       "  </thead>\n",
       "  <tbody>\n",
       "    <tr>\n",
       "      <th>0</th>\n",
       "      <td>18803</td>\n",
       "      <td>58744</td>\n",
       "      <td>0</td>\n",
       "      <td>סניקרס קנבס Chuck Taylor OX / נשים</td>\n",
       "      <td>https://www.terminalx.com/catalog/product/view...</td>\n",
       "      <td>None</td>\n",
       "      <td>https://www.terminalx.com/pub/media/catalog/pr...</td>\n",
       "      <td>נעלי סניקרס CONVERSE אייקוניות מדגם Chuck Tayl...</td>\n",
       "      <td>299.9</td>\n",
       "      <td>209.93</td>\n",
       "      <td>...</td>\n",
       "      <td>None</td>\n",
       "      <td>None</td>\n",
       "      <td>custom_label_4=2018-04-15&amp;&amp;condition=new&amp;&amp;size...</td>\n",
       "      <td>0</td>\n",
       "      <td>2024-05-01 11:39:26</td>\n",
       "      <td>0</td>\n",
       "      <td>1604</td>\n",
       "      <td>1418609</td>\n",
       "      <td>None</td>\n",
       "      <td>None</td>\n",
       "    </tr>\n",
       "    <tr>\n",
       "      <th>1</th>\n",
       "      <td>18943</td>\n",
       "      <td>87392</td>\n",
       "      <td>1</td>\n",
       "      <td>צללית EYE SHADOW</td>\n",
       "      <td>https://www.terminalx.com/catalog/product/view...</td>\n",
       "      <td>None</td>\n",
       "      <td>https://www.terminalx.com/pub/media/catalog/pr...</td>\n",
       "      <td>צללית בעלת פיגמנט חזק.</td>\n",
       "      <td>99.0</td>\n",
       "      <td>74.25</td>\n",
       "      <td>...</td>\n",
       "      <td>None</td>\n",
       "      <td>None</td>\n",
       "      <td>custom_label_4=2019-10-17&amp;&amp;condition=new&amp;&amp;size...</td>\n",
       "      <td>1</td>\n",
       "      <td>2024-04-30 23:39:22</td>\n",
       "      <td>0</td>\n",
       "      <td>1604</td>\n",
       "      <td>4789271</td>\n",
       "      <td>None</td>\n",
       "      <td>None</td>\n",
       "    </tr>\n",
       "    <tr>\n",
       "      <th>2</th>\n",
       "      <td>18944</td>\n",
       "      <td>87394</td>\n",
       "      <td>1</td>\n",
       "      <td>צללית עיניים</td>\n",
       "      <td>https://www.terminalx.com/catalog/product/view...</td>\n",
       "      <td>None</td>\n",
       "      <td>https://www.terminalx.com/pub/media/catalog/pr...</td>\n",
       "      <td>צללית בעלת פיגמנט חזק.</td>\n",
       "      <td>99.0</td>\n",
       "      <td>74.25</td>\n",
       "      <td>...</td>\n",
       "      <td>None</td>\n",
       "      <td>None</td>\n",
       "      <td>custom_label_4=2019-10-17&amp;&amp;condition=new&amp;&amp;size...</td>\n",
       "      <td>1</td>\n",
       "      <td>2024-04-30 23:39:22</td>\n",
       "      <td>0</td>\n",
       "      <td>1604</td>\n",
       "      <td>4789271</td>\n",
       "      <td>None</td>\n",
       "      <td>None</td>\n",
       "    </tr>\n",
       "    <tr>\n",
       "      <th>3</th>\n",
       "      <td>18947</td>\n",
       "      <td>87404</td>\n",
       "      <td>0</td>\n",
       "      <td>ליפסטיק Satin</td>\n",
       "      <td>https://www.terminalx.com/catalog/product/view...</td>\n",
       "      <td>None</td>\n",
       "      <td>https://www.terminalx.com/pub/media/catalog/pr...</td>\n",
       "      <td>ליפסטיק קרמי המציע מגע רך במיוחד, כיסוי בינוני...</td>\n",
       "      <td>110.0</td>\n",
       "      <td>82.50</td>\n",
       "      <td>...</td>\n",
       "      <td>None</td>\n",
       "      <td>None</td>\n",
       "      <td>condition=new&amp;&amp;size=3GR&amp;&amp;shipping=IL:::19.9 IL...</td>\n",
       "      <td>0</td>\n",
       "      <td>2024-05-01 23:39:25</td>\n",
       "      <td>0</td>\n",
       "      <td>1604</td>\n",
       "      <td>4789271</td>\n",
       "      <td>None</td>\n",
       "      <td>None</td>\n",
       "    </tr>\n",
       "    <tr>\n",
       "      <th>4</th>\n",
       "      <td>18958</td>\n",
       "      <td>87468</td>\n",
       "      <td>1</td>\n",
       "      <td>שפתון Pop Lip Color</td>\n",
       "      <td>https://www.terminalx.com/catalog/product/view...</td>\n",
       "      <td>None</td>\n",
       "      <td>https://www.terminalx.com/pub/media/catalog/pr...</td>\n",
       "      <td>שפתון עמיד בעל פורמולה עשירה אך קלילה המשלבת ג...</td>\n",
       "      <td>119.0</td>\n",
       "      <td>83.30</td>\n",
       "      <td>...</td>\n",
       "      <td>None</td>\n",
       "      <td>None</td>\n",
       "      <td>condition=new&amp;&amp;size=3.9GR&amp;&amp;shipping=IL:::19.9 ...</td>\n",
       "      <td>1</td>\n",
       "      <td>2024-04-30 23:39:22</td>\n",
       "      <td>0</td>\n",
       "      <td>1604</td>\n",
       "      <td>4789271</td>\n",
       "      <td>None</td>\n",
       "      <td>None</td>\n",
       "    </tr>\n",
       "  </tbody>\n",
       "</table>\n",
       "<p>5 rows × 38 columns</p>\n",
       "</div>"
      ],
      "text/plain": [
       "      id item_id  visible                               title  \\\n",
       "0  18803   58744        0  סניקרס קנבס Chuck Taylor OX / נשים   \n",
       "1  18943   87392        1                    צללית EYE SHADOW   \n",
       "2  18944   87394        1                        צללית עיניים   \n",
       "3  18947   87404        0                       ליפסטיק Satin   \n",
       "4  18958   87468        1                 שפתון Pop Lip Color   \n",
       "\n",
       "                                            page_url page_mobile_url  \\\n",
       "0  https://www.terminalx.com/catalog/product/view...            None   \n",
       "1  https://www.terminalx.com/catalog/product/view...            None   \n",
       "2  https://www.terminalx.com/catalog/product/view...            None   \n",
       "3  https://www.terminalx.com/catalog/product/view...            None   \n",
       "4  https://www.terminalx.com/catalog/product/view...            None   \n",
       "\n",
       "                                       thumbnail_url  \\\n",
       "0  https://www.terminalx.com/pub/media/catalog/pr...   \n",
       "1  https://www.terminalx.com/pub/media/catalog/pr...   \n",
       "2  https://www.terminalx.com/pub/media/catalog/pr...   \n",
       "3  https://www.terminalx.com/pub/media/catalog/pr...   \n",
       "4  https://www.terminalx.com/pub/media/catalog/pr...   \n",
       "\n",
       "                                         description  price  discount_price  \\\n",
       "0  נעלי סניקרס CONVERSE אייקוניות מדגם Chuck Tayl...  299.9          209.93   \n",
       "1                             צללית בעלת פיגמנט חזק.   99.0           74.25   \n",
       "2                             צללית בעלת פיגמנט חזק.   99.0           74.25   \n",
       "3  ליפסטיק קרמי המציע מגע רך במיוחד, כיסוי בינוני...  110.0           82.50   \n",
       "4  שפתון עמיד בעל פורמולה עשירה אך קלילה המשלבת ג...  119.0           83.30   \n",
       "\n",
       "   ... unit_pricing_measure  unit_pricing_base_measure  \\\n",
       "0  ...                 None                       None   \n",
       "1  ...                 None                       None   \n",
       "2  ...                 None                       None   \n",
       "3  ...                 None                       None   \n",
       "4  ...                 None                       None   \n",
       "\n",
       "                               additional_properties exist_in_last_crawl  \\\n",
       "0  custom_label_4=2018-04-15&&condition=new&&size...                   0   \n",
       "1  custom_label_4=2019-10-17&&condition=new&&size...                   1   \n",
       "2  custom_label_4=2019-10-17&&condition=new&&size...                   1   \n",
       "3  condition=new&&size=3GR&&shipping=IL:::19.9 IL...                   0   \n",
       "4  condition=new&&size=3.9GR&&shipping=IL:::19.9 ...                   1   \n",
       "\n",
       "          update_time manually_blocked_reason google_category_id  \\\n",
       "0 2024-05-01 11:39:26                       0               1604   \n",
       "1 2024-04-30 23:39:22                       0               1604   \n",
       "2 2024-04-30 23:39:22                       0               1604   \n",
       "3 2024-05-01 23:39:25                       0               1604   \n",
       "4 2024-04-30 23:39:22                       0               1604   \n",
       "\n",
       "  advertiser_category_id  non_redirected_page_url item_name_from_url  \n",
       "0                1418609                     None               None  \n",
       "1                4789271                     None               None  \n",
       "2                4789271                     None               None  \n",
       "3                4789271                     None               None  \n",
       "4                4789271                     None               None  \n",
       "\n",
       "[5 rows x 38 columns]"
      ]
     },
     "execution_count": 4,
     "metadata": {},
     "output_type": "execute_result"
    }
   ],
   "source": [
    "df.head()"
   ]
  },
  {
   "cell_type": "markdown",
   "id": "17de039f",
   "metadata": {},
   "source": [
    "Happy data wrangling!"
   ]
  },
  {
   "cell_type": "markdown",
   "id": "dcc26642",
   "metadata": {},
   "source": [
    "## PartII. Link to Vertical with python"
   ]
  },
  {
   "cell_type": "markdown",
   "id": "5c478a12",
   "metadata": {},
   "source": [
    "#### Create conneciton object"
   ]
  },
  {
   "cell_type": "code",
   "execution_count": 5,
   "id": "9b846a22",
   "metadata": {},
   "outputs": [],
   "source": [
    "import jupytertoolkit.common.utils as utils\n",
    "vertica_conn = utils.get_vertica_connection()"
   ]
  },
  {
   "cell_type": "code",
   "execution_count": 6,
   "id": "a947144f",
   "metadata": {},
   "outputs": [],
   "source": [
    "import jupytertoolkit.common.utils as utils"
   ]
  },
  {
   "cell_type": "markdown",
   "id": "10b616cc",
   "metadata": {},
   "source": [
    "#### Set the sql query string"
   ]
  },
  {
   "cell_type": "code",
   "execution_count": 7,
   "id": "40e16094",
   "metadata": {},
   "outputs": [],
   "source": [
    "import pandas.io.sql as psql\n",
    "import time\n",
    "\n",
    "query = \"SELECT distinct v.publisher_id FROM trc.videos v WHERE v.title_language = 'hin'\""
   ]
  },
  {
   "cell_type": "code",
   "execution_count": 8,
   "id": "d8d66284",
   "metadata": {},
   "outputs": [
    {
     "name": "stdout",
     "output_type": "stream",
     "text": [
      "CPU times: user 2 µs, sys: 1 µs, total: 3 µs\n",
      "Wall time: 4.53 µs\n",
      "0:00:09.858003\n"
     ]
    }
   ],
   "source": [
    "%time\n",
    "from datetime import timedelta\n",
    "start_time = time.monotonic()\n",
    "df = psql.read_sql(query, con=vertica_conn)\n",
    "end_time = time.monotonic()\n",
    "print(timedelta(seconds=end_time - start_time))"
   ]
  },
  {
   "cell_type": "markdown",
   "id": "6d73a5bb",
   "metadata": {},
   "source": [
    "#### Fetch data with vertical-python api"
   ]
  },
  {
   "cell_type": "code",
   "execution_count": 9,
   "id": "8729781e",
   "metadata": {},
   "outputs": [
    {
     "data": {
      "text/html": [
       "<div>\n",
       "<style scoped>\n",
       "    .dataframe tbody tr th:only-of-type {\n",
       "        vertical-align: middle;\n",
       "    }\n",
       "\n",
       "    .dataframe tbody tr th {\n",
       "        vertical-align: top;\n",
       "    }\n",
       "\n",
       "    .dataframe thead th {\n",
       "        text-align: right;\n",
       "    }\n",
       "</style>\n",
       "<table border=\"1\" class=\"dataframe\">\n",
       "  <thead>\n",
       "    <tr style=\"text-align: right;\">\n",
       "      <th></th>\n",
       "      <th>publisher_id</th>\n",
       "    </tr>\n",
       "  </thead>\n",
       "  <tbody>\n",
       "    <tr>\n",
       "      <th>0</th>\n",
       "      <td>1005095</td>\n",
       "    </tr>\n",
       "    <tr>\n",
       "      <th>1</th>\n",
       "      <td>1015685</td>\n",
       "    </tr>\n",
       "    <tr>\n",
       "      <th>2</th>\n",
       "      <td>1025638</td>\n",
       "    </tr>\n",
       "    <tr>\n",
       "      <th>3</th>\n",
       "      <td>1051737</td>\n",
       "    </tr>\n",
       "    <tr>\n",
       "      <th>4</th>\n",
       "      <td>1052991</td>\n",
       "    </tr>\n",
       "    <tr>\n",
       "      <th>...</th>\n",
       "      <td>...</td>\n",
       "    </tr>\n",
       "    <tr>\n",
       "      <th>3254</th>\n",
       "      <td>1631557</td>\n",
       "    </tr>\n",
       "    <tr>\n",
       "      <th>3255</th>\n",
       "      <td>1637456</td>\n",
       "    </tr>\n",
       "    <tr>\n",
       "      <th>3256</th>\n",
       "      <td>1681819</td>\n",
       "    </tr>\n",
       "    <tr>\n",
       "      <th>3257</th>\n",
       "      <td>1695950</td>\n",
       "    </tr>\n",
       "    <tr>\n",
       "      <th>3258</th>\n",
       "      <td>1711881</td>\n",
       "    </tr>\n",
       "  </tbody>\n",
       "</table>\n",
       "<p>3259 rows × 1 columns</p>\n",
       "</div>"
      ],
      "text/plain": [
       "      publisher_id\n",
       "0          1005095\n",
       "1          1015685\n",
       "2          1025638\n",
       "3          1051737\n",
       "4          1052991\n",
       "...            ...\n",
       "3254       1631557\n",
       "3255       1637456\n",
       "3256       1681819\n",
       "3257       1695950\n",
       "3258       1711881\n",
       "\n",
       "[3259 rows x 1 columns]"
      ]
     },
     "execution_count": 9,
     "metadata": {},
     "output_type": "execute_result"
    }
   ],
   "source": [
    "df"
   ]
  },
  {
   "cell_type": "markdown",
   "id": "b1b559c6",
   "metadata": {},
   "source": [
    "Happy data massaging!"
   ]
  }
 ],
 "metadata": {
  "kernelspec": {
   "display_name": "Python 3",
   "language": "python",
   "name": "python3"
  },
  "language_info": {
   "codemirror_mode": {
    "name": "ipython",
    "version": 3
   },
   "file_extension": ".py",
   "mimetype": "text/x-python",
   "name": "python",
   "nbconvert_exporter": "python",
   "pygments_lexer": "ipython3",
   "version": "3.7.7"
  }
 },
 "nbformat": 4,
 "nbformat_minor": 5
}