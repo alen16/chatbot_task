{
 "cells": [
  {
   "cell_type": "code",
   "execution_count": 1,
   "id": "1583b161",
   "metadata": {},
   "outputs": [
    {
     "name": "stdout",
     "output_type": "stream",
     "text": [
      "{'apple': '蘋果', 'orange': '橘子'}\n"
     ]
    }
   ],
   "source": [
    "#--encoding: utf-8--#\n",
    "word_dict = {'apple': '蘋果', 'orange': '橘子'}\n",
    "print(word_dict)"
   ]
  },
  {
   "cell_type": "code",
   "execution_count": 2,
   "id": "c566b665",
   "metadata": {},
   "outputs": [],
   "source": [
    "del word_dict['apple']\n"
   ]
  },
  {
   "cell_type": "code",
   "execution_count": 3,
   "id": "f807f9db",
   "metadata": {},
   "outputs": [
    {
     "name": "stdout",
     "output_type": "stream",
     "text": [
      "橘子\n"
     ]
    }
   ],
   "source": [
    "print(word_dict['orange'])"
   ]
  },
  {
   "cell_type": "code",
   "execution_count": 27,
   "id": "3514cd99",
   "metadata": {},
   "outputs": [],
   "source": [
    "def lowercase_title(text: str) -> str:\n",
    "    words = text.split(\" \")\n",
    "    capitalized_words = [word for word in words if not word.islower() and not word.isupper()]\n",
    "    # If more then 50% of words are capitalized, do lowercased except for the beginning word\n",
    "    print(len(capitalized_words), len(words))\n",
    "    if len(capitalized_words) > len(words) / 2:\n",
    "        text = text.capitalize()\n",
    "    return text"
   ]
  },
  {
   "cell_type": "code",
   "execution_count": 29,
   "id": "573c083e",
   "metadata": {},
   "outputs": [
    {
     "name": "stdout",
     "output_type": "stream",
     "text": [
      "7 21\n"
     ]
    }
   ],
   "source": [
    "text = \"The Not-so-friendly Skies! Ex-NFL player Brendan Langley, 27, is charged with assault after being filmed in brawl with United Airlines worker\"\n",
    "text2 = \"HERE'S WHERE KANYE WEST WAS DURING KOURTNEY KARDASHIAN AND TRAVIS BARKER'S ITALIAN WEDDING\"\n",
    "new_text = lowercase_title(text)"
   ]
  },
  {
   "cell_type": "code",
   "execution_count": 26,
   "id": "808d0e57",
   "metadata": {},
   "outputs": [
    {
     "name": "stdout",
     "output_type": "stream",
     "text": [
      "Here's where kanye west was during kourtney kardashian and travis barker's italian wedding\n"
     ]
    }
   ],
   "source": [
    "print(new_text)"
   ]
  },
  {
   "cell_type": "code",
   "execution_count": null,
   "id": "a4798f32",
   "metadata": {},
   "outputs": [],
   "source": [
    "! hdfs dfs -get hdfs://nr-hbase-c-hdfs.service.consul.taboolasyndication.com/newsroom-backend/jupyter/notebooks/yu-kai/high_intents/elasticsearch/data/AT_LA-46260_final.csv  /cache/data"
   ]
  },
  {
   "cell_type": "code",
   "execution_count": 6,
   "id": "e07a2df9",
   "metadata": {},
   "outputs": [
    {
     "name": "stdout",
     "output_type": "stream",
     "text": [
      "2023-02-02 18:52:39,534 INFO fs.TrashPolicyDefault: Moved: 'hdfs://nr-hbase-c-hdfs.service.consul.taboolasyndication.com/newsroom-backend/jupyter/notebooks/yu-kai/high_intents/elasticsearch/terms_explorer-Copy1.ipynb' to trash at: hdfs://nr-hbase-c-hdfs.service.consul.taboolasyndication.com/user/newsroom/.Trash/Current/newsroom-backend/jupyter/notebooks/yu-kai/high_intents/elasticsearch/terms_explorer-Copy1.ipynb\n"
     ]
    }
   ],
   "source": [
    "! hdfs dfs -rm hdfs://nr-hbase-c-hdfs.service.consul.taboolasyndication.com/newsroom-backend/jupyter/notebooks/yu-kai/high_intents/elasticsearch/terms_explorer-Copy1.ipynb"
   ]
  },
  {
   "cell_type": "code",
   "execution_count": 5,
   "id": "3fe19583",
   "metadata": {},
   "outputs": [
    {
     "name": "stdout",
     "output_type": "stream",
     "text": [
      "2023-02-02 18:51:53,484 INFO sasl.SaslDataTransferClient: SASL encryption trust check: localHostTrusted = false, remoteHostTrusted = false\n",
      "2023-02-02 18:51:53,545 INFO sasl.SaslDataTransferClient: SASL encryption trust check: localHostTrusted = false, remoteHostTrusted = false\n"
     ]
    }
   ],
   "source": [
    "! hdfs dfs -cp hdfs://nr-hbase-c-hdfs.service.consul.taboolasyndication.com/newsroom-backend/jupyter/notebooks/yu-kai/high_intents/elasticsearch/terms_explorer.ipynb hdfs://nr-hbase-c-hdfs.service.consul.taboolasyndication.com/newsroom-backend/jupyter/notebooks/allen.wu/high_intent/"
   ]
  },
  {
   "cell_type": "code",
   "execution_count": null,
   "id": "e0e17651",
   "metadata": {},
   "outputs": [],
   "source": []
  }
 ],
 "metadata": {
  "kernelspec": {
   "display_name": "Python 3 (ipykernel)",
   "language": "python",
   "name": "python3"
  },
  "language_info": {
   "codemirror_mode": {
    "name": "ipython",
    "version": 3
   },
   "file_extension": ".py",
   "mimetype": "text/x-python",
   "name": "python",
   "nbconvert_exporter": "python",
   "pygments_lexer": "ipython3",
   "version": "3.9.16"
  }
 },
 "nbformat": 4,
 "nbformat_minor": 5
}